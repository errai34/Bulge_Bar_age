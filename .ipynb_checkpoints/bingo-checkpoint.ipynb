{
 "cells": [
  {
   "cell_type": "code",
   "execution_count": 1,
   "metadata": {
    "id": "kyG1dd0Pfinx"
   },
   "outputs": [
    {
     "name": "stderr",
     "output_type": "stream",
     "text": [
      "WARNING (theano.tensor.blas): Using NumPy C-API based implementation for BLAS functions.\n"
     ]
    }
   ],
   "source": [
    "import numpy as np\n",
    "from scipy import stats\n",
    "import pymc3 as pm\n",
    "import theano\n",
    "import theano.tensor as tt\n",
    "import pandas as pd\n",
    "import os\n",
    "from pymc3 import floatX as floatX_pymc3\n",
    "from pymc3.theanof import set_tt_rng, MRG_RandomStreams\n",
    "from warnings import filterwarnings\n",
    "from collections import defaultdict\n",
    "import pickle\n"
   ]
  },
  {
   "cell_type": "code",
   "execution_count": 2,
   "metadata": {
    "id": "i1Ij7VwJfnif"
   },
   "outputs": [],
   "source": [
    "filterwarnings('ignore')\n",
    "np.random.seed(1234)\n",
    "floatX = theano.config.floatX\n",
    "ninit = 500\n",
    "nchains = 4\n",
    "ncores = 4\n",
    "nsamples = 1000"
   ]
  },
  {
   "cell_type": "code",
   "execution_count": 3,
   "metadata": {
    "id": "Rbx3W0HEfwp2"
   },
   "outputs": [],
   "source": [
    "cache_file_bnn = '/BNN_logAge_AllTrainedNormAandS_modelA_test_1.trace'"
   ]
  },
  {
   "cell_type": "code",
   "execution_count": 4,
   "metadata": {
    "id": "sZn0f0A2gR-w"
   },
   "outputs": [],
   "source": [
    "def get_data(input_data):\n",
    "\n",
    "    # Assuming your data is in a fits table you want to make it into a pandas dataframe (maybe to use if for Keras)\n",
    "    # Assumes here you've done most of the data handling in a different code\n",
    "    train_dataset = pd.read_csv(input_data)\n",
    "    train_dataset = train_dataset.sample(500)\n",
    "    print(\"The length of the data sample is:\", len(train_dataset))\n",
    "\n",
    "    # Here is when you choose the sample size for your data etc\n",
    "\n",
    "    #train_stats = train_dataset.describe()\n",
    "    #train_head = train_dataset.head(2)\n",
    "    #print(\"The stats of the training set\", train_stats)\n",
    "    #print(\"The head of the training set\", train_head)\n",
    "\n",
    "    loggTrain = np.array(train_dataset['LOGG_NORM']).astype(floatX)\n",
    "    teffTrain = np.array(train_dataset['TEFF_NORM']).astype(floatX)\n",
    "    mgfeTrain = np.array(train_dataset['MG_FE_NORM']).astype(floatX)\n",
    "    #use mg_h, fe_h, c_h, n_h, so no c_fe, n_fe no alpha_m either\n",
    "    # use asteroseimic distance for shuffling\n",
    "    # correct the G magnitude using the code online\n",
    "    # for now make it work this way\n",
    "    # then change the mags and update c/fe -> c/h\n",
    "    fehTrain = np.array(train_dataset['FE_H_NORM']).astype(floatX)\n",
    "    cfeTrain = np.array(train_dataset['C_FE_NORM']).astype(floatX)\n",
    "    nfeTrain = np.array(train_dataset['N_FE_NORM']).astype(floatX)\n",
    "    gmagTrain = np.array(train_dataset['G_NORM']).astype(floatX)\n",
    "    bpmagTrain = np.array(train_dataset['BP_NORM']).astype(floatX)\n",
    "    rpmagTrain = np.array(train_dataset['RP_NORM']).astype(floatX)\n",
    "    jmagTrain = np.array(train_dataset['J_NORM']).astype(floatX)\n",
    "    hmagTrain = np.array(train_dataset['H_NORM']).astype(floatX)\n",
    "    kmagTrain = np.array(train_dataset['K_NORM']).astype(floatX)\n",
    "\n",
    "    loggTrain_err = np.array(train_dataset['LOGG_ERR_NORM']).astype(floatX)\n",
    "    teffTrain_err = np.array(train_dataset['TEFF_ERR_NORM']).astype(floatX)\n",
    "    mgfeTrain_err = np.array(train_dataset['MG_FE_ERR_NORM']).astype(floatX)\n",
    "    fehTrain_err = np.array(train_dataset['FE_H_ERR_NORM']).astype(floatX)\n",
    "    cfeTrain_err = np.array(train_dataset['C_FE_ERR_NORM']).astype(floatX)\n",
    "    nfeTrain_err = np.array(train_dataset['N_FE_ERR_NORM']).astype(floatX)\n",
    "    gmagTrain_err = np.array(train_dataset['G_ERR_NORM']).astype(floatX)\n",
    "    bpmagTrain_err = np.array(train_dataset['BP_ERR_NORM']).astype(floatX)\n",
    "    rpmagTrain_err = np.array(train_dataset['RP_ERR_NORM']).astype(floatX)\n",
    "    jmagTrain_err= np.array(train_dataset['J_ERR_NORM']).astype(floatX)\n",
    "    hmagTrain_err = np.array(train_dataset['H_ERR_NORM']).astype(floatX)\n",
    "    kmagTrain_err = np.array(train_dataset['K_ERR_NORM']).astype(floatX)\n",
    "\n",
    "    logAgeTrain = np.array(train_dataset['logAge']).astype(floatX)\n",
    "    logAgeTrain_err =  np.array(train_dataset['logAgeErr']).astype(floatX)\n",
    "\n",
    "    inputsTrain = np.column_stack((loggTrain, teffTrain, mgfeTrain, fehTrain, cfeTrain, nfeTrain, \\\n",
    "                              gmagTrain, bpmagTrain, rpmagTrain, jmagTrain, hmagTrain, kmagTrain))\n",
    "    errInputsTrain = np.column_stack((loggTrain_err, teffTrain_err, mgfeTrain_err, fehTrain_err, cfeTrain_err, nfeTrain_err, \\\n",
    "                                  gmagTrain_err, bpmagTrain_err, rpmagTrain_err, jmagTrain_err, \\\n",
    "                                  hmagTrain_err, kmagTrain_err))\n",
    "\n",
    "    targetsTrain    = np.array(logAgeTrain)\n",
    "    errTargetsTrain = np.array(logAgeTrain_err)\n",
    "\n",
    "    # Make the arrays a floatX array\n",
    "    inputsTrain = inputsTrain.astype(floatX)\n",
    "    errInputsTrain = errInputsTrain.astype(floatX)\n",
    "\n",
    "    targetsTrain = targetsTrain.astype(floatX)\n",
    "    errTargetsTrain = errTargetsTrain.astype(floatX)\n",
    "\n",
    "    # First rule of a machine learning project: standardize the data. It has been standardized in dataAugmentation.py\n",
    "    # Data Processing.ipynb -> Data Augmentation.ipynb -> HBNN_train_Model\n",
    "    # Note: might need the mu and standard deviation but for now I think we are fine\n",
    "\n",
    "    return inputsTrain, errInputsTrain, targetsTrain, errTargetsTrain"
   ]
  },
  {
   "cell_type": "code",
   "execution_count": 5,
   "metadata": {
    "colab": {
     "base_uri": "https://localhost:8080/"
    },
    "id": "XZxeLEZLf9fp",
    "outputId": "6b56a053-b0bd-41c3-8763-a63d462c0fae"
   },
   "outputs": [
    {
     "ename": "FileNotFoundError",
     "evalue": "[Errno 2] File AllTrainedNormAugShuffled_test.csv does not exist: 'AllTrainedNormAugShuffled_test.csv'",
     "output_type": "error",
     "traceback": [
      "\u001b[0;31m---------------------------------------------------------------------------\u001b[0m",
      "\u001b[0;31mFileNotFoundError\u001b[0m                         Traceback (most recent call last)",
      "\u001b[0;32m<ipython-input-5-872f5744d168>\u001b[0m in \u001b[0;36m<module>\u001b[0;34m\u001b[0m\n\u001b[1;32m      1\u001b[0m \u001b[0mdata\u001b[0m \u001b[0;34m=\u001b[0m \u001b[0;34m'AllTrainedNormAugShuffled_test.csv'\u001b[0m\u001b[0;34m\u001b[0m\u001b[0;34m\u001b[0m\u001b[0m\n\u001b[1;32m      2\u001b[0m \u001b[0;31m# Only use two small datasets for testing purposes\u001b[0m\u001b[0;34m\u001b[0m\u001b[0;34m\u001b[0m\u001b[0;34m\u001b[0m\u001b[0m\n\u001b[0;32m----> 3\u001b[0;31m \u001b[0minputsTrain\u001b[0m\u001b[0;34m,\u001b[0m \u001b[0merrInputsTrain\u001b[0m\u001b[0;34m,\u001b[0m \u001b[0mtargetsTrain\u001b[0m\u001b[0;34m,\u001b[0m \u001b[0merrTargetsTrain\u001b[0m \u001b[0;34m=\u001b[0m \u001b[0mget_data\u001b[0m\u001b[0;34m(\u001b[0m\u001b[0mdata\u001b[0m\u001b[0;34m)\u001b[0m\u001b[0;34m\u001b[0m\u001b[0;34m\u001b[0m\u001b[0m\n\u001b[0m",
      "\u001b[0;32m<ipython-input-4-7a38b7ca33fb>\u001b[0m in \u001b[0;36mget_data\u001b[0;34m(input_data)\u001b[0m\n\u001b[1;32m      3\u001b[0m     \u001b[0;31m# Assuming your data is in a fits table you want to make it into a pandas dataframe (maybe to use if for Keras)\u001b[0m\u001b[0;34m\u001b[0m\u001b[0;34m\u001b[0m\u001b[0;34m\u001b[0m\u001b[0m\n\u001b[1;32m      4\u001b[0m     \u001b[0;31m# Assumes here you've done most of the data handling in a different code\u001b[0m\u001b[0;34m\u001b[0m\u001b[0;34m\u001b[0m\u001b[0;34m\u001b[0m\u001b[0m\n\u001b[0;32m----> 5\u001b[0;31m     \u001b[0mtrain_dataset\u001b[0m \u001b[0;34m=\u001b[0m \u001b[0mpd\u001b[0m\u001b[0;34m.\u001b[0m\u001b[0mread_csv\u001b[0m\u001b[0;34m(\u001b[0m\u001b[0minput_data\u001b[0m\u001b[0;34m)\u001b[0m\u001b[0;34m\u001b[0m\u001b[0;34m\u001b[0m\u001b[0m\n\u001b[0m\u001b[1;32m      6\u001b[0m     \u001b[0mtrain_dataset\u001b[0m \u001b[0;34m=\u001b[0m \u001b[0mtrain_dataset\u001b[0m\u001b[0;34m.\u001b[0m\u001b[0msample\u001b[0m\u001b[0;34m(\u001b[0m\u001b[0;36m500\u001b[0m\u001b[0;34m)\u001b[0m\u001b[0;34m\u001b[0m\u001b[0;34m\u001b[0m\u001b[0m\n\u001b[1;32m      7\u001b[0m     \u001b[0mprint\u001b[0m\u001b[0;34m(\u001b[0m\u001b[0;34m\"The length of the data sample is:\"\u001b[0m\u001b[0;34m,\u001b[0m \u001b[0mlen\u001b[0m\u001b[0;34m(\u001b[0m\u001b[0mtrain_dataset\u001b[0m\u001b[0;34m)\u001b[0m\u001b[0;34m)\u001b[0m\u001b[0;34m\u001b[0m\u001b[0;34m\u001b[0m\u001b[0m\n",
      "\u001b[0;32m~/anaconda3/envs/moreDL/lib/python3.6/site-packages/pandas/io/parsers.py\u001b[0m in \u001b[0;36mparser_f\u001b[0;34m(filepath_or_buffer, sep, delimiter, header, names, index_col, usecols, squeeze, prefix, mangle_dupe_cols, dtype, engine, converters, true_values, false_values, skipinitialspace, skiprows, skipfooter, nrows, na_values, keep_default_na, na_filter, verbose, skip_blank_lines, parse_dates, infer_datetime_format, keep_date_col, date_parser, dayfirst, cache_dates, iterator, chunksize, compression, thousands, decimal, lineterminator, quotechar, quoting, doublequote, escapechar, comment, encoding, dialect, error_bad_lines, warn_bad_lines, delim_whitespace, low_memory, memory_map, float_precision)\u001b[0m\n\u001b[1;32m    674\u001b[0m         )\n\u001b[1;32m    675\u001b[0m \u001b[0;34m\u001b[0m\u001b[0m\n\u001b[0;32m--> 676\u001b[0;31m         \u001b[0;32mreturn\u001b[0m \u001b[0m_read\u001b[0m\u001b[0;34m(\u001b[0m\u001b[0mfilepath_or_buffer\u001b[0m\u001b[0;34m,\u001b[0m \u001b[0mkwds\u001b[0m\u001b[0;34m)\u001b[0m\u001b[0;34m\u001b[0m\u001b[0;34m\u001b[0m\u001b[0m\n\u001b[0m\u001b[1;32m    677\u001b[0m \u001b[0;34m\u001b[0m\u001b[0m\n\u001b[1;32m    678\u001b[0m     \u001b[0mparser_f\u001b[0m\u001b[0;34m.\u001b[0m\u001b[0m__name__\u001b[0m \u001b[0;34m=\u001b[0m \u001b[0mname\u001b[0m\u001b[0;34m\u001b[0m\u001b[0;34m\u001b[0m\u001b[0m\n",
      "\u001b[0;32m~/anaconda3/envs/moreDL/lib/python3.6/site-packages/pandas/io/parsers.py\u001b[0m in \u001b[0;36m_read\u001b[0;34m(filepath_or_buffer, kwds)\u001b[0m\n\u001b[1;32m    446\u001b[0m \u001b[0;34m\u001b[0m\u001b[0m\n\u001b[1;32m    447\u001b[0m     \u001b[0;31m# Create the parser.\u001b[0m\u001b[0;34m\u001b[0m\u001b[0;34m\u001b[0m\u001b[0;34m\u001b[0m\u001b[0m\n\u001b[0;32m--> 448\u001b[0;31m     \u001b[0mparser\u001b[0m \u001b[0;34m=\u001b[0m \u001b[0mTextFileReader\u001b[0m\u001b[0;34m(\u001b[0m\u001b[0mfp_or_buf\u001b[0m\u001b[0;34m,\u001b[0m \u001b[0;34m**\u001b[0m\u001b[0mkwds\u001b[0m\u001b[0;34m)\u001b[0m\u001b[0;34m\u001b[0m\u001b[0;34m\u001b[0m\u001b[0m\n\u001b[0m\u001b[1;32m    449\u001b[0m \u001b[0;34m\u001b[0m\u001b[0m\n\u001b[1;32m    450\u001b[0m     \u001b[0;32mif\u001b[0m \u001b[0mchunksize\u001b[0m \u001b[0;32mor\u001b[0m \u001b[0miterator\u001b[0m\u001b[0;34m:\u001b[0m\u001b[0;34m\u001b[0m\u001b[0;34m\u001b[0m\u001b[0m\n",
      "\u001b[0;32m~/anaconda3/envs/moreDL/lib/python3.6/site-packages/pandas/io/parsers.py\u001b[0m in \u001b[0;36m__init__\u001b[0;34m(self, f, engine, **kwds)\u001b[0m\n\u001b[1;32m    878\u001b[0m             \u001b[0mself\u001b[0m\u001b[0;34m.\u001b[0m\u001b[0moptions\u001b[0m\u001b[0;34m[\u001b[0m\u001b[0;34m\"has_index_names\"\u001b[0m\u001b[0;34m]\u001b[0m \u001b[0;34m=\u001b[0m \u001b[0mkwds\u001b[0m\u001b[0;34m[\u001b[0m\u001b[0;34m\"has_index_names\"\u001b[0m\u001b[0;34m]\u001b[0m\u001b[0;34m\u001b[0m\u001b[0;34m\u001b[0m\u001b[0m\n\u001b[1;32m    879\u001b[0m \u001b[0;34m\u001b[0m\u001b[0m\n\u001b[0;32m--> 880\u001b[0;31m         \u001b[0mself\u001b[0m\u001b[0;34m.\u001b[0m\u001b[0m_make_engine\u001b[0m\u001b[0;34m(\u001b[0m\u001b[0mself\u001b[0m\u001b[0;34m.\u001b[0m\u001b[0mengine\u001b[0m\u001b[0;34m)\u001b[0m\u001b[0;34m\u001b[0m\u001b[0;34m\u001b[0m\u001b[0m\n\u001b[0m\u001b[1;32m    881\u001b[0m \u001b[0;34m\u001b[0m\u001b[0m\n\u001b[1;32m    882\u001b[0m     \u001b[0;32mdef\u001b[0m \u001b[0mclose\u001b[0m\u001b[0;34m(\u001b[0m\u001b[0mself\u001b[0m\u001b[0;34m)\u001b[0m\u001b[0;34m:\u001b[0m\u001b[0;34m\u001b[0m\u001b[0;34m\u001b[0m\u001b[0m\n",
      "\u001b[0;32m~/anaconda3/envs/moreDL/lib/python3.6/site-packages/pandas/io/parsers.py\u001b[0m in \u001b[0;36m_make_engine\u001b[0;34m(self, engine)\u001b[0m\n\u001b[1;32m   1112\u001b[0m     \u001b[0;32mdef\u001b[0m \u001b[0m_make_engine\u001b[0m\u001b[0;34m(\u001b[0m\u001b[0mself\u001b[0m\u001b[0;34m,\u001b[0m \u001b[0mengine\u001b[0m\u001b[0;34m=\u001b[0m\u001b[0;34m\"c\"\u001b[0m\u001b[0;34m)\u001b[0m\u001b[0;34m:\u001b[0m\u001b[0;34m\u001b[0m\u001b[0;34m\u001b[0m\u001b[0m\n\u001b[1;32m   1113\u001b[0m         \u001b[0;32mif\u001b[0m \u001b[0mengine\u001b[0m \u001b[0;34m==\u001b[0m \u001b[0;34m\"c\"\u001b[0m\u001b[0;34m:\u001b[0m\u001b[0;34m\u001b[0m\u001b[0;34m\u001b[0m\u001b[0m\n\u001b[0;32m-> 1114\u001b[0;31m             \u001b[0mself\u001b[0m\u001b[0;34m.\u001b[0m\u001b[0m_engine\u001b[0m \u001b[0;34m=\u001b[0m \u001b[0mCParserWrapper\u001b[0m\u001b[0;34m(\u001b[0m\u001b[0mself\u001b[0m\u001b[0;34m.\u001b[0m\u001b[0mf\u001b[0m\u001b[0;34m,\u001b[0m \u001b[0;34m**\u001b[0m\u001b[0mself\u001b[0m\u001b[0;34m.\u001b[0m\u001b[0moptions\u001b[0m\u001b[0;34m)\u001b[0m\u001b[0;34m\u001b[0m\u001b[0;34m\u001b[0m\u001b[0m\n\u001b[0m\u001b[1;32m   1115\u001b[0m         \u001b[0;32melse\u001b[0m\u001b[0;34m:\u001b[0m\u001b[0;34m\u001b[0m\u001b[0;34m\u001b[0m\u001b[0m\n\u001b[1;32m   1116\u001b[0m             \u001b[0;32mif\u001b[0m \u001b[0mengine\u001b[0m \u001b[0;34m==\u001b[0m \u001b[0;34m\"python\"\u001b[0m\u001b[0;34m:\u001b[0m\u001b[0;34m\u001b[0m\u001b[0;34m\u001b[0m\u001b[0m\n",
      "\u001b[0;32m~/anaconda3/envs/moreDL/lib/python3.6/site-packages/pandas/io/parsers.py\u001b[0m in \u001b[0;36m__init__\u001b[0;34m(self, src, **kwds)\u001b[0m\n\u001b[1;32m   1889\u001b[0m         \u001b[0mkwds\u001b[0m\u001b[0;34m[\u001b[0m\u001b[0;34m\"usecols\"\u001b[0m\u001b[0;34m]\u001b[0m \u001b[0;34m=\u001b[0m \u001b[0mself\u001b[0m\u001b[0;34m.\u001b[0m\u001b[0musecols\u001b[0m\u001b[0;34m\u001b[0m\u001b[0;34m\u001b[0m\u001b[0m\n\u001b[1;32m   1890\u001b[0m \u001b[0;34m\u001b[0m\u001b[0m\n\u001b[0;32m-> 1891\u001b[0;31m         \u001b[0mself\u001b[0m\u001b[0;34m.\u001b[0m\u001b[0m_reader\u001b[0m \u001b[0;34m=\u001b[0m \u001b[0mparsers\u001b[0m\u001b[0;34m.\u001b[0m\u001b[0mTextReader\u001b[0m\u001b[0;34m(\u001b[0m\u001b[0msrc\u001b[0m\u001b[0;34m,\u001b[0m \u001b[0;34m**\u001b[0m\u001b[0mkwds\u001b[0m\u001b[0;34m)\u001b[0m\u001b[0;34m\u001b[0m\u001b[0;34m\u001b[0m\u001b[0m\n\u001b[0m\u001b[1;32m   1892\u001b[0m         \u001b[0mself\u001b[0m\u001b[0;34m.\u001b[0m\u001b[0munnamed_cols\u001b[0m \u001b[0;34m=\u001b[0m \u001b[0mself\u001b[0m\u001b[0;34m.\u001b[0m\u001b[0m_reader\u001b[0m\u001b[0;34m.\u001b[0m\u001b[0munnamed_cols\u001b[0m\u001b[0;34m\u001b[0m\u001b[0;34m\u001b[0m\u001b[0m\n\u001b[1;32m   1893\u001b[0m \u001b[0;34m\u001b[0m\u001b[0m\n",
      "\u001b[0;32mpandas/_libs/parsers.pyx\u001b[0m in \u001b[0;36mpandas._libs.parsers.TextReader.__cinit__\u001b[0;34m()\u001b[0m\n",
      "\u001b[0;32mpandas/_libs/parsers.pyx\u001b[0m in \u001b[0;36mpandas._libs.parsers.TextReader._setup_parser_source\u001b[0;34m()\u001b[0m\n",
      "\u001b[0;31mFileNotFoundError\u001b[0m: [Errno 2] File AllTrainedNormAugShuffled_test.csv does not exist: 'AllTrainedNormAugShuffled_test.csv'"
     ]
    }
   ],
   "source": [
    "data = 'AllTrainedNormAugShuffled_test.csv'\n",
    "# Only use two small datasets for testing purposes\n",
    "inputsTrain, errInputsTrain, targetsTrain, errTargetsTrain = get_data(data)"
   ]
  },
  {
   "cell_type": "code",
   "execution_count": 7,
   "metadata": {
    "colab": {
     "base_uri": "https://localhost:8080/"
    },
    "id": "1ol5PojFgbPF",
    "outputId": "e128ef0a-df96-484b-da53-e906c0d45e38"
   },
   "outputs": [
    {
     "name": "stdout",
     "output_type": "stream",
     "text": [
      "Number of training samples:  500\n"
     ]
    }
   ],
   "source": [
    "# Only use two small datasets for testing purposes\n",
    "ntrain = len(inputsTrain)\n",
    "print(\"Number of training samples: \", ntrain)\n",
    "\n",
    "XsTrain = inputsTrain\n",
    "YsTrain = targetsTrain\n",
    "\n",
    "errXsTrain = errInputsTrain\n",
    "errYsTrain = errTargetsTrain\n",
    "\n",
    "ntargets = 1\n",
    "n_hidden = 16"
   ]
  },
  {
   "cell_type": "code",
   "execution_count": 8,
   "metadata": {
    "id": "6R2_pxjPgnTc"
   },
   "outputs": [],
   "source": [
    "def construct_nn(annInput, errAnnInput, annTarget, errAnnTarget):\n",
    "\n",
    "    # Initialize random weights between each layer\n",
    "    init_1 = np.random.randn(XsTrain.shape[1], n_hidden).astype(floatX)\n",
    "    init_2 = np.random.randn(n_hidden, n_hidden).astype(floatX)\n",
    "    init_out = np.random.randn(n_hidden).astype(floatX)\n",
    "\n",
    "    bias_init_1  = np.random.randn(n_hidden)\n",
    "    bias_init_2 = np.random.randn(n_hidden)\n",
    "    bias_out = np.random.randn(ntargets)\n",
    "\n",
    "    with pm.Model() as neural_network:\n",
    "\n",
    "        Xs_true = pm.Normal('xtrue', mu=0., sd=20., shape = annInput.shape.eval(), testval=annInput.eval())\n",
    "        weights_in_1 = pm.Normal('w_in_1', 0., sd=1.,\n",
    "                                 shape=(XsTrain.shape[1], n_hidden),\n",
    "                                 testval=init_1)\n",
    "        bias_in_1 = pm.Normal('b_in_1', 0., sd=1., shape=(n_hidden), testval = bias_init_1)\n",
    "\n",
    "        # Weights from 1st to 2nd layer\n",
    "        weights_1_2 = pm.Normal('w_1_2', mu=0., sd=1.,\n",
    "                                shape=(n_hidden, n_hidden),\n",
    "                                testval=init_2)\n",
    "        bias_1_2 = pm.Normal('b_1_2', mu=0., sd=1.,\n",
    "                                shape=(n_hidden,),\n",
    "                                testval=bias_init_2)\n",
    "\n",
    "        # Weights from hidden layer to output\n",
    "        weights_2_out = pm.Normal('w_2_out', mu=0., sd=1.,\n",
    "                                  shape=(n_hidden,),\n",
    "                                  testval=init_out)\n",
    "        bias_2_out = pm.Normal('b_2_out', mu=0., sd=1., shape=(ntargets), testval=bias_out)\n",
    "\n",
    "        # Build neural-networtt.nnet.relu activation function\n",
    "        act_1 = tt.nnet.relu(pm.math.dot(Xs_true, weights_in_1) + bias_in_1)\n",
    "        act_2 = tt.nnet.relu(pm.math.dot(act_1, weights_1_2) + bias_1_2)\n",
    "        act_out = pm.math.dot(act_2, weights_2_out) +  bias_2_out\n",
    "\n",
    "        likelihood_x = pm.Normal('x', mu=Xs_true, sd=errAnnInput, observed=annInput)\n",
    "\n",
    "\n",
    "        # Binary classification -> Bernoulli likelihood\n",
    "        out = pm.Normal('out', act_out, observed=annTarget, sd=errAnnTarget,\n",
    "                         total_size=YsTrain.shape[0])\n",
    "\n",
    "    return neural_network"
   ]
  },
  {
   "cell_type": "code",
   "execution_count": 9,
   "metadata": {
    "id": "x9qtVnwsgrpZ"
   },
   "outputs": [],
   "source": [
    "annInput = theano.shared(XsTrain)\n",
    "annTarget = theano.shared(YsTrain)\n",
    "errAnnInput = theano.shared(errXsTrain)\n",
    "errAnnTarget = theano.shared(errYsTrain)"
   ]
  },
  {
   "cell_type": "code",
   "execution_count": 10,
   "metadata": {
    "id": "v-ts7v9lguCN"
   },
   "outputs": [],
   "source": [
    "neural_network = construct_nn(annInput, errAnnInput, annTarget, errAnnTarget)"
   ]
  },
  {
   "cell_type": "code",
   "execution_count": 13,
   "metadata": {
    "colab": {
     "base_uri": "https://localhost:8080/"
    },
    "id": "_ufr8NsFgwBz",
    "outputId": "7b449c54-c934-493c-a0d2-9f7ea09e3b93"
   },
   "outputs": [
    {
     "name": "stderr",
     "output_type": "stream",
     "text": [
      "Auto-assigning NUTS sampler...\n",
      "Initializing NUTS using jitter+adapt_diag...\n"
     ]
    },
    {
     "name": "stdout",
     "output_type": "stream",
     "text": [
      "Starting the training of the BNN...\n"
     ]
    },
    {
     "name": "stderr",
     "output_type": "stream",
     "text": [
      "WARNING (theano.tensor.blas): We did not find a dynamic library in the library_dir of the library we use for blas. If you use ATLAS, make sure to compile it with dynamics library.\n",
      "WARNING (theano.tensor.blas): We did not find a dynamic library in the library_dir of the library we use for blas. If you use ATLAS, make sure to compile it with dynamics library.\n",
      "Multiprocess sampling (4 chains in 4 jobs)\n",
      "NUTS: [b_2_out, w_2_out, b_1_2, w_1_2, b_in_1, w_in_1, xtrue]\n",
      "Sampling 4 chains: 100%|██████████| 5000/5000 [00:33<00:00, 150.66draws/s]\n",
      "There were 76 divergences after tuning. Increase `target_accept` or reparameterize.\n",
      "The acceptance probability does not match the target. It is 0.9875370458637367, but should be close to 0.9. Try to increase the number of tuning steps.\n",
      "There were 72 divergences after tuning. Increase `target_accept` or reparameterize.\n",
      "The acceptance probability does not match the target. It is 0.9889550231539422, but should be close to 0.9. Try to increase the number of tuning steps.\n",
      "There were 553 divergences after tuning. Increase `target_accept` or reparameterize.\n",
      "The acceptance probability does not match the target. It is 0.7963002657925, but should be close to 0.9. Try to increase the number of tuning steps.\n",
      "There were 325 divergences after tuning. Increase `target_accept` or reparameterize.\n",
      "The gelman-rubin statistic is larger than 1.4 for some parameters. The sampler did not converge.\n",
      "The estimated number of effective samples is smaller than 200 for some parameters.\n"
     ]
    },
    {
     "name": "stdout",
     "output_type": "stream",
     "text": [
      "Done...\n"
     ]
    }
   ],
   "source": [
    "print(\"Starting the training of the BNN...\")\n",
    "\n",
    "if not os.path.exists(cache_file_bnn):\n",
    "\n",
    "    with neural_network:\n",
    "        #fit model\n",
    "        trace = pm.sample(draws=nsamples, init='jitter+adapt_diag', n_init=ninit, tune=ninit//2, chains=nchains, cores=ncores,\n",
    "                     nuts_kwargs={'target_accept': 0.90}, discard_tuned_samples=True, compute_convergence_checks=True,\n",
    "                     progressbar=True)\n",
    "    pm.save_trace(trace, directory=cache_file_bnn)\n",
    "else:\n",
    "    trace = pm.load_trace(cache_file_bnn, model=neural_network)\n",
    "\n",
    "print(\"Done...\")"
   ]
  },
  {
   "cell_type": "code",
   "execution_count": 18,
   "metadata": {
    "colab": {
     "base_uri": "https://localhost:8080/",
     "height": 443
    },
    "id": "1JCtWBa9m7sr",
    "outputId": "740c8dd3-d62b-4473-c84e-53d5c72d6244"
   },
   "outputs": [
    {
     "ename": "AttributeError",
     "evalue": "ignored",
     "output_type": "error",
     "traceback": [
      "\u001b[0;31m---------------------------------------------------------------------------\u001b[0m",
      "\u001b[0;31mAttributeError\u001b[0m                            Traceback (most recent call last)",
      "\u001b[0;32m/usr/local/lib/python3.7/dist-packages/arviz/data/io_pymc3.py\u001b[0m in \u001b[0;36m_extract_log_likelihood\u001b[0;34m(self, trace)\u001b[0m\n\u001b[1;32m    232\u001b[0m             log_likelihood_dict = (\n\u001b[0;32m--> 233\u001b[0;31m                 self.pymc3.sampling._DefaultTrace(  # pylint: disable=protected-access\n\u001b[0m\u001b[1;32m    234\u001b[0m                     \u001b[0mlen\u001b[0m\u001b[0;34m(\u001b[0m\u001b[0mtrace\u001b[0m\u001b[0;34m.\u001b[0m\u001b[0mchains\u001b[0m\u001b[0;34m)\u001b[0m\u001b[0;34m\u001b[0m\u001b[0;34m\u001b[0m\u001b[0m\n",
      "\u001b[0;31mAttributeError\u001b[0m: module 'pymc3.sampling' has no attribute '_DefaultTrace'",
      "\nThe above exception was the direct cause of the following exception:\n",
      "\u001b[0;31mAttributeError\u001b[0m                            Traceback (most recent call last)",
      "\u001b[0;32m<ipython-input-18-20eb2d8ba06a>\u001b[0m in \u001b[0;36m<module>\u001b[0;34m()\u001b[0m\n\u001b[0;32m----> 1\u001b[0;31m \u001b[0mpm\u001b[0m\u001b[0;34m.\u001b[0m\u001b[0mtraceplot\u001b[0m\u001b[0;34m(\u001b[0m\u001b[0mtrace\u001b[0m\u001b[0;34m,\u001b[0m \u001b[0mvarnames\u001b[0m\u001b[0;34m=\u001b[0m\u001b[0;34m[\u001b[0m\u001b[0;34m'w_1_2'\u001b[0m\u001b[0;34m]\u001b[0m\u001b[0;34m)\u001b[0m\u001b[0;34m\u001b[0m\u001b[0;34m\u001b[0m\u001b[0m\n\u001b[0m",
      "\u001b[0;32m/usr/local/lib/python3.7/dist-packages/pymc3/plots/__init__.py\u001b[0m in \u001b[0;36mwrapped\u001b[0;34m(*args, **kwargs)\u001b[0m\n\u001b[1;32m     40\u001b[0m                 \u001b[0mwarnings\u001b[0m\u001b[0;34m.\u001b[0m\u001b[0mwarn\u001b[0m\u001b[0;34m(\u001b[0m\u001b[0;34m'Keyword argument `{old}` renamed to `{new}`, and will be removed in pymc3 3.8'\u001b[0m\u001b[0;34m.\u001b[0m\u001b[0mformat\u001b[0m\u001b[0;34m(\u001b[0m\u001b[0mold\u001b[0m\u001b[0;34m=\u001b[0m\u001b[0mold\u001b[0m\u001b[0;34m,\u001b[0m \u001b[0mnew\u001b[0m\u001b[0;34m=\u001b[0m\u001b[0mnew\u001b[0m\u001b[0;34m)\u001b[0m\u001b[0;34m)\u001b[0m\u001b[0;34m\u001b[0m\u001b[0;34m\u001b[0m\u001b[0m\n\u001b[1;32m     41\u001b[0m                 \u001b[0mkwargs\u001b[0m\u001b[0;34m[\u001b[0m\u001b[0mnew\u001b[0m\u001b[0;34m]\u001b[0m \u001b[0;34m=\u001b[0m \u001b[0mkwargs\u001b[0m\u001b[0;34m.\u001b[0m\u001b[0mpop\u001b[0m\u001b[0;34m(\u001b[0m\u001b[0mold\u001b[0m\u001b[0;34m)\u001b[0m\u001b[0;34m\u001b[0m\u001b[0;34m\u001b[0m\u001b[0m\n\u001b[0;32m---> 42\u001b[0;31m             \u001b[0;32mreturn\u001b[0m \u001b[0mfunc\u001b[0m\u001b[0;34m(\u001b[0m\u001b[0;34m*\u001b[0m\u001b[0margs\u001b[0m\u001b[0;34m,\u001b[0m \u001b[0;34m**\u001b[0m\u001b[0mkwargs\u001b[0m\u001b[0;34m)\u001b[0m\u001b[0;34m\u001b[0m\u001b[0;34m\u001b[0m\u001b[0m\n\u001b[0m\u001b[1;32m     43\u001b[0m     \u001b[0;32mreturn\u001b[0m \u001b[0mwrapped\u001b[0m\u001b[0;34m\u001b[0m\u001b[0;34m\u001b[0m\u001b[0m\n\u001b[1;32m     44\u001b[0m \u001b[0;34m\u001b[0m\u001b[0m\n",
      "\u001b[0;32m/usr/local/lib/python3.7/dist-packages/arviz/plots/traceplot.py\u001b[0m in \u001b[0;36mplot_trace\u001b[0;34m(data, var_names, filter_vars, transform, coords, divergences, kind, figsize, rug, lines, circ_var_names, circ_var_units, compact, compact_prop, combined, chain_prop, legend, plot_kwargs, fill_kwargs, rug_kwargs, hist_kwargs, trace_kwargs, rank_kwargs, axes, backend, backend_config, backend_kwargs, show)\u001b[0m\n\u001b[1;32m    177\u001b[0m         \u001b[0mdivergence_data\u001b[0m \u001b[0;34m=\u001b[0m \u001b[0;32mFalse\u001b[0m\u001b[0;34m\u001b[0m\u001b[0;34m\u001b[0m\u001b[0m\n\u001b[1;32m    178\u001b[0m \u001b[0;34m\u001b[0m\u001b[0m\n\u001b[0;32m--> 179\u001b[0;31m     \u001b[0mcoords_data\u001b[0m \u001b[0;34m=\u001b[0m \u001b[0mget_coords\u001b[0m\u001b[0;34m(\u001b[0m\u001b[0mconvert_to_dataset\u001b[0m\u001b[0;34m(\u001b[0m\u001b[0mdata\u001b[0m\u001b[0;34m,\u001b[0m \u001b[0mgroup\u001b[0m\u001b[0;34m=\u001b[0m\u001b[0;34m\"posterior\"\u001b[0m\u001b[0;34m)\u001b[0m\u001b[0;34m,\u001b[0m \u001b[0mcoords\u001b[0m\u001b[0;34m)\u001b[0m\u001b[0;34m\u001b[0m\u001b[0;34m\u001b[0m\u001b[0m\n\u001b[0m\u001b[1;32m    180\u001b[0m \u001b[0;34m\u001b[0m\u001b[0m\n\u001b[1;32m    181\u001b[0m     \u001b[0;32mif\u001b[0m \u001b[0mtransform\u001b[0m \u001b[0;32mis\u001b[0m \u001b[0;32mnot\u001b[0m \u001b[0;32mNone\u001b[0m\u001b[0;34m:\u001b[0m\u001b[0;34m\u001b[0m\u001b[0;34m\u001b[0m\u001b[0m\n",
      "\u001b[0;32m/usr/local/lib/python3.7/dist-packages/arviz/data/converters.py\u001b[0m in \u001b[0;36mconvert_to_dataset\u001b[0;34m(obj, group, coords, dims)\u001b[0m\n\u001b[1;32m    177\u001b[0m     \u001b[0mxarray\u001b[0m\u001b[0;34m.\u001b[0m\u001b[0mDataset\u001b[0m\u001b[0;34m\u001b[0m\u001b[0;34m\u001b[0m\u001b[0m\n\u001b[1;32m    178\u001b[0m     \"\"\"\n\u001b[0;32m--> 179\u001b[0;31m     \u001b[0minference_data\u001b[0m \u001b[0;34m=\u001b[0m \u001b[0mconvert_to_inference_data\u001b[0m\u001b[0;34m(\u001b[0m\u001b[0mobj\u001b[0m\u001b[0;34m,\u001b[0m \u001b[0mgroup\u001b[0m\u001b[0;34m=\u001b[0m\u001b[0mgroup\u001b[0m\u001b[0;34m,\u001b[0m \u001b[0mcoords\u001b[0m\u001b[0;34m=\u001b[0m\u001b[0mcoords\u001b[0m\u001b[0;34m,\u001b[0m \u001b[0mdims\u001b[0m\u001b[0;34m=\u001b[0m\u001b[0mdims\u001b[0m\u001b[0;34m)\u001b[0m\u001b[0;34m\u001b[0m\u001b[0;34m\u001b[0m\u001b[0m\n\u001b[0m\u001b[1;32m    180\u001b[0m     \u001b[0mdataset\u001b[0m \u001b[0;34m=\u001b[0m \u001b[0mgetattr\u001b[0m\u001b[0;34m(\u001b[0m\u001b[0minference_data\u001b[0m\u001b[0;34m,\u001b[0m \u001b[0mgroup\u001b[0m\u001b[0;34m,\u001b[0m \u001b[0;32mNone\u001b[0m\u001b[0;34m)\u001b[0m\u001b[0;34m\u001b[0m\u001b[0;34m\u001b[0m\u001b[0m\n\u001b[1;32m    181\u001b[0m     \u001b[0;32mif\u001b[0m \u001b[0mdataset\u001b[0m \u001b[0;32mis\u001b[0m \u001b[0;32mNone\u001b[0m\u001b[0;34m:\u001b[0m\u001b[0;34m\u001b[0m\u001b[0;34m\u001b[0m\u001b[0m\n",
      "\u001b[0;32m/usr/local/lib/python3.7/dist-packages/arviz/data/converters.py\u001b[0m in \u001b[0;36mconvert_to_inference_data\u001b[0;34m(obj, group, coords, dims, **kwargs)\u001b[0m\n\u001b[1;32m     89\u001b[0m             \u001b[0;32mreturn\u001b[0m \u001b[0mfrom_pystan\u001b[0m\u001b[0;34m(\u001b[0m\u001b[0;34m**\u001b[0m\u001b[0mkwargs\u001b[0m\u001b[0;34m)\u001b[0m\u001b[0;34m\u001b[0m\u001b[0;34m\u001b[0m\u001b[0m\n\u001b[1;32m     90\u001b[0m     \u001b[0;32melif\u001b[0m \u001b[0mobj\u001b[0m\u001b[0;34m.\u001b[0m\u001b[0m__class__\u001b[0m\u001b[0;34m.\u001b[0m\u001b[0m__name__\u001b[0m \u001b[0;34m==\u001b[0m \u001b[0;34m\"MultiTrace\"\u001b[0m\u001b[0;34m:\u001b[0m  \u001b[0;31m# ugly, but doesn't make PyMC3 a requirement\u001b[0m\u001b[0;34m\u001b[0m\u001b[0;34m\u001b[0m\u001b[0m\n\u001b[0;32m---> 91\u001b[0;31m         \u001b[0;32mreturn\u001b[0m \u001b[0mfrom_pymc3\u001b[0m\u001b[0;34m(\u001b[0m\u001b[0mtrace\u001b[0m\u001b[0;34m=\u001b[0m\u001b[0mkwargs\u001b[0m\u001b[0;34m.\u001b[0m\u001b[0mpop\u001b[0m\u001b[0;34m(\u001b[0m\u001b[0mgroup\u001b[0m\u001b[0;34m)\u001b[0m\u001b[0;34m,\u001b[0m \u001b[0;34m**\u001b[0m\u001b[0mkwargs\u001b[0m\u001b[0;34m)\u001b[0m\u001b[0;34m\u001b[0m\u001b[0;34m\u001b[0m\u001b[0m\n\u001b[0m\u001b[1;32m     92\u001b[0m     \u001b[0;32melif\u001b[0m \u001b[0mobj\u001b[0m\u001b[0;34m.\u001b[0m\u001b[0m__class__\u001b[0m\u001b[0;34m.\u001b[0m\u001b[0m__name__\u001b[0m \u001b[0;34m==\u001b[0m \u001b[0;34m\"EnsembleSampler\"\u001b[0m\u001b[0;34m:\u001b[0m  \u001b[0;31m# ugly, but doesn't make emcee a requirement\u001b[0m\u001b[0;34m\u001b[0m\u001b[0;34m\u001b[0m\u001b[0m\n\u001b[1;32m     93\u001b[0m         \u001b[0;32mreturn\u001b[0m \u001b[0mfrom_emcee\u001b[0m\u001b[0;34m(\u001b[0m\u001b[0msampler\u001b[0m\u001b[0;34m=\u001b[0m\u001b[0mkwargs\u001b[0m\u001b[0;34m.\u001b[0m\u001b[0mpop\u001b[0m\u001b[0;34m(\u001b[0m\u001b[0mgroup\u001b[0m\u001b[0;34m)\u001b[0m\u001b[0;34m,\u001b[0m \u001b[0;34m**\u001b[0m\u001b[0mkwargs\u001b[0m\u001b[0;34m)\u001b[0m\u001b[0;34m\u001b[0m\u001b[0;34m\u001b[0m\u001b[0m\n",
      "\u001b[0;32m/usr/local/lib/python3.7/dist-packages/arviz/data/io_pymc3.py\u001b[0m in \u001b[0;36mfrom_pymc3\u001b[0;34m(trace, prior, posterior_predictive, log_likelihood, coords, dims, model, save_warmup, density_dist_obs)\u001b[0m\n\u001b[1;32m    570\u001b[0m         \u001b[0mmodel\u001b[0m\u001b[0;34m=\u001b[0m\u001b[0mmodel\u001b[0m\u001b[0;34m,\u001b[0m\u001b[0;34m\u001b[0m\u001b[0;34m\u001b[0m\u001b[0m\n\u001b[1;32m    571\u001b[0m         \u001b[0msave_warmup\u001b[0m\u001b[0;34m=\u001b[0m\u001b[0msave_warmup\u001b[0m\u001b[0;34m,\u001b[0m\u001b[0;34m\u001b[0m\u001b[0;34m\u001b[0m\u001b[0m\n\u001b[0;32m--> 572\u001b[0;31m         \u001b[0mdensity_dist_obs\u001b[0m\u001b[0;34m=\u001b[0m\u001b[0mdensity_dist_obs\u001b[0m\u001b[0;34m,\u001b[0m\u001b[0;34m\u001b[0m\u001b[0;34m\u001b[0m\u001b[0m\n\u001b[0m\u001b[1;32m    573\u001b[0m     ).to_inference_data()\n\u001b[1;32m    574\u001b[0m \u001b[0;34m\u001b[0m\u001b[0m\n",
      "\u001b[0;32m/usr/local/lib/python3.7/dist-packages/arviz/data/io_pymc3.py\u001b[0m in \u001b[0;36mto_inference_data\u001b[0;34m(self)\u001b[0m\n\u001b[1;32m    497\u001b[0m             \u001b[0;34m\"posterior\"\u001b[0m\u001b[0;34m:\u001b[0m \u001b[0mself\u001b[0m\u001b[0;34m.\u001b[0m\u001b[0mposterior_to_xarray\u001b[0m\u001b[0;34m(\u001b[0m\u001b[0;34m)\u001b[0m\u001b[0;34m,\u001b[0m\u001b[0;34m\u001b[0m\u001b[0;34m\u001b[0m\u001b[0m\n\u001b[1;32m    498\u001b[0m             \u001b[0;34m\"sample_stats\"\u001b[0m\u001b[0;34m:\u001b[0m \u001b[0mself\u001b[0m\u001b[0;34m.\u001b[0m\u001b[0msample_stats_to_xarray\u001b[0m\u001b[0;34m(\u001b[0m\u001b[0;34m)\u001b[0m\u001b[0;34m,\u001b[0m\u001b[0;34m\u001b[0m\u001b[0;34m\u001b[0m\u001b[0m\n\u001b[0;32m--> 499\u001b[0;31m             \u001b[0;34m\"log_likelihood\"\u001b[0m\u001b[0;34m:\u001b[0m \u001b[0mself\u001b[0m\u001b[0;34m.\u001b[0m\u001b[0mlog_likelihood_to_xarray\u001b[0m\u001b[0;34m(\u001b[0m\u001b[0;34m)\u001b[0m\u001b[0;34m,\u001b[0m\u001b[0;34m\u001b[0m\u001b[0;34m\u001b[0m\u001b[0m\n\u001b[0m\u001b[1;32m    500\u001b[0m             \u001b[0;34m\"posterior_predictive\"\u001b[0m\u001b[0;34m:\u001b[0m \u001b[0mself\u001b[0m\u001b[0;34m.\u001b[0m\u001b[0mposterior_predictive_to_xarray\u001b[0m\u001b[0;34m(\u001b[0m\u001b[0;34m)\u001b[0m\u001b[0;34m,\u001b[0m\u001b[0;34m\u001b[0m\u001b[0;34m\u001b[0m\u001b[0m\n\u001b[1;32m    501\u001b[0m             \u001b[0;34m\"predictions\"\u001b[0m\u001b[0;34m:\u001b[0m \u001b[0mself\u001b[0m\u001b[0;34m.\u001b[0m\u001b[0mpredictions_to_xarray\u001b[0m\u001b[0;34m(\u001b[0m\u001b[0;34m)\u001b[0m\u001b[0;34m,\u001b[0m\u001b[0;34m\u001b[0m\u001b[0;34m\u001b[0m\u001b[0m\n",
      "\u001b[0;32m/usr/local/lib/python3.7/dist-packages/arviz/data/base.py\u001b[0m in \u001b[0;36mwrapped\u001b[0;34m(cls, *args, **kwargs)\u001b[0m\n\u001b[1;32m     44\u001b[0m                 \u001b[0;32mif\u001b[0m \u001b[0mall\u001b[0m\u001b[0;34m(\u001b[0m\u001b[0;34m[\u001b[0m\u001b[0mgetattr\u001b[0m\u001b[0;34m(\u001b[0m\u001b[0mcls\u001b[0m\u001b[0;34m,\u001b[0m \u001b[0mprop_i\u001b[0m\u001b[0;34m)\u001b[0m \u001b[0;32mis\u001b[0m \u001b[0;32mNone\u001b[0m \u001b[0;32mfor\u001b[0m \u001b[0mprop_i\u001b[0m \u001b[0;32min\u001b[0m \u001b[0mprop\u001b[0m\u001b[0;34m]\u001b[0m\u001b[0;34m)\u001b[0m\u001b[0;34m:\u001b[0m\u001b[0;34m\u001b[0m\u001b[0;34m\u001b[0m\u001b[0m\n\u001b[1;32m     45\u001b[0m                     \u001b[0;32mreturn\u001b[0m \u001b[0;32mNone\u001b[0m\u001b[0;34m\u001b[0m\u001b[0;34m\u001b[0m\u001b[0m\n\u001b[0;32m---> 46\u001b[0;31m             \u001b[0;32mreturn\u001b[0m \u001b[0mfunc\u001b[0m\u001b[0;34m(\u001b[0m\u001b[0mcls\u001b[0m\u001b[0;34m,\u001b[0m \u001b[0;34m*\u001b[0m\u001b[0margs\u001b[0m\u001b[0;34m,\u001b[0m \u001b[0;34m**\u001b[0m\u001b[0mkwargs\u001b[0m\u001b[0;34m)\u001b[0m\u001b[0;34m\u001b[0m\u001b[0;34m\u001b[0m\u001b[0m\n\u001b[0m\u001b[1;32m     47\u001b[0m \u001b[0;34m\u001b[0m\u001b[0m\n\u001b[1;32m     48\u001b[0m         \u001b[0;32mreturn\u001b[0m \u001b[0mwrapped\u001b[0m\u001b[0;34m\u001b[0m\u001b[0;34m\u001b[0m\u001b[0m\n",
      "\u001b[0;32m/usr/local/lib/python3.7/dist-packages/arviz/data/base.py\u001b[0m in \u001b[0;36mwrapped\u001b[0;34m(cls, *args, **kwargs)\u001b[0m\n\u001b[1;32m     44\u001b[0m                 \u001b[0;32mif\u001b[0m \u001b[0mall\u001b[0m\u001b[0;34m(\u001b[0m\u001b[0;34m[\u001b[0m\u001b[0mgetattr\u001b[0m\u001b[0;34m(\u001b[0m\u001b[0mcls\u001b[0m\u001b[0;34m,\u001b[0m \u001b[0mprop_i\u001b[0m\u001b[0;34m)\u001b[0m \u001b[0;32mis\u001b[0m \u001b[0;32mNone\u001b[0m \u001b[0;32mfor\u001b[0m \u001b[0mprop_i\u001b[0m \u001b[0;32min\u001b[0m \u001b[0mprop\u001b[0m\u001b[0;34m]\u001b[0m\u001b[0;34m)\u001b[0m\u001b[0;34m:\u001b[0m\u001b[0;34m\u001b[0m\u001b[0;34m\u001b[0m\u001b[0m\n\u001b[1;32m     45\u001b[0m                     \u001b[0;32mreturn\u001b[0m \u001b[0;32mNone\u001b[0m\u001b[0;34m\u001b[0m\u001b[0;34m\u001b[0m\u001b[0m\n\u001b[0;32m---> 46\u001b[0;31m             \u001b[0;32mreturn\u001b[0m \u001b[0mfunc\u001b[0m\u001b[0;34m(\u001b[0m\u001b[0mcls\u001b[0m\u001b[0;34m,\u001b[0m \u001b[0;34m*\u001b[0m\u001b[0margs\u001b[0m\u001b[0;34m,\u001b[0m \u001b[0;34m**\u001b[0m\u001b[0mkwargs\u001b[0m\u001b[0;34m)\u001b[0m\u001b[0;34m\u001b[0m\u001b[0;34m\u001b[0m\u001b[0m\n\u001b[0m\u001b[1;32m     47\u001b[0m \u001b[0;34m\u001b[0m\u001b[0m\n\u001b[1;32m     48\u001b[0m         \u001b[0;32mreturn\u001b[0m \u001b[0mwrapped\u001b[0m\u001b[0;34m\u001b[0m\u001b[0;34m\u001b[0m\u001b[0m\n",
      "\u001b[0;32m/usr/local/lib/python3.7/dist-packages/arviz/data/io_pymc3.py\u001b[0m in \u001b[0;36mlog_likelihood_to_xarray\u001b[0;34m(self)\u001b[0m\n\u001b[1;32m    325\u001b[0m         \u001b[0;32mif\u001b[0m \u001b[0mself\u001b[0m\u001b[0;34m.\u001b[0m\u001b[0mposterior_trace\u001b[0m\u001b[0;34m:\u001b[0m\u001b[0;34m\u001b[0m\u001b[0;34m\u001b[0m\u001b[0m\n\u001b[1;32m    326\u001b[0m             \u001b[0;32mtry\u001b[0m\u001b[0;34m:\u001b[0m\u001b[0;34m\u001b[0m\u001b[0;34m\u001b[0m\u001b[0m\n\u001b[0;32m--> 327\u001b[0;31m                 \u001b[0mdata\u001b[0m \u001b[0;34m=\u001b[0m \u001b[0mself\u001b[0m\u001b[0;34m.\u001b[0m\u001b[0m_extract_log_likelihood\u001b[0m\u001b[0;34m(\u001b[0m\u001b[0mself\u001b[0m\u001b[0;34m.\u001b[0m\u001b[0mposterior_trace\u001b[0m\u001b[0;34m)\u001b[0m\u001b[0;34m\u001b[0m\u001b[0;34m\u001b[0m\u001b[0m\n\u001b[0m\u001b[1;32m    328\u001b[0m             \u001b[0;32mexcept\u001b[0m \u001b[0mTypeError\u001b[0m\u001b[0;34m:\u001b[0m\u001b[0;34m\u001b[0m\u001b[0;34m\u001b[0m\u001b[0m\n\u001b[1;32m    329\u001b[0m                 \u001b[0mwarnings\u001b[0m\u001b[0;34m.\u001b[0m\u001b[0mwarn\u001b[0m\u001b[0;34m(\u001b[0m\u001b[0mwarn_msg\u001b[0m\u001b[0;34m)\u001b[0m\u001b[0;34m\u001b[0m\u001b[0;34m\u001b[0m\u001b[0m\n",
      "\u001b[0;32m/usr/local/lib/python3.7/dist-packages/arviz/data/base.py\u001b[0m in \u001b[0;36mwrapped\u001b[0;34m(cls, *args, **kwargs)\u001b[0m\n\u001b[1;32m     44\u001b[0m                 \u001b[0;32mif\u001b[0m \u001b[0mall\u001b[0m\u001b[0;34m(\u001b[0m\u001b[0;34m[\u001b[0m\u001b[0mgetattr\u001b[0m\u001b[0;34m(\u001b[0m\u001b[0mcls\u001b[0m\u001b[0;34m,\u001b[0m \u001b[0mprop_i\u001b[0m\u001b[0;34m)\u001b[0m \u001b[0;32mis\u001b[0m \u001b[0;32mNone\u001b[0m \u001b[0;32mfor\u001b[0m \u001b[0mprop_i\u001b[0m \u001b[0;32min\u001b[0m \u001b[0mprop\u001b[0m\u001b[0;34m]\u001b[0m\u001b[0;34m)\u001b[0m\u001b[0;34m:\u001b[0m\u001b[0;34m\u001b[0m\u001b[0;34m\u001b[0m\u001b[0m\n\u001b[1;32m     45\u001b[0m                     \u001b[0;32mreturn\u001b[0m \u001b[0;32mNone\u001b[0m\u001b[0;34m\u001b[0m\u001b[0;34m\u001b[0m\u001b[0m\n\u001b[0;32m---> 46\u001b[0;31m             \u001b[0;32mreturn\u001b[0m \u001b[0mfunc\u001b[0m\u001b[0;34m(\u001b[0m\u001b[0mcls\u001b[0m\u001b[0;34m,\u001b[0m \u001b[0;34m*\u001b[0m\u001b[0margs\u001b[0m\u001b[0;34m,\u001b[0m \u001b[0;34m**\u001b[0m\u001b[0mkwargs\u001b[0m\u001b[0;34m)\u001b[0m\u001b[0;34m\u001b[0m\u001b[0;34m\u001b[0m\u001b[0m\n\u001b[0m\u001b[1;32m     47\u001b[0m \u001b[0;34m\u001b[0m\u001b[0m\n\u001b[1;32m     48\u001b[0m         \u001b[0;32mreturn\u001b[0m \u001b[0mwrapped\u001b[0m\u001b[0;34m\u001b[0m\u001b[0;34m\u001b[0m\u001b[0m\n",
      "\u001b[0;32m/usr/local/lib/python3.7/dist-packages/arviz/data/base.py\u001b[0m in \u001b[0;36mwrapped\u001b[0;34m(cls, *args, **kwargs)\u001b[0m\n\u001b[1;32m     44\u001b[0m                 \u001b[0;32mif\u001b[0m \u001b[0mall\u001b[0m\u001b[0;34m(\u001b[0m\u001b[0;34m[\u001b[0m\u001b[0mgetattr\u001b[0m\u001b[0;34m(\u001b[0m\u001b[0mcls\u001b[0m\u001b[0;34m,\u001b[0m \u001b[0mprop_i\u001b[0m\u001b[0;34m)\u001b[0m \u001b[0;32mis\u001b[0m \u001b[0;32mNone\u001b[0m \u001b[0;32mfor\u001b[0m \u001b[0mprop_i\u001b[0m \u001b[0;32min\u001b[0m \u001b[0mprop\u001b[0m\u001b[0;34m]\u001b[0m\u001b[0;34m)\u001b[0m\u001b[0;34m:\u001b[0m\u001b[0;34m\u001b[0m\u001b[0;34m\u001b[0m\u001b[0m\n\u001b[1;32m     45\u001b[0m                     \u001b[0;32mreturn\u001b[0m \u001b[0;32mNone\u001b[0m\u001b[0;34m\u001b[0m\u001b[0;34m\u001b[0m\u001b[0m\n\u001b[0;32m---> 46\u001b[0;31m             \u001b[0;32mreturn\u001b[0m \u001b[0mfunc\u001b[0m\u001b[0;34m(\u001b[0m\u001b[0mcls\u001b[0m\u001b[0;34m,\u001b[0m \u001b[0;34m*\u001b[0m\u001b[0margs\u001b[0m\u001b[0;34m,\u001b[0m \u001b[0;34m**\u001b[0m\u001b[0mkwargs\u001b[0m\u001b[0;34m)\u001b[0m\u001b[0;34m\u001b[0m\u001b[0;34m\u001b[0m\u001b[0m\n\u001b[0m\u001b[1;32m     47\u001b[0m \u001b[0;34m\u001b[0m\u001b[0m\n\u001b[1;32m     48\u001b[0m         \u001b[0;32mreturn\u001b[0m \u001b[0mwrapped\u001b[0m\u001b[0;34m\u001b[0m\u001b[0;34m\u001b[0m\u001b[0m\n",
      "\u001b[0;32m/usr/local/lib/python3.7/dist-packages/arviz/data/io_pymc3.py\u001b[0m in \u001b[0;36m_extract_log_likelihood\u001b[0;34m(self, trace)\u001b[0m\n\u001b[1;32m    239\u001b[0m                 \u001b[0;34m\"Installed version of ArviZ requires PyMC3>=3.8. Please upgrade with \"\u001b[0m\u001b[0;34m\u001b[0m\u001b[0;34m\u001b[0m\u001b[0m\n\u001b[1;32m    240\u001b[0m                 \u001b[0;34m\"`pip install pymc3>=3.8` or `conda install -c conda-forge pymc3>=3.8`.\"\u001b[0m\u001b[0;34m\u001b[0m\u001b[0;34m\u001b[0m\u001b[0m\n\u001b[0;32m--> 241\u001b[0;31m             ) from err\n\u001b[0m\u001b[1;32m    242\u001b[0m         \u001b[0;32mfor\u001b[0m \u001b[0mvar\u001b[0m\u001b[0;34m,\u001b[0m \u001b[0mlog_like_fun\u001b[0m \u001b[0;32min\u001b[0m \u001b[0mcached\u001b[0m\u001b[0;34m:\u001b[0m\u001b[0;34m\u001b[0m\u001b[0;34m\u001b[0m\u001b[0m\n\u001b[1;32m    243\u001b[0m             \u001b[0;32mfor\u001b[0m \u001b[0mchain\u001b[0m \u001b[0;32min\u001b[0m \u001b[0mtrace\u001b[0m\u001b[0;34m.\u001b[0m\u001b[0mchains\u001b[0m\u001b[0;34m:\u001b[0m\u001b[0;34m\u001b[0m\u001b[0;34m\u001b[0m\u001b[0m\n",
      "\u001b[0;31mAttributeError\u001b[0m: Installed version of ArviZ requires PyMC3>=3.8. Please upgrade with `pip install pymc3>=3.8` or `conda install -c conda-forge pymc3>=3.8`."
     ]
    }
   ],
   "source": [
    "pm.traceplot(trace, varnames=['w_1_2'])"
   ]
  },
  {
   "cell_type": "code",
   "execution_count": 18,
   "metadata": {
    "colab": {
     "base_uri": "https://localhost:8080/"
    },
    "id": "D-5wrayldC_h",
    "outputId": "2b614cbc-7811-48f3-f337-da7bab2216c6"
   },
   "outputs": [
    {
     "name": "stdout",
     "output_type": "stream",
     "text": [
      "Collecting arviz\n",
      "\u001b[?25l  Downloading https://files.pythonhosted.org/packages/e2/a8/e2ad120b06822e29e0d185bed1ae300576f3f61f97fceb6933ba6f6accf7/arviz-0.11.2-py3-none-any.whl (1.6MB)\n",
      "\u001b[K     |████████████████████████████████| 1.6MB 17.9MB/s \n",
      "\u001b[?25hRequirement already satisfied: numpy>=1.12 in /usr/local/lib/python3.7/dist-packages (from arviz) (1.19.5)\n",
      "Requirement already satisfied: pandas>=0.23 in /usr/local/lib/python3.7/dist-packages (from arviz) (1.1.5)\n",
      "Requirement already satisfied: scipy>=0.19 in /usr/local/lib/python3.7/dist-packages (from arviz) (1.4.1)\n",
      "Collecting netcdf4\n",
      "\u001b[?25l  Downloading https://files.pythonhosted.org/packages/37/56/f65978898fb8e7e5df9c67531d86eb24eb04938deae3b61dbcce12c98212/netCDF4-1.5.6-cp37-cp37m-manylinux2014_x86_64.whl (4.7MB)\n",
      "\u001b[K     |████████████████████████████████| 4.7MB 52.1MB/s \n",
      "\u001b[?25hRequirement already satisfied: setuptools>=38.4 in /usr/local/lib/python3.7/dist-packages (from arviz) (56.0.0)\n",
      "Requirement already satisfied: typing-extensions<4,>=3.7.4.3 in /usr/local/lib/python3.7/dist-packages (from arviz) (3.7.4.3)\n",
      "Collecting xarray>=0.16.1\n",
      "\u001b[?25l  Downloading https://files.pythonhosted.org/packages/a5/19/debc1f470b8b9e2949da221663c8102ed6728f4d38dc964085ca43de1428/xarray-0.17.0-py3-none-any.whl (759kB)\n",
      "\u001b[K     |████████████████████████████████| 768kB 52.0MB/s \n",
      "\u001b[?25hRequirement already satisfied: matplotlib>=3.0 in /usr/local/lib/python3.7/dist-packages (from arviz) (3.2.2)\n",
      "Requirement already satisfied: packaging in /usr/local/lib/python3.7/dist-packages (from arviz) (20.9)\n",
      "Requirement already satisfied: pytz>=2017.2 in /usr/local/lib/python3.7/dist-packages (from pandas>=0.23->arviz) (2018.9)\n",
      "Requirement already satisfied: python-dateutil>=2.7.3 in /usr/local/lib/python3.7/dist-packages (from pandas>=0.23->arviz) (2.8.1)\n",
      "Collecting cftime\n",
      "\u001b[?25l  Downloading https://files.pythonhosted.org/packages/41/e0/3e120cca16571c5ee3b35f1ed432c2aae5dc91e2b789e8b9c3a70e721ea0/cftime-1.4.1-cp37-cp37m-manylinux2014_x86_64.whl (313kB)\n",
      "\u001b[K     |████████████████████████████████| 317kB 57.7MB/s \n",
      "\u001b[?25hRequirement already satisfied: kiwisolver>=1.0.1 in /usr/local/lib/python3.7/dist-packages (from matplotlib>=3.0->arviz) (1.3.1)\n",
      "Requirement already satisfied: pyparsing!=2.0.4,!=2.1.2,!=2.1.6,>=2.0.1 in /usr/local/lib/python3.7/dist-packages (from matplotlib>=3.0->arviz) (2.4.7)\n",
      "Requirement already satisfied: cycler>=0.10 in /usr/local/lib/python3.7/dist-packages (from matplotlib>=3.0->arviz) (0.10.0)\n",
      "Requirement already satisfied: six>=1.5 in /usr/local/lib/python3.7/dist-packages (from python-dateutil>=2.7.3->pandas>=0.23->arviz) (1.15.0)\n",
      "Installing collected packages: cftime, netcdf4, xarray, arviz\n",
      "  Found existing installation: xarray 0.15.1\n",
      "    Uninstalling xarray-0.15.1:\n",
      "      Successfully uninstalled xarray-0.15.1\n",
      "Successfully installed arviz-0.11.2 cftime-1.4.1 netcdf4-1.5.6 xarray-0.17.0\n"
     ]
    }
   ],
   "source": [
    "!pip install arviz"
   ]
  },
  {
   "cell_type": "markdown",
   "metadata": {
    "id": "mQ8XNcjGi6Fg"
   },
   "source": [
    "#Debugging the model"
   ]
  },
  {
   "cell_type": "code",
   "execution_count": null,
   "metadata": {
    "colab": {
     "base_uri": "https://localhost:8080/"
    },
    "id": "NSdfEfZ9icta",
    "outputId": "f101c77c-a80f-4af6-d1b2-e58bb89d8232"
   },
   "outputs": [
    {
     "name": "stdout",
     "output_type": "stream",
     "text": [
      "{'xtrue': array([[ -0.53958273,  -1.84811793,   0.35408773, ..., -13.3358853 ,\n",
      "        -13.5126619 , -13.54400706],\n",
      "       [ -0.53958273,  -1.84811793,   0.35408773, ...,  -3.49440487,\n",
      "         -3.52560184,  -3.55145751],\n",
      "       [ -0.28594462,  -1.3999    ,  -0.52259735, ...,  -7.79080992,\n",
      "         -7.97137923,  -7.95906705],\n",
      "       ...,\n",
      "       [  0.12838605,  -0.62722573,  -0.60414568, ...,  -2.84793465,\n",
      "         -2.89392226,  -2.90086452],\n",
      "       [  1.14765532,   0.58009413,  -0.42967029, ...,   3.4169975 ,\n",
      "          3.51934941,   3.53333659],\n",
      "       [ -0.75917557,  -0.49543621,  -0.06406642, ...,  -1.56765985,\n",
      "         -1.66545041,  -1.6206631 ]]), 'w_in_1': array([[ 4.71435164e-01, -1.19097569e+00,  1.43270697e+00,\n",
      "        -3.12651896e-01, -7.20588733e-01,  8.87162940e-01,\n",
      "         8.59588414e-01, -6.36523504e-01,  1.56963721e-02,\n",
      "        -2.24268495e+00,  1.15003572e+00,  9.91946022e-01,\n",
      "         9.53324128e-01, -2.02125482e+00, -3.34077366e-01,\n",
      "         2.11836468e-03],\n",
      "       [ 4.05453412e-01,  2.89091941e-01,  1.32115819e+00,\n",
      "        -1.54690555e+00, -2.02646325e-01, -6.55969344e-01,\n",
      "         1.93421376e-01,  5.53438911e-01,  1.31815155e+00,\n",
      "        -4.69305285e-01,  6.75554085e-01, -1.81702723e+00,\n",
      "        -1.83108540e-01,  1.05896919e+00, -3.97840228e-01,\n",
      "         3.37437654e-01],\n",
      "       [ 1.04757857e+00,  1.04593826e+00,  8.63717292e-01,\n",
      "        -1.22091575e-01,  1.24712954e-01, -3.22794806e-01,\n",
      "         8.41674713e-01,  2.39096052e+00,  7.61995878e-02,\n",
      "        -5.66445930e-01,  3.61419367e-02, -2.07497760e+00,\n",
      "         2.47792200e-01, -8.97156784e-01, -1.36794833e-01,\n",
      "         1.82891913e-02],\n",
      "       [ 7.55413982e-01,  2.15268581e-01,  8.41008795e-01,\n",
      "        -1.44581008e+00, -1.40197328e+00, -1.00918200e-01,\n",
      "        -5.48242449e-01, -1.44619508e-01,  3.54020332e-01,\n",
      "        -3.55130253e-02,  5.65738306e-01,  1.54565880e+00,\n",
      "        -9.74236334e-01, -7.03448771e-02,  3.07968855e-01,\n",
      "        -2.08498763e-01],\n",
      "       [ 1.03380073e+00, -2.40045363e+00,  2.03060362e+00,\n",
      "        -1.14263129e+00,  2.11883387e-01,  7.04720624e-01,\n",
      "        -7.85435212e-01,  4.62059737e-01,  7.04228225e-01,\n",
      "         5.23507968e-01, -9.26254314e-01,  2.00784295e+00,\n",
      "         2.26962542e-01, -1.15265911e+00,  6.31979446e-01,\n",
      "         3.95126867e-02],\n",
      "       [ 4.64392325e-01, -3.56351666e+00,  1.32110562e+00,\n",
      "         1.52630552e-01,  1.64529543e-01, -4.30095691e-01,\n",
      "         7.67368736e-01,  9.84919842e-01,  2.70835849e-01,\n",
      "         1.39198619e+00,  7.98423130e-02, -3.99964581e-01,\n",
      "        -1.02785056e+00, -5.84718211e-01,  8.16593927e-01,\n",
      "        -8.19470518e-02],\n",
      "       [-3.44766014e-01,  5.28288145e-01, -1.06898878e+00,\n",
      "        -5.11881309e-01,  2.91205360e-01,  5.66533696e-01,\n",
      "         5.03591759e-01,  2.85295685e-01,  4.84288113e-01,\n",
      "         1.36348151e+00, -7.81105284e-01, -4.68017666e-01,\n",
      "         1.22457436e+00, -1.28110828e+00,  8.75475504e-01,\n",
      "        -1.71071532e+00],\n",
      "       [-4.50765103e-01,  7.49163806e-01, -2.03932866e-01,\n",
      "        -1.82175412e-01,  6.80656004e-01, -1.81849899e+00,\n",
      "         4.70716353e-02,  3.94844209e-01, -2.48432054e-01,\n",
      "        -6.17706648e-01, -6.82883996e-01,  4.36257604e-01,\n",
      "        -1.70301277e+00,  3.93710599e-01, -4.79324004e-01,\n",
      "        -2.99016293e-01],\n",
      "       [ 6.94103288e-01,  6.78629674e-01,  2.39555995e-01,\n",
      "         1.51226629e-01,  8.16127233e-01,  1.89353447e+00,\n",
      "         6.39632763e-01, -9.62028832e-01, -2.08526564e+00,\n",
      "         1.93024677e+00, -1.73534887e+00,  1.21038370e+00,\n",
      "         7.97435419e-01, -3.79810784e-01,  7.02562224e-01,\n",
      "        -8.50346272e-01],\n",
      "       [ 1.17681245e+00, -5.24336103e-01,  7.00907731e-01,\n",
      "         9.84188071e-01, -1.21728409e-01,  2.36576863e+00,\n",
      "         4.96142926e-01,  7.96594867e-01, -4.74020890e-01,\n",
      "        -5.66957165e-02,  1.35779726e+00, -8.04833724e-01,\n",
      "        -2.12362025e+00, -3.33502440e-01, -8.86719352e-01,\n",
      "         3.34197931e-01],\n",
      "       [ 5.36783825e-01, -7.43830368e-01, -3.20203882e-01,\n",
      "        -9.16198861e-01, -8.59668300e-01,  2.25985487e-01,\n",
      "         6.28775827e-01,  1.86494349e-01,  9.52478345e-01,\n",
      "         9.88137583e-01, -7.26083140e-02, -5.50602924e-01,\n",
      "        -9.38152614e-01, -1.23907156e+00,  1.39683274e-01,\n",
      "        -2.23018982e-01],\n",
      "       [ 2.12369189e+00,  1.22273434e-01, -1.40943174e+00,\n",
      "         1.42298595e+00, -2.14785504e+00, -1.34753251e+00,\n",
      "         3.63564557e-01, -1.47521118e-02,  1.27239508e+00,\n",
      "        -1.44956661e+00, -1.19552374e+00, -5.91862973e-01,\n",
      "        -4.14504844e-01, -1.42579473e+00,  2.09394788e-01,\n",
      "        -5.92886004e-01]]), 'b_in_1': array([ 0.41340528,  0.71757693,  0.26172484, -0.24277127, -0.50126813,\n",
      "       -0.69812898,  1.38458016, -0.28642541,  0.50006959,  1.95110324,\n",
      "       -0.27836746,  0.03678626,  0.44585251, -1.41035076,  0.4500013 ,\n",
      "        0.51547953]), 'w_1_2': array([[-1.47311641, -0.89658062,  1.10435157, -0.43154952, -0.16113691,\n",
      "         0.88915749,  0.28837685, -1.05153894, -0.3195614 , -0.61999309,\n",
      "         0.15699838, -0.57145535,  1.05763318, -0.79148881, -0.52462735,\n",
      "         0.07187804],\n",
      "       [ 1.91075943,  0.78796468,  0.51308214, -0.54641628,  1.04394466,\n",
      "         2.10778515,  1.45992748,  1.01540546,  0.7491846 , -0.67552148,\n",
      "         0.44026639,  0.68897186, -0.27664613,  1.92453332,  0.41120402,\n",
      "         0.89076496],\n",
      "       [ 0.22636323, -2.07861789, -0.38788623, -0.08710697,  1.12638582,\n",
      "         0.24711172,  0.12117181,  0.29898394, -0.15709914, -0.74046902,\n",
      "        -1.24765292,  0.24945522,  0.58107332,  2.76384408,  0.39932544,\n",
      "         0.66848817],\n",
      "       [-0.27577373,  0.5004829 ,  0.86306486, -1.05162786, -1.39205408,\n",
      "         1.15392224,  1.18194411,  0.39137145, -0.88104709,  0.29507996,\n",
      "         1.86380106, -1.71227392, -1.40708455,  0.12678119,  0.00375985,\n",
      "        -1.26899426],\n",
      "       [-0.83884292,  0.55392125, -0.50404272, -0.78844018,  1.52940067,\n",
      "         0.20545485,  0.31301313,  0.86652071,  0.29907053,  1.07654064,\n",
      "         0.36317735,  1.89367983, -0.48575274,  0.38767446,  0.02355761,\n",
      "        -0.6602295 ],\n",
      "       [-0.31868493, -0.72266219,  0.17738672,  0.98351273,  0.02350459,\n",
      "         0.55377698,  0.35376929, -0.27559363, -0.49048359, -0.3744366 ,\n",
      "        -2.39750398,  1.54102998,  0.06308454, -0.28444068, -1.26560054,\n",
      "         1.78797963],\n",
      "       [-0.35450871, -0.10476112,  0.38625369,  0.82277537, -0.68378982,\n",
      "         1.05720333,  0.03187997,  1.34318246, -0.05053969, -0.36400996,\n",
      "        -1.55334234, -0.3192978 ,  0.52704645,  0.7111124 , -0.21754548,\n",
      "         2.63779121],\n",
      "       [-1.74213763, -0.09443481,  1.43118375,  0.59275845,  0.1702969 ,\n",
      "        -1.75170595,  0.28858132, -0.54257952,  0.17160238,  0.98281783,\n",
      "        -0.0253489 , -0.28755245,  0.92444287, -0.0612463 , -0.73103334,\n",
      "        -1.0227737 ],\n",
      "       [ 0.99599297,  0.95555793,  0.71384077,  0.13337096, -0.80703831,\n",
      "        -0.34201078,  1.90877966,  0.15592326,  0.75965253, -0.42300623,\n",
      "         0.18167275,  0.27449257,  0.06791236, -0.03698281, -0.17080103,\n",
      "         0.26697323],\n",
      "       [ 1.38299725, -0.02246087,  0.13139537,  0.43443719,  0.26453407,\n",
      "         0.56565834,  0.58508428, -0.17429815, -1.07136867, -0.0484605 ,\n",
      "        -0.84529039,  0.41510056,  0.42553059, -0.98072436, -0.42782611,\n",
      "         1.49856996],\n",
      "       [-0.36015657, -0.45824039, -1.3379684 , -0.04138654,  0.82104796,\n",
      "         2.09780078,  1.28293325,  0.27033793,  1.00314036,  1.07867355,\n",
      "         0.34075269, -0.19807496,  2.48145842,  1.38525488, -1.15460097,\n",
      "        -1.26806905],\n",
      "       [ 0.60786219, -1.08009648, -0.61128167,  0.10203511, -1.43657394,\n",
      "         0.21071705, -0.89690417, -1.72439308,  1.7923392 , -1.31271271,\n",
      "         0.55587743, -0.68188131,  1.57274275, -0.10465157,  1.8503978 ,\n",
      "        -0.33335043],\n",
      "       [ 0.19346423, -0.49674494,  1.03272322, -1.7398038 , -0.75586218,\n",
      "        -0.88111173,  0.39389226, -0.95002553,  0.33250662,  0.52894441,\n",
      "        -1.12052099,  0.04826421,  0.06198845, -1.02751567, -0.23833537,\n",
      "         1.93217817],\n",
      "       [-0.22663229, -0.92383072,  0.355839  , -1.27006348, -0.19547241,\n",
      "        -0.4634194 ,  0.98941485,  1.38864738,  1.08771374,  0.43880126,\n",
      "        -0.96160224,  1.24560994,  0.50292552, -0.63139878, -0.70425205,\n",
      "        -0.24048254],\n",
      "       [ 0.58559931,  0.35280056, -1.81555769, -0.91012385, -0.74852795,\n",
      "        -0.10812493,  0.27477884,  0.23734976, -0.25984369, -0.31244218,\n",
      "         0.44850974, -0.05953196, -0.47001481,  0.34956677, -1.02746885,\n",
      "        -0.30663848],\n",
      "       [ 1.40617614, -1.24969677, -1.56014889,  1.55739765, -0.59335639,\n",
      "        -0.17028851,  1.67262681, -0.54079981, -0.68412833,  0.59996209,\n",
      "        -0.21719913,  0.33152652, -0.38336458, -0.78181609,  0.26623741,\n",
      "         0.27942802]]), 'b_1_2': array([-1.15408394, -1.3801734 , -0.49583301, -0.41327907, -1.71931667,\n",
      "       -0.0295609 , -0.76603988,  0.09988208, -0.71302396, -2.22611762,\n",
      "        0.72571415,  0.91697628, -0.56389024, -1.52217956, -0.01427879,\n",
      "       -0.24672081]), 'w_2_out': array([-1.2196257 , -0.72394892, -1.73477831,  0.27166078,  0.09911202,\n",
      "       -0.36308991, -0.58822673,  0.02594171, -0.57230235,  1.10558696,\n",
      "       -1.20801559, -1.33970104,  2.07518541, -1.4894097 , -1.15095307,\n",
      "        0.41905982]), 'b_2_out': array([-0.16532948])}\n"
     ]
    }
   ],
   "source": [
    "#debugging the model...\n",
    "\n",
    "# make sure all test_value are finite\n",
    "print(neural_network.test_point)"
   ]
  },
  {
   "cell_type": "code",
   "execution_count": null,
   "metadata": {
    "colab": {
     "base_uri": "https://localhost:8080/"
    },
    "id": "dUUycSmkirCg",
    "outputId": "b3ef75f0-f824-4b65-918e-98163798b79f"
   },
   "outputs": [
    {
     "data": {
      "text/plain": [
       "xtrue     -2.138138e+05\n",
       "w_in_1    -2.708800e+02\n",
       "b_in_1    -1.987000e+01\n",
       "w_1_2     -3.455800e+02\n",
       "b_1_2     -2.307000e+01\n",
       "w_2_out   -2.391000e+01\n",
       "b_2_out   -9.300000e-01\n",
       "x          1.954395e+05\n",
       "out       -5.313969e+08\n",
       "Name: Log-probability of test_point, dtype: float64"
      ]
     },
     "execution_count": 45,
     "metadata": {
      "tags": []
     },
     "output_type": "execute_result"
    }
   ],
   "source": [
    "# make sure all logp are finite\n",
    "neural_network.check_test_point()\n",
    "\n",
    "#there seems to be an issue with x?\n",
    "#why is there an issue with x?"
   ]
  },
  {
   "cell_type": "code",
   "execution_count": null,
   "metadata": {
    "colab": {
     "base_uri": "https://localhost:8080/",
     "height": 164
    },
    "id": "POO_HLPnk6Sc",
    "outputId": "6562d013-cb4d-42af-e336-f1b5224ce18a"
   },
   "outputs": [
    {
     "ename": "NameError",
     "evalue": "ignored",
     "output_type": "error",
     "traceback": [
      "\u001b[0;31m---------------------------------------------------------------------------\u001b[0m",
      "\u001b[0;31mNameError\u001b[0m                                 Traceback (most recent call last)",
      "\u001b[0;32m<ipython-input-32-aedcf6476f0b>\u001b[0m in \u001b[0;36m<module>\u001b[0;34m()\u001b[0m\n\u001b[0;32m----> 1\u001b[0;31m \u001b[0mXs_true\u001b[0m\u001b[0;34m.\u001b[0m\u001b[0mtag\u001b[0m\u001b[0;34m.\u001b[0m\u001b[0mtest_value\u001b[0m\u001b[0;34m\u001b[0m\u001b[0;34m\u001b[0m\u001b[0m\n\u001b[0m",
      "\u001b[0;31mNameError\u001b[0m: name 'Xs_true' is not defined"
     ]
    }
   ],
   "source": [
    "Xs_true.tag.test_value"
   ]
  },
  {
   "cell_type": "code",
   "execution_count": null,
   "metadata": {
    "colab": {
     "base_uri": "https://localhost:8080/"
    },
    "id": "hN4OWV8ki4uv",
    "outputId": "a412fc93-51b3-4ae7-a4d6-48bbfb3b3ec6"
   },
   "outputs": [
    {
     "data": {
      "text/plain": [
       "1.1293037753515138"
      ]
     },
     "execution_count": 28,
     "metadata": {
      "tags": []
     },
     "output_type": "execute_result"
    }
   ],
   "source": [
    "max(XsTrain[0])"
   ]
  },
  {
   "cell_type": "code",
   "execution_count": null,
   "metadata": {
    "colab": {
     "base_uri": "https://localhost:8080/"
    },
    "id": "M2zHhXP_ivob",
    "outputId": "f0ca7f5a-e030-408e-f8d7-d0cb0688b60c"
   },
   "outputs": [
    {
     "name": "stdout",
     "output_type": "stream",
     "text": [
      "2.2641962757081508e-05\n",
      "0.540756350077485\n",
      "2.2641962757081508e-05\n",
      "0.540756350077485\n",
      "2.3976052109269738e-05\n",
      "0.5524176412118372\n",
      "2.8881554230689825e-05\n",
      "0.5737300889576925\n",
      "2.8881554230689825e-05\n",
      "0.5737300889576925\n",
      "3.094833781305886e-05\n",
      "0.6128343413883622\n",
      "3.094833781305886e-05\n",
      "0.6128343413883622\n",
      "4.103076845417627e-05\n",
      "0.7215872604384899\n",
      "4.103076845417627e-05\n",
      "0.7215872604384899\n",
      "4.103076845417627e-05\n",
      "0.7215872604384899\n",
      "4.103076845417627e-05\n",
      "0.7215872604384899\n",
      "4.103076845417627e-05\n",
      "0.7215872604384899\n"
     ]
    }
   ],
   "source": [
    "for i in range(12):\n",
    "  print(min(errXsTrain[i]))\n",
    "  print(max(errXsTrain[i]))\n"
   ]
  },
  {
   "cell_type": "code",
   "execution_count": null,
   "metadata": {
    "id": "ZxYWOoAGjV5r"
   },
   "outputs": [],
   "source": []
  }
 ],
 "metadata": {
  "accelerator": "GPU",
  "colab": {
   "name": "bingo.ipynb",
   "provenance": []
  },
  "kernelspec": {
   "display_name": "Python 3",
   "language": "python",
   "name": "python3"
  },
  "language_info": {
   "codemirror_mode": {
    "name": "ipython",
    "version": 3
   },
   "file_extension": ".py",
   "mimetype": "text/x-python",
   "name": "python",
   "nbconvert_exporter": "python",
   "pygments_lexer": "ipython3",
   "version": "3.6.12"
  }
 },
 "nbformat": 4,
 "nbformat_minor": 1
}
