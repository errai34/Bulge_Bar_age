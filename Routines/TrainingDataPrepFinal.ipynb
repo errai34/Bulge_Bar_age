{
 "cells": [
  {
   "cell_type": "code",
   "execution_count": 1,
   "metadata": {},
   "outputs": [],
   "source": [
    "%matplotlib inline\n",
    "\n",
    "import numpy as np\n",
    "import pandas as pd\n",
    "from astropy.table import Table\n",
    "import matplotlib.pyplot as plt"
   ]
  },
  {
   "cell_type": "code",
   "execution_count": 2,
   "metadata": {},
   "outputs": [
    {
     "data": {
      "text/plain": [
       "2412"
      ]
     },
     "execution_count": 2,
     "metadata": {},
     "output_type": "execute_result"
    }
   ],
   "source": [
    "data = pd.read_csv('../train_data/TrainingOriginal.csv')\n",
    "len(data)"
   ]
  },
  {
   "cell_type": "code",
   "execution_count": 3,
   "metadata": {},
   "outputs": [
    {
     "data": {
      "text/html": [
       "<div>\n",
       "<style scoped>\n",
       "    .dataframe tbody tr th:only-of-type {\n",
       "        vertical-align: middle;\n",
       "    }\n",
       "\n",
       "    .dataframe tbody tr th {\n",
       "        vertical-align: top;\n",
       "    }\n",
       "\n",
       "    .dataframe thead th {\n",
       "        text-align: right;\n",
       "    }\n",
       "</style>\n",
       "<table border=\"1\" class=\"dataframe\">\n",
       "  <thead>\n",
       "    <tr style=\"text-align: right;\">\n",
       "      <th></th>\n",
       "      <th>Unnamed: 0</th>\n",
       "      <th>APOGEE_ID</th>\n",
       "      <th>source_id</th>\n",
       "      <th>LOGG</th>\n",
       "      <th>TEFF</th>\n",
       "      <th>MG_FE</th>\n",
       "      <th>FE_H_1</th>\n",
       "      <th>C_FE</th>\n",
       "      <th>N_FE</th>\n",
       "      <th>G</th>\n",
       "      <th>...</th>\n",
       "      <th>age_68L</th>\n",
       "      <th>ageErr</th>\n",
       "      <th>logAge</th>\n",
       "      <th>logAgeErr</th>\n",
       "      <th>distKpc</th>\n",
       "      <th>distKpc_68U</th>\n",
       "      <th>distKpc_68L</th>\n",
       "      <th>distErrKpc</th>\n",
       "      <th>logDistKpc</th>\n",
       "      <th>logDistKpcErr</th>\n",
       "    </tr>\n",
       "  </thead>\n",
       "  <tbody>\n",
       "    <tr>\n",
       "      <th>0</th>\n",
       "      <td>96</td>\n",
       "      <td>2M18505286+4432362</td>\n",
       "      <td>2105362083394042496</td>\n",
       "      <td>2.612084</td>\n",
       "      <td>4532.023438</td>\n",
       "      <td>0.079627</td>\n",
       "      <td>0.171318</td>\n",
       "      <td>0.098425</td>\n",
       "      <td>0.225120</td>\n",
       "      <td>11.437590</td>\n",
       "      <td>...</td>\n",
       "      <td>9.8855</td>\n",
       "      <td>1.6359</td>\n",
       "      <td>1.075021</td>\n",
       "      <td>0.062084</td>\n",
       "      <td>0.949597</td>\n",
       "      <td>0.959346</td>\n",
       "      <td>0.940806</td>\n",
       "      <td>0.009270</td>\n",
       "      <td>-0.022461</td>\n",
       "      <td>0.004238</td>\n",
       "    </tr>\n",
       "    <tr>\n",
       "      <th>1</th>\n",
       "      <td>1370</td>\n",
       "      <td>2M19263832+4240515</td>\n",
       "      <td>2125791318679254784</td>\n",
       "      <td>2.668956</td>\n",
       "      <td>4594.943848</td>\n",
       "      <td>0.007557</td>\n",
       "      <td>0.147208</td>\n",
       "      <td>0.051968</td>\n",
       "      <td>0.201030</td>\n",
       "      <td>12.541131</td>\n",
       "      <td>...</td>\n",
       "      <td>7.7786</td>\n",
       "      <td>1.4048</td>\n",
       "      <td>0.944004</td>\n",
       "      <td>0.066960</td>\n",
       "      <td>1.661610</td>\n",
       "      <td>1.680687</td>\n",
       "      <td>1.646228</td>\n",
       "      <td>0.017229</td>\n",
       "      <td>0.220529</td>\n",
       "      <td>0.004498</td>\n",
       "    </tr>\n",
       "    <tr>\n",
       "      <th>2</th>\n",
       "      <td>2583</td>\n",
       "      <td>2M19491405+4134233</td>\n",
       "      <td>2076894284238667904</td>\n",
       "      <td>2.571587</td>\n",
       "      <td>4655.399902</td>\n",
       "      <td>-0.024216</td>\n",
       "      <td>-0.026657</td>\n",
       "      <td>-0.011852</td>\n",
       "      <td>0.206955</td>\n",
       "      <td>9.852841</td>\n",
       "      <td>...</td>\n",
       "      <td>2.9080</td>\n",
       "      <td>0.6538</td>\n",
       "      <td>0.506519</td>\n",
       "      <td>0.080632</td>\n",
       "      <td>0.631819</td>\n",
       "      <td>0.640135</td>\n",
       "      <td>0.623017</td>\n",
       "      <td>0.008559</td>\n",
       "      <td>-0.199407</td>\n",
       "      <td>0.005886</td>\n",
       "    </tr>\n",
       "    <tr>\n",
       "      <th>3</th>\n",
       "      <td>1405</td>\n",
       "      <td>2M19272602+4221542</td>\n",
       "      <td>2125771390030125056</td>\n",
       "      <td>2.731084</td>\n",
       "      <td>4722.627930</td>\n",
       "      <td>0.007969</td>\n",
       "      <td>0.049620</td>\n",
       "      <td>0.014740</td>\n",
       "      <td>0.238237</td>\n",
       "      <td>12.800866</td>\n",
       "      <td>...</td>\n",
       "      <td>2.8510</td>\n",
       "      <td>0.8443</td>\n",
       "      <td>0.542153</td>\n",
       "      <td>0.101010</td>\n",
       "      <td>2.151779</td>\n",
       "      <td>2.185176</td>\n",
       "      <td>2.119093</td>\n",
       "      <td>0.033042</td>\n",
       "      <td>0.332798</td>\n",
       "      <td>0.006668</td>\n",
       "    </tr>\n",
       "    <tr>\n",
       "      <th>4</th>\n",
       "      <td>1584</td>\n",
       "      <td>2M19305546+3815037</td>\n",
       "      <td>2051928738868317440</td>\n",
       "      <td>2.938272</td>\n",
       "      <td>5037.334473</td>\n",
       "      <td>-0.054421</td>\n",
       "      <td>0.162278</td>\n",
       "      <td>-0.135970</td>\n",
       "      <td>0.452220</td>\n",
       "      <td>11.157132</td>\n",
       "      <td>...</td>\n",
       "      <td>0.6095</td>\n",
       "      <td>0.0123</td>\n",
       "      <td>-0.207889</td>\n",
       "      <td>0.008592</td>\n",
       "      <td>1.164437</td>\n",
       "      <td>1.170807</td>\n",
       "      <td>1.157657</td>\n",
       "      <td>0.006575</td>\n",
       "      <td>0.066116</td>\n",
       "      <td>0.002453</td>\n",
       "    </tr>\n",
       "  </tbody>\n",
       "</table>\n",
       "<p>5 rows × 39 columns</p>\n",
       "</div>"
      ],
      "text/plain": [
       "   Unnamed: 0           APOGEE_ID            source_id      LOGG         TEFF  \\\n",
       "0          96  2M18505286+4432362  2105362083394042496  2.612084  4532.023438   \n",
       "1        1370  2M19263832+4240515  2125791318679254784  2.668956  4594.943848   \n",
       "2        2583  2M19491405+4134233  2076894284238667904  2.571587  4655.399902   \n",
       "3        1405  2M19272602+4221542  2125771390030125056  2.731084  4722.627930   \n",
       "4        1584  2M19305546+3815037  2051928738868317440  2.938272  5037.334473   \n",
       "\n",
       "      MG_FE    FE_H_1      C_FE      N_FE          G  ...  age_68L  ageErr  \\\n",
       "0  0.079627  0.171318  0.098425  0.225120  11.437590  ...   9.8855  1.6359   \n",
       "1  0.007557  0.147208  0.051968  0.201030  12.541131  ...   7.7786  1.4048   \n",
       "2 -0.024216 -0.026657 -0.011852  0.206955   9.852841  ...   2.9080  0.6538   \n",
       "3  0.007969  0.049620  0.014740  0.238237  12.800866  ...   2.8510  0.8443   \n",
       "4 -0.054421  0.162278 -0.135970  0.452220  11.157132  ...   0.6095  0.0123   \n",
       "\n",
       "     logAge  logAgeErr   distKpc  distKpc_68U  distKpc_68L  distErrKpc  \\\n",
       "0  1.075021   0.062084  0.949597     0.959346     0.940806    0.009270   \n",
       "1  0.944004   0.066960  1.661610     1.680687     1.646228    0.017229   \n",
       "2  0.506519   0.080632  0.631819     0.640135     0.623017    0.008559   \n",
       "3  0.542153   0.101010  2.151779     2.185176     2.119093    0.033042   \n",
       "4 -0.207889   0.008592  1.164437     1.170807     1.157657    0.006575   \n",
       "\n",
       "   logDistKpc  logDistKpcErr  \n",
       "0   -0.022461       0.004238  \n",
       "1    0.220529       0.004498  \n",
       "2   -0.199407       0.005886  \n",
       "3    0.332798       0.006668  \n",
       "4    0.066116       0.002453  \n",
       "\n",
       "[5 rows x 39 columns]"
      ]
     },
     "execution_count": 3,
     "metadata": {},
     "output_type": "execute_result"
    }
   ],
   "source": [
    "data.head()"
   ]
  },
  {
   "cell_type": "code",
   "execution_count": 4,
   "metadata": {},
   "outputs": [],
   "source": [
    "feats = ['LOGG', 'TEFF', 'MG_FE', 'FE_H_1', 'C_FE', 'N_FE', \\\n",
    "           'G', 'BP', 'RP', 'J', 'H', 'K']\n",
    "\n",
    "featsErr = ['LOGG_ERR', 'TEFF_ERR', 'MG_FE_ERR', 'FE_H_ERR', 'C_FE_ERR', 'N_FE_ERR',  \\\n",
    "           'G_ERR', 'BP_ERR', 'RP_ERR', 'J_ERR', 'H_ERR', 'K_ERR']\n",
    "\n",
    "def norm(feat, eFeat):\n",
    "    \n",
    "    mu  = np.mean(feat)\n",
    "    std = np.std(feat)\n",
    "    \n",
    "    scaledFeat  = (feat-mu)/std\n",
    "    scaledEFeat = eFeat/std\n",
    "\n",
    "    return(scaledFeat,scaledEFeat)"
   ]
  },
  {
   "cell_type": "code",
   "execution_count": 5,
   "metadata": {},
   "outputs": [],
   "source": [
    "for i in range(len(feats)):\n",
    "    scaledFeat, scaledEFeat = norm(data[feats[i]], data[featsErr[i]])\n",
    "    data[feats[i]+'_NORM'] = scaledFeat\n",
    "    data[featsErr[i]+'_NORM'] = scaledEFeat"
   ]
  },
  {
   "cell_type": "code",
   "execution_count": 6,
   "metadata": {},
   "outputs": [
    {
     "data": {
      "text/html": [
       "<div>\n",
       "<style scoped>\n",
       "    .dataframe tbody tr th:only-of-type {\n",
       "        vertical-align: middle;\n",
       "    }\n",
       "\n",
       "    .dataframe tbody tr th {\n",
       "        vertical-align: top;\n",
       "    }\n",
       "\n",
       "    .dataframe thead th {\n",
       "        text-align: right;\n",
       "    }\n",
       "</style>\n",
       "<table border=\"1\" class=\"dataframe\">\n",
       "  <thead>\n",
       "    <tr style=\"text-align: right;\">\n",
       "      <th></th>\n",
       "      <th>Unnamed: 0</th>\n",
       "      <th>APOGEE_ID</th>\n",
       "      <th>source_id</th>\n",
       "      <th>LOGG</th>\n",
       "      <th>TEFF</th>\n",
       "      <th>MG_FE</th>\n",
       "      <th>FE_H_1</th>\n",
       "      <th>C_FE</th>\n",
       "      <th>N_FE</th>\n",
       "      <th>G</th>\n",
       "      <th>...</th>\n",
       "      <th>BP_NORM</th>\n",
       "      <th>BP_ERR_NORM</th>\n",
       "      <th>RP_NORM</th>\n",
       "      <th>RP_ERR_NORM</th>\n",
       "      <th>J_NORM</th>\n",
       "      <th>J_ERR_NORM</th>\n",
       "      <th>H_NORM</th>\n",
       "      <th>H_ERR_NORM</th>\n",
       "      <th>K_NORM</th>\n",
       "      <th>K_ERR_NORM</th>\n",
       "    </tr>\n",
       "  </thead>\n",
       "  <tbody>\n",
       "    <tr>\n",
       "      <th>0</th>\n",
       "      <td>96</td>\n",
       "      <td>2M18505286+4432362</td>\n",
       "      <td>2105362083394042496</td>\n",
       "      <td>2.612084</td>\n",
       "      <td>4532.023438</td>\n",
       "      <td>0.079627</td>\n",
       "      <td>0.171318</td>\n",
       "      <td>0.098425</td>\n",
       "      <td>0.225120</td>\n",
       "      <td>11.437590</td>\n",
       "      <td>...</td>\n",
       "      <td>-0.488302</td>\n",
       "      <td>0.000614</td>\n",
       "      <td>-0.586660</td>\n",
       "      <td>0.000278</td>\n",
       "      <td>-0.699683</td>\n",
       "      <td>0.025141</td>\n",
       "      <td>-0.689540</td>\n",
       "      <td>0.024354</td>\n",
       "      <td>-0.713836</td>\n",
       "      <td>0.012764</td>\n",
       "    </tr>\n",
       "    <tr>\n",
       "      <th>1</th>\n",
       "      <td>1370</td>\n",
       "      <td>2M19263832+4240515</td>\n",
       "      <td>2125791318679254784</td>\n",
       "      <td>2.668956</td>\n",
       "      <td>4594.943848</td>\n",
       "      <td>0.007557</td>\n",
       "      <td>0.147208</td>\n",
       "      <td>0.051968</td>\n",
       "      <td>0.201030</td>\n",
       "      <td>12.541131</td>\n",
       "      <td>...</td>\n",
       "      <td>0.692942</td>\n",
       "      <td>0.000564</td>\n",
       "      <td>0.636076</td>\n",
       "      <td>0.000436</td>\n",
       "      <td>0.606529</td>\n",
       "      <td>0.028570</td>\n",
       "      <td>0.550177</td>\n",
       "      <td>0.019715</td>\n",
       "      <td>0.567173</td>\n",
       "      <td>0.018565</td>\n",
       "    </tr>\n",
       "    <tr>\n",
       "      <th>2</th>\n",
       "      <td>2583</td>\n",
       "      <td>2M19491405+4134233</td>\n",
       "      <td>2076894284238667904</td>\n",
       "      <td>2.571587</td>\n",
       "      <td>4655.399902</td>\n",
       "      <td>-0.024216</td>\n",
       "      <td>-0.026657</td>\n",
       "      <td>-0.011852</td>\n",
       "      <td>0.206955</td>\n",
       "      <td>9.852841</td>\n",
       "      <td>...</td>\n",
       "      <td>-2.204866</td>\n",
       "      <td>0.000801</td>\n",
       "      <td>-2.343344</td>\n",
       "      <td>0.000580</td>\n",
       "      <td>-2.482438</td>\n",
       "      <td>0.026284</td>\n",
       "      <td>-2.540415</td>\n",
       "      <td>0.033631</td>\n",
       "      <td>-2.546003</td>\n",
       "      <td>0.019726</td>\n",
       "    </tr>\n",
       "    <tr>\n",
       "      <th>3</th>\n",
       "      <td>1405</td>\n",
       "      <td>2M19272602+4221542</td>\n",
       "      <td>2125771390030125056</td>\n",
       "      <td>2.731084</td>\n",
       "      <td>4722.627930</td>\n",
       "      <td>0.007969</td>\n",
       "      <td>0.049620</td>\n",
       "      <td>0.014740</td>\n",
       "      <td>0.238237</td>\n",
       "      <td>12.800866</td>\n",
       "      <td>...</td>\n",
       "      <td>0.938827</td>\n",
       "      <td>0.000656</td>\n",
       "      <td>0.951186</td>\n",
       "      <td>0.000439</td>\n",
       "      <td>0.959651</td>\n",
       "      <td>0.023999</td>\n",
       "      <td>0.957230</td>\n",
       "      <td>0.019715</td>\n",
       "      <td>0.961686</td>\n",
       "      <td>0.018565</td>\n",
       "    </tr>\n",
       "    <tr>\n",
       "      <th>4</th>\n",
       "      <td>1584</td>\n",
       "      <td>2M19305546+3815037</td>\n",
       "      <td>2051928738868317440</td>\n",
       "      <td>2.938272</td>\n",
       "      <td>5037.334473</td>\n",
       "      <td>-0.054421</td>\n",
       "      <td>0.162278</td>\n",
       "      <td>-0.135970</td>\n",
       "      <td>0.452220</td>\n",
       "      <td>11.157132</td>\n",
       "      <td>...</td>\n",
       "      <td>-0.876825</td>\n",
       "      <td>0.000648</td>\n",
       "      <td>-0.826550</td>\n",
       "      <td>0.000287</td>\n",
       "      <td>-0.779678</td>\n",
       "      <td>0.025141</td>\n",
       "      <td>-0.694178</td>\n",
       "      <td>0.023194</td>\n",
       "      <td>-0.696431</td>\n",
       "      <td>0.020886</td>\n",
       "    </tr>\n",
       "  </tbody>\n",
       "</table>\n",
       "<p>5 rows × 63 columns</p>\n",
       "</div>"
      ],
      "text/plain": [
       "   Unnamed: 0           APOGEE_ID            source_id      LOGG         TEFF  \\\n",
       "0          96  2M18505286+4432362  2105362083394042496  2.612084  4532.023438   \n",
       "1        1370  2M19263832+4240515  2125791318679254784  2.668956  4594.943848   \n",
       "2        2583  2M19491405+4134233  2076894284238667904  2.571587  4655.399902   \n",
       "3        1405  2M19272602+4221542  2125771390030125056  2.731084  4722.627930   \n",
       "4        1584  2M19305546+3815037  2051928738868317440  2.938272  5037.334473   \n",
       "\n",
       "      MG_FE    FE_H_1      C_FE      N_FE          G  ...   BP_NORM  \\\n",
       "0  0.079627  0.171318  0.098425  0.225120  11.437590  ... -0.488302   \n",
       "1  0.007557  0.147208  0.051968  0.201030  12.541131  ...  0.692942   \n",
       "2 -0.024216 -0.026657 -0.011852  0.206955   9.852841  ... -2.204866   \n",
       "3  0.007969  0.049620  0.014740  0.238237  12.800866  ...  0.938827   \n",
       "4 -0.054421  0.162278 -0.135970  0.452220  11.157132  ... -0.876825   \n",
       "\n",
       "   BP_ERR_NORM   RP_NORM  RP_ERR_NORM    J_NORM  J_ERR_NORM    H_NORM  \\\n",
       "0     0.000614 -0.586660     0.000278 -0.699683    0.025141 -0.689540   \n",
       "1     0.000564  0.636076     0.000436  0.606529    0.028570  0.550177   \n",
       "2     0.000801 -2.343344     0.000580 -2.482438    0.026284 -2.540415   \n",
       "3     0.000656  0.951186     0.000439  0.959651    0.023999  0.957230   \n",
       "4     0.000648 -0.826550     0.000287 -0.779678    0.025141 -0.694178   \n",
       "\n",
       "   H_ERR_NORM    K_NORM  K_ERR_NORM  \n",
       "0    0.024354 -0.713836    0.012764  \n",
       "1    0.019715  0.567173    0.018565  \n",
       "2    0.033631 -2.546003    0.019726  \n",
       "3    0.019715  0.961686    0.018565  \n",
       "4    0.023194 -0.696431    0.020886  \n",
       "\n",
       "[5 rows x 63 columns]"
      ]
     },
     "execution_count": 6,
     "metadata": {},
     "output_type": "execute_result"
    }
   ],
   "source": [
    "data.head()"
   ]
  },
  {
   "cell_type": "code",
   "execution_count": 7,
   "metadata": {},
   "outputs": [],
   "source": [
    "N = len(feats)\n",
    "mu_feats = np.ones(N)\n",
    "std_feats = np.ones(N)\n",
    "\n",
    "for i in range(len(feats)):\n",
    "    mu_feats[i] = np.mean(data[feats[i]])\n",
    "    std_feats[i] = np.std(data[feats[i]])"
   ]
  },
  {
   "cell_type": "code",
   "execution_count": 8,
   "metadata": {},
   "outputs": [],
   "source": [
    "np.save('../train_data/AllGlobal_Mu_Final.npy', mu_feats)\n",
    "np.save('../train_data/AllGlobal_Std_Final.npy', std_feats)"
   ]
  },
  {
   "cell_type": "code",
   "execution_count": 9,
   "metadata": {},
   "outputs": [
    {
     "data": {
      "text/plain": [
       "2.7330705653968734"
      ]
     },
     "execution_count": 9,
     "metadata": {},
     "output_type": "execute_result"
    }
   ],
   "source": [
    "mu_feats[0]"
   ]
  },
  {
   "cell_type": "code",
   "execution_count": 10,
   "metadata": {},
   "outputs": [
    {
     "data": {
      "text/plain": [
       "2.7330705653968734"
      ]
     },
     "execution_count": 10,
     "metadata": {},
     "output_type": "execute_result"
    }
   ],
   "source": [
    "np.mean(data['LOGG'])"
   ]
  },
  {
   "cell_type": "code",
   "execution_count": 11,
   "metadata": {},
   "outputs": [],
   "source": [
    "data.to_csv('../train_data/AllTrainedNorm.csv')"
   ]
  },
  {
   "cell_type": "code",
   "execution_count": 12,
   "metadata": {},
   "outputs": [
    {
     "data": {
      "text/html": [
       "<div>\n",
       "<style scoped>\n",
       "    .dataframe tbody tr th:only-of-type {\n",
       "        vertical-align: middle;\n",
       "    }\n",
       "\n",
       "    .dataframe tbody tr th {\n",
       "        vertical-align: top;\n",
       "    }\n",
       "\n",
       "    .dataframe thead th {\n",
       "        text-align: right;\n",
       "    }\n",
       "</style>\n",
       "<table border=\"1\" class=\"dataframe\">\n",
       "  <thead>\n",
       "    <tr style=\"text-align: right;\">\n",
       "      <th></th>\n",
       "      <th>Unnamed: 0</th>\n",
       "      <th>APOGEE_ID</th>\n",
       "      <th>source_id</th>\n",
       "      <th>LOGG</th>\n",
       "      <th>TEFF</th>\n",
       "      <th>MG_FE</th>\n",
       "      <th>FE_H_1</th>\n",
       "      <th>C_FE</th>\n",
       "      <th>N_FE</th>\n",
       "      <th>G</th>\n",
       "      <th>...</th>\n",
       "      <th>BP_NORM</th>\n",
       "      <th>BP_ERR_NORM</th>\n",
       "      <th>RP_NORM</th>\n",
       "      <th>RP_ERR_NORM</th>\n",
       "      <th>J_NORM</th>\n",
       "      <th>J_ERR_NORM</th>\n",
       "      <th>H_NORM</th>\n",
       "      <th>H_ERR_NORM</th>\n",
       "      <th>K_NORM</th>\n",
       "      <th>K_ERR_NORM</th>\n",
       "    </tr>\n",
       "  </thead>\n",
       "  <tbody>\n",
       "    <tr>\n",
       "      <th>0</th>\n",
       "      <td>96</td>\n",
       "      <td>2M18505286+4432362</td>\n",
       "      <td>2105362083394042496</td>\n",
       "      <td>2.612084</td>\n",
       "      <td>4532.023438</td>\n",
       "      <td>0.079627</td>\n",
       "      <td>0.171318</td>\n",
       "      <td>0.098425</td>\n",
       "      <td>0.225120</td>\n",
       "      <td>11.437590</td>\n",
       "      <td>...</td>\n",
       "      <td>-0.488302</td>\n",
       "      <td>0.000614</td>\n",
       "      <td>-0.586660</td>\n",
       "      <td>0.000278</td>\n",
       "      <td>-0.699683</td>\n",
       "      <td>0.025141</td>\n",
       "      <td>-0.689540</td>\n",
       "      <td>0.024354</td>\n",
       "      <td>-0.713836</td>\n",
       "      <td>0.012764</td>\n",
       "    </tr>\n",
       "    <tr>\n",
       "      <th>1</th>\n",
       "      <td>1370</td>\n",
       "      <td>2M19263832+4240515</td>\n",
       "      <td>2125791318679254784</td>\n",
       "      <td>2.668956</td>\n",
       "      <td>4594.943848</td>\n",
       "      <td>0.007557</td>\n",
       "      <td>0.147208</td>\n",
       "      <td>0.051968</td>\n",
       "      <td>0.201030</td>\n",
       "      <td>12.541131</td>\n",
       "      <td>...</td>\n",
       "      <td>0.692942</td>\n",
       "      <td>0.000564</td>\n",
       "      <td>0.636076</td>\n",
       "      <td>0.000436</td>\n",
       "      <td>0.606529</td>\n",
       "      <td>0.028570</td>\n",
       "      <td>0.550177</td>\n",
       "      <td>0.019715</td>\n",
       "      <td>0.567173</td>\n",
       "      <td>0.018565</td>\n",
       "    </tr>\n",
       "    <tr>\n",
       "      <th>2</th>\n",
       "      <td>2583</td>\n",
       "      <td>2M19491405+4134233</td>\n",
       "      <td>2076894284238667904</td>\n",
       "      <td>2.571587</td>\n",
       "      <td>4655.399902</td>\n",
       "      <td>-0.024216</td>\n",
       "      <td>-0.026657</td>\n",
       "      <td>-0.011852</td>\n",
       "      <td>0.206955</td>\n",
       "      <td>9.852841</td>\n",
       "      <td>...</td>\n",
       "      <td>-2.204866</td>\n",
       "      <td>0.000801</td>\n",
       "      <td>-2.343344</td>\n",
       "      <td>0.000580</td>\n",
       "      <td>-2.482438</td>\n",
       "      <td>0.026284</td>\n",
       "      <td>-2.540415</td>\n",
       "      <td>0.033631</td>\n",
       "      <td>-2.546003</td>\n",
       "      <td>0.019726</td>\n",
       "    </tr>\n",
       "    <tr>\n",
       "      <th>3</th>\n",
       "      <td>1405</td>\n",
       "      <td>2M19272602+4221542</td>\n",
       "      <td>2125771390030125056</td>\n",
       "      <td>2.731084</td>\n",
       "      <td>4722.627930</td>\n",
       "      <td>0.007969</td>\n",
       "      <td>0.049620</td>\n",
       "      <td>0.014740</td>\n",
       "      <td>0.238237</td>\n",
       "      <td>12.800866</td>\n",
       "      <td>...</td>\n",
       "      <td>0.938827</td>\n",
       "      <td>0.000656</td>\n",
       "      <td>0.951186</td>\n",
       "      <td>0.000439</td>\n",
       "      <td>0.959651</td>\n",
       "      <td>0.023999</td>\n",
       "      <td>0.957230</td>\n",
       "      <td>0.019715</td>\n",
       "      <td>0.961686</td>\n",
       "      <td>0.018565</td>\n",
       "    </tr>\n",
       "    <tr>\n",
       "      <th>4</th>\n",
       "      <td>1584</td>\n",
       "      <td>2M19305546+3815037</td>\n",
       "      <td>2051928738868317440</td>\n",
       "      <td>2.938272</td>\n",
       "      <td>5037.334473</td>\n",
       "      <td>-0.054421</td>\n",
       "      <td>0.162278</td>\n",
       "      <td>-0.135970</td>\n",
       "      <td>0.452220</td>\n",
       "      <td>11.157132</td>\n",
       "      <td>...</td>\n",
       "      <td>-0.876825</td>\n",
       "      <td>0.000648</td>\n",
       "      <td>-0.826550</td>\n",
       "      <td>0.000287</td>\n",
       "      <td>-0.779678</td>\n",
       "      <td>0.025141</td>\n",
       "      <td>-0.694178</td>\n",
       "      <td>0.023194</td>\n",
       "      <td>-0.696431</td>\n",
       "      <td>0.020886</td>\n",
       "    </tr>\n",
       "  </tbody>\n",
       "</table>\n",
       "<p>5 rows × 63 columns</p>\n",
       "</div>"
      ],
      "text/plain": [
       "   Unnamed: 0           APOGEE_ID            source_id      LOGG         TEFF  \\\n",
       "0          96  2M18505286+4432362  2105362083394042496  2.612084  4532.023438   \n",
       "1        1370  2M19263832+4240515  2125791318679254784  2.668956  4594.943848   \n",
       "2        2583  2M19491405+4134233  2076894284238667904  2.571587  4655.399902   \n",
       "3        1405  2M19272602+4221542  2125771390030125056  2.731084  4722.627930   \n",
       "4        1584  2M19305546+3815037  2051928738868317440  2.938272  5037.334473   \n",
       "\n",
       "      MG_FE    FE_H_1      C_FE      N_FE          G  ...   BP_NORM  \\\n",
       "0  0.079627  0.171318  0.098425  0.225120  11.437590  ... -0.488302   \n",
       "1  0.007557  0.147208  0.051968  0.201030  12.541131  ...  0.692942   \n",
       "2 -0.024216 -0.026657 -0.011852  0.206955   9.852841  ... -2.204866   \n",
       "3  0.007969  0.049620  0.014740  0.238237  12.800866  ...  0.938827   \n",
       "4 -0.054421  0.162278 -0.135970  0.452220  11.157132  ... -0.876825   \n",
       "\n",
       "   BP_ERR_NORM   RP_NORM  RP_ERR_NORM    J_NORM  J_ERR_NORM    H_NORM  \\\n",
       "0     0.000614 -0.586660     0.000278 -0.699683    0.025141 -0.689540   \n",
       "1     0.000564  0.636076     0.000436  0.606529    0.028570  0.550177   \n",
       "2     0.000801 -2.343344     0.000580 -2.482438    0.026284 -2.540415   \n",
       "3     0.000656  0.951186     0.000439  0.959651    0.023999  0.957230   \n",
       "4     0.000648 -0.826550     0.000287 -0.779678    0.025141 -0.694178   \n",
       "\n",
       "   H_ERR_NORM    K_NORM  K_ERR_NORM  \n",
       "0    0.024354 -0.713836    0.012764  \n",
       "1    0.019715  0.567173    0.018565  \n",
       "2    0.033631 -2.546003    0.019726  \n",
       "3    0.019715  0.961686    0.018565  \n",
       "4    0.023194 -0.696431    0.020886  \n",
       "\n",
       "[5 rows x 63 columns]"
      ]
     },
     "execution_count": 12,
     "metadata": {},
     "output_type": "execute_result"
    }
   ],
   "source": [
    "data.head()"
   ]
  },
  {
   "cell_type": "code",
   "execution_count": 13,
   "metadata": {},
   "outputs": [
    {
     "data": {
      "text/plain": [
       "(array([ 21.,  49.,  99., 182., 299., 415., 461., 556., 322.,   8.]),\n",
       " array([ 8.90532112,  9.40657339,  9.90782566, 10.40907793, 10.9103302 ,\n",
       "        11.41158247, 11.91283474, 12.41408701, 12.91533928, 13.41659155,\n",
       "        13.91784382]),\n",
       " <BarContainer object of 10 artists>)"
      ]
     },
     "execution_count": 13,
     "metadata": {},
     "output_type": "execute_result"
    },
    {
     "data": {
      "image/png": "[encoded data removed]",
      "text/plain": [
       "<Figure size 432x288 with 1 Axes>"
      ]
     },
     "metadata": {
      "needs_background": "light"
     },
     "output_type": "display_data"
    }
   ],
   "source": [
    "plt.hist(data['G'])"
   ]
  },
  {
   "cell_type": "code",
   "execution_count": 14,
   "metadata": {},
   "outputs": [
    {
     "data": {
      "text/plain": [
       "(array([ 21.,  49.,  99., 182., 299., 415., 461., 556., 322.,   8.]),\n",
       " array([-3.31367479, -2.76601863, -2.21836247, -1.67070631, -1.12305015,\n",
       "        -0.57539399, -0.02773783,  0.51991833,  1.0675745 ,  1.61523066,\n",
       "         2.16288682]),\n",
       " <BarContainer object of 10 artists>)"
      ]
     },
     "execution_count": 14,
     "metadata": {},
     "output_type": "execute_result"
    },
    {
     "data": {
      "image/png": "[encoded data removed]",
      "text/plain": [
       "<Figure size 432x288 with 1 Axes>"
      ]
     },
     "metadata": {
      "needs_background": "light"
     },
     "output_type": "display_data"
    }
   ],
   "source": [
    "plt.hist((data['G']-np.mean(data['G']))/np.std(data['G']))"
   ]
  },
  {
   "cell_type": "code",
   "execution_count": 15,
   "metadata": {},
   "outputs": [
    {
     "data": {
      "text/plain": [
       "(array([ 21.,  49.,  99., 182., 299., 415., 461., 556., 322.,   8.]),\n",
       " array([-3.31367479, -2.76601863, -2.21836247, -1.67070631, -1.12305015,\n",
       "        -0.57539399, -0.02773783,  0.51991833,  1.0675745 ,  1.61523066,\n",
       "         2.16288682]),\n",
       " <BarContainer object of 10 artists>)"
      ]
     },
     "execution_count": 15,
     "metadata": {},
     "output_type": "execute_result"
    },
    {
     "data": {
      "image/png": "[encoded data removed]",
      "text/plain": [
       "<Figure size 432x288 with 1 Axes>"
      ]
     },
     "metadata": {
      "needs_background": "light"
     },
     "output_type": "display_data"
    }
   ],
   "source": [
    "plt.hist(data['G_NORM'])"
   ]
  },
  {
   "cell_type": "code",
   "execution_count": 16,
   "metadata": {},
   "outputs": [
    {
     "data": {
      "text/plain": [
       "Index(['Unnamed: 0', 'APOGEE_ID', 'source_id', 'LOGG', 'TEFF', 'MG_FE',\n",
       "       'FE_H_1', 'C_FE', 'N_FE', 'G', 'BP', 'RP', 'J', 'H', 'K', 'LOGG_ERR',\n",
       "       'TEFF_ERR', 'MG_FE_ERR', 'FE_H_ERR', 'C_FE_ERR', 'N_FE_ERR', 'G_ERR',\n",
       "       'BP_ERR', 'RP_ERR', 'J_ERR', 'H_ERR', 'K_ERR', 'age', 'age_68U',\n",
       "       'age_68L', 'ageErr', 'logAge', 'logAgeErr', 'distKpc', 'distKpc_68U',\n",
       "       'distKpc_68L', 'distErrKpc', 'logDistKpc', 'logDistKpcErr', 'LOGG_NORM',\n",
       "       'LOGG_ERR_NORM', 'TEFF_NORM', 'TEFF_ERR_NORM', 'MG_FE_NORM',\n",
       "       'MG_FE_ERR_NORM', 'FE_H_1_NORM', 'FE_H_ERR_NORM', 'C_FE_NORM',\n",
       "       'C_FE_ERR_NORM', 'N_FE_NORM', 'N_FE_ERR_NORM', 'G_NORM', 'G_ERR_NORM',\n",
       "       'BP_NORM', 'BP_ERR_NORM', 'RP_NORM', 'RP_ERR_NORM', 'J_NORM',\n",
       "       'J_ERR_NORM', 'H_NORM', 'H_ERR_NORM', 'K_NORM', 'K_ERR_NORM'],\n",
       "      dtype='object')"
      ]
     },
     "execution_count": 16,
     "metadata": {},
     "output_type": "execute_result"
    }
   ],
   "source": [
    "data.columns"
   ]
  },
  {
   "cell_type": "code",
   "execution_count": 17,
   "metadata": {},
   "outputs": [
    {
     "data": {
      "text/plain": [
       "2412"
      ]
     },
     "execution_count": 17,
     "metadata": {},
     "output_type": "execute_result"
    }
   ],
   "source": [
    "len(data)"
   ]
  },
  {
   "cell_type": "code",
   "execution_count": null,
   "metadata": {},
   "outputs": [],
   "source": []
  }
 ],
 "metadata": {
  "kernelspec": {
   "display_name": "Python 3",
   "language": "python",
   "name": "python3"
  },
  "language_info": {
   "codemirror_mode": {
    "name": "ipython",
    "version": 3
   },
   "file_extension": ".py",
   "mimetype": "text/x-python",
   "name": "python",
   "nbconvert_exporter": "python",
   "pygments_lexer": "ipython3",
   "version": "3.6.12"
  }
 },
 "nbformat": 4,
 "nbformat_minor": 2
}
