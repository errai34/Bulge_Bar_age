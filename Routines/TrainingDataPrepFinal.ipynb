{
 "cells": [
  {
   "cell_type": "code",
   "execution_count": 1,
   "metadata": {},
   "outputs": [],
   "source": [
    "%matplotlib inline\n",
    "\n",
    "import numpy as np\n",
    "import pandas as pd\n",
    "from astropy.table import Table\n",
    "import matplotlib.pyplot as plt"
   ]
  },
  {
   "cell_type": "code",
   "execution_count": 2,
   "metadata": {},
   "outputs": [
    {
     "data": {
      "text/plain": [
       "2407"
      ]
     },
     "execution_count": 2,
     "metadata": {},
     "output_type": "execute_result"
    }
   ],
   "source": [
    "data = pd.read_csv('../train_data/TrainingOriginal.csv')\n",
    "len(data)"
   ]
  },
  {
   "cell_type": "code",
   "execution_count": 3,
   "metadata": {},
   "outputs": [
    {
     "data": {
      "text/html": [
       "<div>\n",
       "<style scoped>\n",
       "    .dataframe tbody tr th:only-of-type {\n",
       "        vertical-align: middle;\n",
       "    }\n",
       "\n",
       "    .dataframe tbody tr th {\n",
       "        vertical-align: top;\n",
       "    }\n",
       "\n",
       "    .dataframe thead th {\n",
       "        text-align: right;\n",
       "    }\n",
       "</style>\n",
       "<table border=\"1\" class=\"dataframe\">\n",
       "  <thead>\n",
       "    <tr style=\"text-align: right;\">\n",
       "      <th></th>\n",
       "      <th>Unnamed: 0</th>\n",
       "      <th>APOGEE_ID</th>\n",
       "      <th>source_id</th>\n",
       "      <th>LOGG</th>\n",
       "      <th>TEFF</th>\n",
       "      <th>MG_FE</th>\n",
       "      <th>FE_H_1</th>\n",
       "      <th>C_FE</th>\n",
       "      <th>N_FE</th>\n",
       "      <th>G</th>\n",
       "      <th>...</th>\n",
       "      <th>age_68L</th>\n",
       "      <th>ageErr</th>\n",
       "      <th>logAge</th>\n",
       "      <th>logAgeErr</th>\n",
       "      <th>distKpc</th>\n",
       "      <th>distKpc_68U</th>\n",
       "      <th>distKpc_68L</th>\n",
       "      <th>distErrKpc</th>\n",
       "      <th>logDistKpc</th>\n",
       "      <th>logDistKpcErr</th>\n",
       "    </tr>\n",
       "  </thead>\n",
       "  <tbody>\n",
       "    <tr>\n",
       "      <th>0</th>\n",
       "      <td>1084</td>\n",
       "      <td>2M19210586+4512568</td>\n",
       "      <td>2127074448747065088</td>\n",
       "      <td>2.528896</td>\n",
       "      <td>4618.482422</td>\n",
       "      <td>0.249912</td>\n",
       "      <td>-0.297972</td>\n",
       "      <td>0.168490</td>\n",
       "      <td>0.056509</td>\n",
       "      <td>13.001588</td>\n",
       "      <td>...</td>\n",
       "      <td>8.9660</td>\n",
       "      <td>3.17035</td>\n",
       "      <td>1.019665</td>\n",
       "      <td>0.116141</td>\n",
       "      <td>2.131597</td>\n",
       "      <td>2.165136</td>\n",
       "      <td>2.094643</td>\n",
       "      <td>0.035247</td>\n",
       "      <td>0.328705</td>\n",
       "      <td>0.007188</td>\n",
       "    </tr>\n",
       "    <tr>\n",
       "      <th>1</th>\n",
       "      <td>1425</td>\n",
       "      <td>2M19275194+4432140</td>\n",
       "      <td>2126551802766566784</td>\n",
       "      <td>2.591600</td>\n",
       "      <td>4693.142578</td>\n",
       "      <td>-0.009744</td>\n",
       "      <td>0.024268</td>\n",
       "      <td>-0.020912</td>\n",
       "      <td>0.255499</td>\n",
       "      <td>11.797462</td>\n",
       "      <td>...</td>\n",
       "      <td>3.7584</td>\n",
       "      <td>1.25425</td>\n",
       "      <td>0.749427</td>\n",
       "      <td>0.111025</td>\n",
       "      <td>1.328182</td>\n",
       "      <td>1.352511</td>\n",
       "      <td>1.310690</td>\n",
       "      <td>0.020910</td>\n",
       "      <td>0.123258</td>\n",
       "      <td>0.006820</td>\n",
       "    </tr>\n",
       "    <tr>\n",
       "      <th>2</th>\n",
       "      <td>2872</td>\n",
       "      <td>2M19555453+4637075</td>\n",
       "      <td>2085505040840529408</td>\n",
       "      <td>2.505609</td>\n",
       "      <td>4856.208984</td>\n",
       "      <td>-0.000741</td>\n",
       "      <td>-0.004339</td>\n",
       "      <td>-0.048061</td>\n",
       "      <td>0.231635</td>\n",
       "      <td>10.448584</td>\n",
       "      <td>...</td>\n",
       "      <td>2.2688</td>\n",
       "      <td>0.13555</td>\n",
       "      <td>0.379795</td>\n",
       "      <td>0.024510</td>\n",
       "      <td>0.849586</td>\n",
       "      <td>0.856019</td>\n",
       "      <td>0.843995</td>\n",
       "      <td>0.006012</td>\n",
       "      <td>-0.070793</td>\n",
       "      <td>0.003072</td>\n",
       "    </tr>\n",
       "    <tr>\n",
       "      <th>3</th>\n",
       "      <td>2595</td>\n",
       "      <td>2M19492605+4733049</td>\n",
       "      <td>2086380458255298688</td>\n",
       "      <td>3.127957</td>\n",
       "      <td>4975.877930</td>\n",
       "      <td>0.014379</td>\n",
       "      <td>-0.069816</td>\n",
       "      <td>-0.062461</td>\n",
       "      <td>0.249710</td>\n",
       "      <td>11.898893</td>\n",
       "      <td>...</td>\n",
       "      <td>2.9854</td>\n",
       "      <td>0.85270</td>\n",
       "      <td>0.572616</td>\n",
       "      <td>0.098122</td>\n",
       "      <td>0.985641</td>\n",
       "      <td>1.000090</td>\n",
       "      <td>0.971628</td>\n",
       "      <td>0.014231</td>\n",
       "      <td>-0.006281</td>\n",
       "      <td>0.006270</td>\n",
       "    </tr>\n",
       "    <tr>\n",
       "      <th>4</th>\n",
       "      <td>1410</td>\n",
       "      <td>2M19273465+3850493</td>\n",
       "      <td>2052764470784039168</td>\n",
       "      <td>2.478781</td>\n",
       "      <td>4778.781738</td>\n",
       "      <td>-0.015421</td>\n",
       "      <td>0.057593</td>\n",
       "      <td>-0.039932</td>\n",
       "      <td>0.230346</td>\n",
       "      <td>11.588008</td>\n",
       "      <td>...</td>\n",
       "      <td>3.5892</td>\n",
       "      <td>0.54525</td>\n",
       "      <td>0.605617</td>\n",
       "      <td>0.057610</td>\n",
       "      <td>1.479203</td>\n",
       "      <td>1.492124</td>\n",
       "      <td>1.467236</td>\n",
       "      <td>0.012444</td>\n",
       "      <td>0.170028</td>\n",
       "      <td>0.003653</td>\n",
       "    </tr>\n",
       "  </tbody>\n",
       "</table>\n",
       "<p>5 rows × 39 columns</p>\n",
       "</div>"
      ],
      "text/plain": [
       "   Unnamed: 0           APOGEE_ID            source_id      LOGG         TEFF  \\\n",
       "0        1084  2M19210586+4512568  2127074448747065088  2.528896  4618.482422   \n",
       "1        1425  2M19275194+4432140  2126551802766566784  2.591600  4693.142578   \n",
       "2        2872  2M19555453+4637075  2085505040840529408  2.505609  4856.208984   \n",
       "3        2595  2M19492605+4733049  2086380458255298688  3.127957  4975.877930   \n",
       "4        1410  2M19273465+3850493  2052764470784039168  2.478781  4778.781738   \n",
       "\n",
       "      MG_FE    FE_H_1      C_FE      N_FE          G  ...  age_68L   ageErr  \\\n",
       "0  0.249912 -0.297972  0.168490  0.056509  13.001588  ...   8.9660  3.17035   \n",
       "1 -0.009744  0.024268 -0.020912  0.255499  11.797462  ...   3.7584  1.25425   \n",
       "2 -0.000741 -0.004339 -0.048061  0.231635  10.448584  ...   2.2688  0.13555   \n",
       "3  0.014379 -0.069816 -0.062461  0.249710  11.898893  ...   2.9854  0.85270   \n",
       "4 -0.015421  0.057593 -0.039932  0.230346  11.588008  ...   3.5892  0.54525   \n",
       "\n",
       "     logAge  logAgeErr   distKpc  distKpc_68U  distKpc_68L  distErrKpc  \\\n",
       "0  1.019665   0.116141  2.131597     2.165136     2.094643    0.035247   \n",
       "1  0.749427   0.111025  1.328182     1.352511     1.310690    0.020910   \n",
       "2  0.379795   0.024510  0.849586     0.856019     0.843995    0.006012   \n",
       "3  0.572616   0.098122  0.985641     1.000090     0.971628    0.014231   \n",
       "4  0.605617   0.057610  1.479203     1.492124     1.467236    0.012444   \n",
       "\n",
       "   logDistKpc  logDistKpcErr  \n",
       "0    0.328705       0.007188  \n",
       "1    0.123258       0.006820  \n",
       "2   -0.070793       0.003072  \n",
       "3   -0.006281       0.006270  \n",
       "4    0.170028       0.003653  \n",
       "\n",
       "[5 rows x 39 columns]"
      ]
     },
     "execution_count": 3,
     "metadata": {},
     "output_type": "execute_result"
    }
   ],
   "source": [
    "data.head()"
   ]
  },
  {
   "cell_type": "code",
   "execution_count": 4,
   "metadata": {},
   "outputs": [],
   "source": [
    "feats = ['LOGG', 'TEFF', 'MG_FE', 'FE_H_1', 'C_FE', 'N_FE', \\\n",
    "           'G', 'BP', 'RP', 'J', 'H', 'K']\n",
    "\n",
    "featsErr = ['LOGG_ERR', 'TEFF_ERR', 'MG_FE_ERR', 'FE_H_ERR', 'C_FE_ERR', 'N_FE_ERR',  \\\n",
    "           'G_ERR', 'BP_ERR', 'RP_ERR', 'J_ERR', 'H_ERR', 'K_ERR']\n",
    "\n",
    "def norm(feat, eFeat):\n",
    "    \n",
    "    mu  = np.mean(feat)\n",
    "    std = np.std(feat)\n",
    "    \n",
    "    scaledFeat  = (feat-mu)/std\n",
    "    scaledEFeat = eFeat/std\n",
    "\n",
    "    return(scaledFeat,scaledEFeat)"
   ]
  },
  {
   "cell_type": "code",
   "execution_count": 5,
   "metadata": {},
   "outputs": [],
   "source": [
    "for i in range(len(feats)):\n",
    "    scaledFeat, scaledEFeat = norm(data[feats[i]], data[featsErr[i]])\n",
    "    data[feats[i]+'_NORM'] = scaledFeat\n",
    "    data[featsErr[i]+'_NORM'] = scaledEFeat"
   ]
  },
  {
   "cell_type": "code",
   "execution_count": 6,
   "metadata": {},
   "outputs": [
    {
     "data": {
      "text/html": [
       "<div>\n",
       "<style scoped>\n",
       "    .dataframe tbody tr th:only-of-type {\n",
       "        vertical-align: middle;\n",
       "    }\n",
       "\n",
       "    .dataframe tbody tr th {\n",
       "        vertical-align: top;\n",
       "    }\n",
       "\n",
       "    .dataframe thead th {\n",
       "        text-align: right;\n",
       "    }\n",
       "</style>\n",
       "<table border=\"1\" class=\"dataframe\">\n",
       "  <thead>\n",
       "    <tr style=\"text-align: right;\">\n",
       "      <th></th>\n",
       "      <th>Unnamed: 0</th>\n",
       "      <th>APOGEE_ID</th>\n",
       "      <th>source_id</th>\n",
       "      <th>LOGG</th>\n",
       "      <th>TEFF</th>\n",
       "      <th>MG_FE</th>\n",
       "      <th>FE_H_1</th>\n",
       "      <th>C_FE</th>\n",
       "      <th>N_FE</th>\n",
       "      <th>G</th>\n",
       "      <th>...</th>\n",
       "      <th>BP_NORM</th>\n",
       "      <th>BP_ERR_NORM</th>\n",
       "      <th>RP_NORM</th>\n",
       "      <th>RP_ERR_NORM</th>\n",
       "      <th>J_NORM</th>\n",
       "      <th>J_ERR_NORM</th>\n",
       "      <th>H_NORM</th>\n",
       "      <th>H_ERR_NORM</th>\n",
       "      <th>K_NORM</th>\n",
       "      <th>K_ERR_NORM</th>\n",
       "    </tr>\n",
       "  </thead>\n",
       "  <tbody>\n",
       "    <tr>\n",
       "      <th>0</th>\n",
       "      <td>1084</td>\n",
       "      <td>2M19210586+4512568</td>\n",
       "      <td>2127074448747065088</td>\n",
       "      <td>2.528896</td>\n",
       "      <td>4618.482422</td>\n",
       "      <td>0.249912</td>\n",
       "      <td>-0.297972</td>\n",
       "      <td>0.168490</td>\n",
       "      <td>0.056509</td>\n",
       "      <td>13.001588</td>\n",
       "      <td>...</td>\n",
       "      <td>1.186168</td>\n",
       "      <td>0.000800</td>\n",
       "      <td>1.134530</td>\n",
       "      <td>0.000310</td>\n",
       "      <td>1.055206</td>\n",
       "      <td>0.026100</td>\n",
       "      <td>1.000818</td>\n",
       "      <td>0.024197</td>\n",
       "      <td>1.011641</td>\n",
       "      <td>0.012683</td>\n",
       "    </tr>\n",
       "    <tr>\n",
       "      <th>1</th>\n",
       "      <td>1425</td>\n",
       "      <td>2M19275194+4432140</td>\n",
       "      <td>2126551802766566784</td>\n",
       "      <td>2.591600</td>\n",
       "      <td>4693.142578</td>\n",
       "      <td>-0.009744</td>\n",
       "      <td>0.024268</td>\n",
       "      <td>-0.020912</td>\n",
       "      <td>0.255499</td>\n",
       "      <td>11.797462</td>\n",
       "      <td>...</td>\n",
       "      <td>-0.108056</td>\n",
       "      <td>0.000775</td>\n",
       "      <td>-0.179383</td>\n",
       "      <td>0.000424</td>\n",
       "      <td>-0.281557</td>\n",
       "      <td>0.024965</td>\n",
       "      <td>-0.313901</td>\n",
       "      <td>0.021893</td>\n",
       "      <td>-0.300468</td>\n",
       "      <td>0.017295</td>\n",
       "    </tr>\n",
       "    <tr>\n",
       "      <th>2</th>\n",
       "      <td>2872</td>\n",
       "      <td>2M19555453+4637075</td>\n",
       "      <td>2085505040840529408</td>\n",
       "      <td>2.505609</td>\n",
       "      <td>4856.208984</td>\n",
       "      <td>-0.000741</td>\n",
       "      <td>-0.004339</td>\n",
       "      <td>-0.048061</td>\n",
       "      <td>0.231635</td>\n",
       "      <td>10.448584</td>\n",
       "      <td>...</td>\n",
       "      <td>-1.523627</td>\n",
       "      <td>0.000479</td>\n",
       "      <td>-1.680417</td>\n",
       "      <td>0.000174</td>\n",
       "      <td>-1.799882</td>\n",
       "      <td>0.027235</td>\n",
       "      <td>-1.787629</td>\n",
       "      <td>0.070287</td>\n",
       "      <td>-1.850092</td>\n",
       "      <td>0.026519</td>\n",
       "    </tr>\n",
       "    <tr>\n",
       "      <th>3</th>\n",
       "      <td>2595</td>\n",
       "      <td>2M19492605+4733049</td>\n",
       "      <td>2086380458255298688</td>\n",
       "      <td>3.127957</td>\n",
       "      <td>4975.877930</td>\n",
       "      <td>0.014379</td>\n",
       "      <td>-0.069816</td>\n",
       "      <td>-0.062461</td>\n",
       "      <td>0.249710</td>\n",
       "      <td>11.898893</td>\n",
       "      <td>...</td>\n",
       "      <td>-0.087928</td>\n",
       "      <td>0.000713</td>\n",
       "      <td>0.002420</td>\n",
       "      <td>0.000277</td>\n",
       "      <td>0.103131</td>\n",
       "      <td>0.023830</td>\n",
       "      <td>0.127411</td>\n",
       "      <td>0.020741</td>\n",
       "      <td>0.156119</td>\n",
       "      <td>0.017295</td>\n",
       "    </tr>\n",
       "    <tr>\n",
       "      <th>4</th>\n",
       "      <td>1410</td>\n",
       "      <td>2M19273465+3850493</td>\n",
       "      <td>2052764470784039168</td>\n",
       "      <td>2.478781</td>\n",
       "      <td>4778.781738</td>\n",
       "      <td>-0.015421</td>\n",
       "      <td>0.057593</td>\n",
       "      <td>-0.039932</td>\n",
       "      <td>0.230346</td>\n",
       "      <td>11.588008</td>\n",
       "      <td>...</td>\n",
       "      <td>-0.340697</td>\n",
       "      <td>0.000595</td>\n",
       "      <td>-0.400786</td>\n",
       "      <td>0.000257</td>\n",
       "      <td>-0.424538</td>\n",
       "      <td>0.032908</td>\n",
       "      <td>-0.477520</td>\n",
       "      <td>0.036872</td>\n",
       "      <td>-0.460734</td>\n",
       "      <td>0.021907</td>\n",
       "    </tr>\n",
       "  </tbody>\n",
       "</table>\n",
       "<p>5 rows × 63 columns</p>\n",
       "</div>"
      ],
      "text/plain": [
       "   Unnamed: 0           APOGEE_ID            source_id      LOGG         TEFF  \\\n",
       "0        1084  2M19210586+4512568  2127074448747065088  2.528896  4618.482422   \n",
       "1        1425  2M19275194+4432140  2126551802766566784  2.591600  4693.142578   \n",
       "2        2872  2M19555453+4637075  2085505040840529408  2.505609  4856.208984   \n",
       "3        2595  2M19492605+4733049  2086380458255298688  3.127957  4975.877930   \n",
       "4        1410  2M19273465+3850493  2052764470784039168  2.478781  4778.781738   \n",
       "\n",
       "      MG_FE    FE_H_1      C_FE      N_FE          G  ...   BP_NORM  \\\n",
       "0  0.249912 -0.297972  0.168490  0.056509  13.001588  ...  1.186168   \n",
       "1 -0.009744  0.024268 -0.020912  0.255499  11.797462  ... -0.108056   \n",
       "2 -0.000741 -0.004339 -0.048061  0.231635  10.448584  ... -1.523627   \n",
       "3  0.014379 -0.069816 -0.062461  0.249710  11.898893  ... -0.087928   \n",
       "4 -0.015421  0.057593 -0.039932  0.230346  11.588008  ... -0.340697   \n",
       "\n",
       "   BP_ERR_NORM   RP_NORM  RP_ERR_NORM    J_NORM  J_ERR_NORM    H_NORM  \\\n",
       "0     0.000800  1.134530     0.000310  1.055206    0.026100  1.000818   \n",
       "1     0.000775 -0.179383     0.000424 -0.281557    0.024965 -0.313901   \n",
       "2     0.000479 -1.680417     0.000174 -1.799882    0.027235 -1.787629   \n",
       "3     0.000713  0.002420     0.000277  0.103131    0.023830  0.127411   \n",
       "4     0.000595 -0.400786     0.000257 -0.424538    0.032908 -0.477520   \n",
       "\n",
       "   H_ERR_NORM    K_NORM  K_ERR_NORM  \n",
       "0    0.024197  1.011641    0.012683  \n",
       "1    0.021893 -0.300468    0.017295  \n",
       "2    0.070287 -1.850092    0.026519  \n",
       "3    0.020741  0.156119    0.017295  \n",
       "4    0.036872 -0.460734    0.021907  \n",
       "\n",
       "[5 rows x 63 columns]"
      ]
     },
     "execution_count": 6,
     "metadata": {},
     "output_type": "execute_result"
    }
   ],
   "source": [
    "data.head()"
   ]
  },
  {
   "cell_type": "code",
   "execution_count": 7,
   "metadata": {},
   "outputs": [],
   "source": [
    "N = len(feats)\n",
    "mu_feats = np.ones(N)\n",
    "std_feats = np.ones(N)\n",
    "\n",
    "for i in range(len(feats)):\n",
    "    mu_feats[i] = np.mean(data[feats[i]])\n",
    "    std_feats[i] = np.std(data[feats[i]])"
   ]
  },
  {
   "cell_type": "code",
   "execution_count": 15,
   "metadata": {},
   "outputs": [],
   "source": [
    "np.save('../train_data/AllGlobal_Mu_Final.npy', mu_feats)\n",
    "np.save('../train_data/AllGlobal_Std_Final.npy', std_feats)"
   ]
  },
  {
   "cell_type": "code",
   "execution_count": 9,
   "metadata": {},
   "outputs": [
    {
     "data": {
      "text/plain": [
       "2.733087790274848"
      ]
     },
     "execution_count": 9,
     "metadata": {},
     "output_type": "execute_result"
    }
   ],
   "source": [
    "mu_feats[0]"
   ]
  },
  {
   "cell_type": "code",
   "execution_count": 17,
   "metadata": {},
   "outputs": [
    {
     "data": {
      "text/plain": [
       "2407"
      ]
     },
     "execution_count": 17,
     "metadata": {},
     "output_type": "execute_result"
    }
   ],
   "source": [
    "np.mean(data['LOGG'])\n",
    "len(data)"
   ]
  },
  {
   "cell_type": "code",
   "execution_count": 16,
   "metadata": {},
   "outputs": [],
   "source": [
    "data.to_csv('../train_data/AllTrainedNorm.csv')"
   ]
  },
  {
   "cell_type": "code",
   "execution_count": 12,
   "metadata": {},
   "outputs": [
    {
     "data": {
      "text/html": [
       "<div>\n",
       "<style scoped>\n",
       "    .dataframe tbody tr th:only-of-type {\n",
       "        vertical-align: middle;\n",
       "    }\n",
       "\n",
       "    .dataframe tbody tr th {\n",
       "        vertical-align: top;\n",
       "    }\n",
       "\n",
       "    .dataframe thead th {\n",
       "        text-align: right;\n",
       "    }\n",
       "</style>\n",
       "<table border=\"1\" class=\"dataframe\">\n",
       "  <thead>\n",
       "    <tr style=\"text-align: right;\">\n",
       "      <th></th>\n",
       "      <th>Unnamed: 0</th>\n",
       "      <th>APOGEE_ID</th>\n",
       "      <th>source_id</th>\n",
       "      <th>LOGG</th>\n",
       "      <th>TEFF</th>\n",
       "      <th>MG_FE</th>\n",
       "      <th>FE_H_1</th>\n",
       "      <th>C_FE</th>\n",
       "      <th>N_FE</th>\n",
       "      <th>G</th>\n",
       "      <th>...</th>\n",
       "      <th>BP_NORM</th>\n",
       "      <th>BP_ERR_NORM</th>\n",
       "      <th>RP_NORM</th>\n",
       "      <th>RP_ERR_NORM</th>\n",
       "      <th>J_NORM</th>\n",
       "      <th>J_ERR_NORM</th>\n",
       "      <th>H_NORM</th>\n",
       "      <th>H_ERR_NORM</th>\n",
       "      <th>K_NORM</th>\n",
       "      <th>K_ERR_NORM</th>\n",
       "    </tr>\n",
       "  </thead>\n",
       "  <tbody>\n",
       "    <tr>\n",
       "      <th>0</th>\n",
       "      <td>96</td>\n",
       "      <td>2M18505286+4432362</td>\n",
       "      <td>2105362083394042496</td>\n",
       "      <td>2.612084</td>\n",
       "      <td>4532.023438</td>\n",
       "      <td>0.079627</td>\n",
       "      <td>0.171318</td>\n",
       "      <td>0.098425</td>\n",
       "      <td>0.225120</td>\n",
       "      <td>11.437590</td>\n",
       "      <td>...</td>\n",
       "      <td>-0.488302</td>\n",
       "      <td>0.000614</td>\n",
       "      <td>-0.586660</td>\n",
       "      <td>0.000278</td>\n",
       "      <td>-0.699683</td>\n",
       "      <td>0.025141</td>\n",
       "      <td>-0.689540</td>\n",
       "      <td>0.024354</td>\n",
       "      <td>-0.713836</td>\n",
       "      <td>0.012764</td>\n",
       "    </tr>\n",
       "    <tr>\n",
       "      <th>1</th>\n",
       "      <td>1370</td>\n",
       "      <td>2M19263832+4240515</td>\n",
       "      <td>2125791318679254784</td>\n",
       "      <td>2.668956</td>\n",
       "      <td>4594.943848</td>\n",
       "      <td>0.007557</td>\n",
       "      <td>0.147208</td>\n",
       "      <td>0.051968</td>\n",
       "      <td>0.201030</td>\n",
       "      <td>12.541131</td>\n",
       "      <td>...</td>\n",
       "      <td>0.692942</td>\n",
       "      <td>0.000564</td>\n",
       "      <td>0.636076</td>\n",
       "      <td>0.000436</td>\n",
       "      <td>0.606529</td>\n",
       "      <td>0.028570</td>\n",
       "      <td>0.550177</td>\n",
       "      <td>0.019715</td>\n",
       "      <td>0.567173</td>\n",
       "      <td>0.018565</td>\n",
       "    </tr>\n",
       "    <tr>\n",
       "      <th>2</th>\n",
       "      <td>2583</td>\n",
       "      <td>2M19491405+4134233</td>\n",
       "      <td>2076894284238667904</td>\n",
       "      <td>2.571587</td>\n",
       "      <td>4655.399902</td>\n",
       "      <td>-0.024216</td>\n",
       "      <td>-0.026657</td>\n",
       "      <td>-0.011852</td>\n",
       "      <td>0.206955</td>\n",
       "      <td>9.852841</td>\n",
       "      <td>...</td>\n",
       "      <td>-2.204866</td>\n",
       "      <td>0.000801</td>\n",
       "      <td>-2.343344</td>\n",
       "      <td>0.000580</td>\n",
       "      <td>-2.482438</td>\n",
       "      <td>0.026284</td>\n",
       "      <td>-2.540415</td>\n",
       "      <td>0.033631</td>\n",
       "      <td>-2.546003</td>\n",
       "      <td>0.019726</td>\n",
       "    </tr>\n",
       "    <tr>\n",
       "      <th>3</th>\n",
       "      <td>1405</td>\n",
       "      <td>2M19272602+4221542</td>\n",
       "      <td>2125771390030125056</td>\n",
       "      <td>2.731084</td>\n",
       "      <td>4722.627930</td>\n",
       "      <td>0.007969</td>\n",
       "      <td>0.049620</td>\n",
       "      <td>0.014740</td>\n",
       "      <td>0.238237</td>\n",
       "      <td>12.800866</td>\n",
       "      <td>...</td>\n",
       "      <td>0.938827</td>\n",
       "      <td>0.000656</td>\n",
       "      <td>0.951186</td>\n",
       "      <td>0.000439</td>\n",
       "      <td>0.959651</td>\n",
       "      <td>0.023999</td>\n",
       "      <td>0.957230</td>\n",
       "      <td>0.019715</td>\n",
       "      <td>0.961686</td>\n",
       "      <td>0.018565</td>\n",
       "    </tr>\n",
       "    <tr>\n",
       "      <th>4</th>\n",
       "      <td>1584</td>\n",
       "      <td>2M19305546+3815037</td>\n",
       "      <td>2051928738868317440</td>\n",
       "      <td>2.938272</td>\n",
       "      <td>5037.334473</td>\n",
       "      <td>-0.054421</td>\n",
       "      <td>0.162278</td>\n",
       "      <td>-0.135970</td>\n",
       "      <td>0.452220</td>\n",
       "      <td>11.157132</td>\n",
       "      <td>...</td>\n",
       "      <td>-0.876825</td>\n",
       "      <td>0.000648</td>\n",
       "      <td>-0.826550</td>\n",
       "      <td>0.000287</td>\n",
       "      <td>-0.779678</td>\n",
       "      <td>0.025141</td>\n",
       "      <td>-0.694178</td>\n",
       "      <td>0.023194</td>\n",
       "      <td>-0.696431</td>\n",
       "      <td>0.020886</td>\n",
       "    </tr>\n",
       "  </tbody>\n",
       "</table>\n",
       "<p>5 rows × 63 columns</p>\n",
       "</div>"
      ],
      "text/plain": [
       "   Unnamed: 0           APOGEE_ID            source_id      LOGG         TEFF  \\\n",
       "0          96  2M18505286+4432362  2105362083394042496  2.612084  4532.023438   \n",
       "1        1370  2M19263832+4240515  2125791318679254784  2.668956  4594.943848   \n",
       "2        2583  2M19491405+4134233  2076894284238667904  2.571587  4655.399902   \n",
       "3        1405  2M19272602+4221542  2125771390030125056  2.731084  4722.627930   \n",
       "4        1584  2M19305546+3815037  2051928738868317440  2.938272  5037.334473   \n",
       "\n",
       "      MG_FE    FE_H_1      C_FE      N_FE          G  ...   BP_NORM  \\\n",
       "0  0.079627  0.171318  0.098425  0.225120  11.437590  ... -0.488302   \n",
       "1  0.007557  0.147208  0.051968  0.201030  12.541131  ...  0.692942   \n",
       "2 -0.024216 -0.026657 -0.011852  0.206955   9.852841  ... -2.204866   \n",
       "3  0.007969  0.049620  0.014740  0.238237  12.800866  ...  0.938827   \n",
       "4 -0.054421  0.162278 -0.135970  0.452220  11.157132  ... -0.876825   \n",
       "\n",
       "   BP_ERR_NORM   RP_NORM  RP_ERR_NORM    J_NORM  J_ERR_NORM    H_NORM  \\\n",
       "0     0.000614 -0.586660     0.000278 -0.699683    0.025141 -0.689540   \n",
       "1     0.000564  0.636076     0.000436  0.606529    0.028570  0.550177   \n",
       "2     0.000801 -2.343344     0.000580 -2.482438    0.026284 -2.540415   \n",
       "3     0.000656  0.951186     0.000439  0.959651    0.023999  0.957230   \n",
       "4     0.000648 -0.826550     0.000287 -0.779678    0.025141 -0.694178   \n",
       "\n",
       "   H_ERR_NORM    K_NORM  K_ERR_NORM  \n",
       "0    0.024354 -0.713836    0.012764  \n",
       "1    0.019715  0.567173    0.018565  \n",
       "2    0.033631 -2.546003    0.019726  \n",
       "3    0.019715  0.961686    0.018565  \n",
       "4    0.023194 -0.696431    0.020886  \n",
       "\n",
       "[5 rows x 63 columns]"
      ]
     },
     "execution_count": 12,
     "metadata": {},
     "output_type": "execute_result"
    }
   ],
   "source": [
    "data.head()"
   ]
  },
  {
   "cell_type": "code",
   "execution_count": 11,
   "metadata": {},
   "outputs": [
    {
     "data": {
      "text/plain": [
       "(array([ 21.,  54.,  97., 189., 279., 415., 459., 575., 310.,   8.]),\n",
       " array([ 8.90532112,  9.40657339,  9.90782566, 10.40907793, 10.9103302 ,\n",
       "        11.41158247, 11.91283474, 12.41408701, 12.91533928, 13.41659155,\n",
       "        13.91784382]),\n",
       " <BarContainer object of 10 artists>)"
      ]
     },
     "execution_count": 11,
     "metadata": {},
     "output_type": "execute_result"
    },
    {
     "data": {
      "image/png": "[encoded data removed]",
      "text/plain": [
       "<Figure size 432x288 with 1 Axes>"
      ]
     },
     "metadata": {
      "needs_background": "light"
     },
     "output_type": "display_data"
    }
   ],
   "source": [
    "plt.hist(data['G'])"
   ]
  },
  {
   "cell_type": "code",
   "execution_count": 12,
   "metadata": {},
   "outputs": [
    {
     "data": {
      "text/plain": [
       "(array([ 21.,  54.,  97., 189., 279., 415., 459., 575., 310.,   8.]),\n",
       " array([-3.2885537 , -2.74450753, -2.20046136, -1.65641518, -1.11236901,\n",
       "        -0.56832284, -0.02427667,  0.5197695 ,  1.06381567,  1.60786184,\n",
       "         2.15190801]),\n",
       " <BarContainer object of 10 artists>)"
      ]
     },
     "execution_count": 12,
     "metadata": {},
     "output_type": "execute_result"
    },
    {
     "data": {
      "image/png": "[encoded data removed]",
      "text/plain": [
       "<Figure size 432x288 with 1 Axes>"
      ]
     },
     "metadata": {
      "needs_background": "light"
     },
     "output_type": "display_data"
    }
   ],
   "source": [
    "plt.hist((data['G']-np.mean(data['G']))/np.std(data['G']))"
   ]
  },
  {
   "cell_type": "code",
   "execution_count": 15,
   "metadata": {},
   "outputs": [
    {
     "data": {
      "text/plain": [
       "(array([ 21.,  49.,  99., 182., 299., 415., 461., 556., 322.,   8.]),\n",
       " array([-3.31367479, -2.76601863, -2.21836247, -1.67070631, -1.12305015,\n",
       "        -0.57539399, -0.02773783,  0.51991833,  1.0675745 ,  1.61523066,\n",
       "         2.16288682]),\n",
       " <BarContainer object of 10 artists>)"
      ]
     },
     "execution_count": 15,
     "metadata": {},
     "output_type": "execute_result"
    },
    {
     "data": {
      "image/png": "[encoded data removed]",
      "text/plain": [
       "<Figure size 432x288 with 1 Axes>"
      ]
     },
     "metadata": {
      "needs_background": "light"
     },
     "output_type": "display_data"
    }
   ],
   "source": [
    "plt.hist(data['G_NORM'])"
   ]
  },
  {
   "cell_type": "code",
   "execution_count": 14,
   "metadata": {},
   "outputs": [
    {
     "data": {
      "text/plain": [
       "Index(['Unnamed: 0', 'APOGEE_ID', 'source_id', 'LOGG', 'TEFF', 'MG_FE',\n",
       "       'FE_H_1', 'C_FE', 'N_FE', 'G', 'BP', 'RP', 'J', 'H', 'K', 'LOGG_ERR',\n",
       "       'TEFF_ERR', 'MG_FE_ERR', 'FE_H_ERR', 'C_FE_ERR', 'N_FE_ERR', 'G_ERR',\n",
       "       'BP_ERR', 'RP_ERR', 'J_ERR', 'H_ERR', 'K_ERR', 'age', 'age_68U',\n",
       "       'age_68L', 'ageErr', 'logAge', 'logAgeErr', 'distKpc', 'distKpc_68U',\n",
       "       'distKpc_68L', 'distErrKpc', 'logDistKpc', 'logDistKpcErr', 'LOGG_NORM',\n",
       "       'LOGG_ERR_NORM', 'TEFF_NORM', 'TEFF_ERR_NORM', 'MG_FE_NORM',\n",
       "       'MG_FE_ERR_NORM', 'FE_H_1_NORM', 'FE_H_ERR_NORM', 'C_FE_NORM',\n",
       "       'C_FE_ERR_NORM', 'N_FE_NORM', 'N_FE_ERR_NORM', 'G_NORM', 'G_ERR_NORM',\n",
       "       'BP_NORM', 'BP_ERR_NORM', 'RP_NORM', 'RP_ERR_NORM', 'J_NORM',\n",
       "       'J_ERR_NORM', 'H_NORM', 'H_ERR_NORM', 'K_NORM', 'K_ERR_NORM'],\n",
       "      dtype='object')"
      ]
     },
     "execution_count": 14,
     "metadata": {},
     "output_type": "execute_result"
    }
   ],
   "source": [
    "data.columns"
   ]
  },
  {
   "cell_type": "code",
   "execution_count": 13,
   "metadata": {},
   "outputs": [
    {
     "data": {
      "text/plain": [
       "2407"
      ]
     },
     "execution_count": 13,
     "metadata": {},
     "output_type": "execute_result"
    }
   ],
   "source": [
    "len(data)"
   ]
  },
  {
   "cell_type": "code",
   "execution_count": null,
   "metadata": {},
   "outputs": [],
   "source": []
  }
 ],
 "metadata": {
  "kernelspec": {
   "display_name": "Python 3",
   "language": "python",
   "name": "python3"
  },
  "language_info": {
   "codemirror_mode": {
    "name": "ipython",
    "version": 3
   },
   "file_extension": ".py",
   "mimetype": "text/x-python",
   "name": "python",
   "nbconvert_exporter": "python",
   "pygments_lexer": "ipython3",
   "version": "3.6.12"
  }
 },
 "nbformat": 4,
 "nbformat_minor": 2
}
