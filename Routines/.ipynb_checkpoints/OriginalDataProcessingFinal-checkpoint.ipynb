{
 "cells": [
  {
   "cell_type": "markdown",
   "metadata": {},
   "source": [
    "# This is to get the final training and testing sets. \n",
    "The core here is data consistency: have all the estimates and their uncertainities; make sure the data has been standardized properly etc."
   ]
  },
  {
   "cell_type": "code",
   "execution_count": 2,
   "metadata": {},
   "outputs": [],
   "source": [
    "%matplotlib inline\n",
    "\n",
    "import numpy as np\n",
    "import pandas as pd\n",
    "from astropy.table import Table\n",
    "from astropy.io.misc.hdf5 import write_table_hdf5"
   ]
  },
  {
   "cell_type": "code",
   "execution_count": 3,
   "metadata": {},
   "outputs": [],
   "source": [
    "dataAll = Table.read('/Users/ioanaciuca/Desktop/BINGO_final/data/AK7dotS35_GDR2pos_APODR14.fits')"
   ]
  },
  {
   "cell_type": "markdown",
   "metadata": {},
   "source": [
    "Step 1 is the training set. We are selecting only stars with SNR > 200 as our training set. We also make sure that the RC stars with mass greater than 1.8 solar masses are chosen."
   ]
  },
  {
   "cell_type": "code",
   "execution_count": 3,
   "metadata": {},
   "outputs": [],
   "source": [
    "mask = (dataAll['age']>=0) & (dataAll['age']<=20) & (dataAll['SNR']>=200) & \\\n",
    "((dataAll['evstate']==1) | ((dataAll['evstate']==2) & (dataAll['mass']>=1.8)))\n",
    "dataAll = dataAll[mask]"
   ]
  },
  {
   "cell_type": "code",
   "execution_count": 4,
   "metadata": {},
   "outputs": [
    {
     "data": {
      "text/plain": [
       "1521"
      ]
     },
     "execution_count": 4,
     "metadata": {},
     "output_type": "execute_result"
    }
   ],
   "source": [
    "len(dataAll)"
   ]
  },
  {
   "cell_type": "code",
   "execution_count": 5,
   "metadata": {},
   "outputs": [
    {
     "name": "stdout",
     "output_type": "stream",
     "text": [
      "The number of stars in the APOGEE-TGAS DR14 sample is:\n",
      "1521\n",
      "Found 1521 stars with positive ages\n",
      "Found 1521 stars with good g fluxes\n"
     ]
    },
    {
     "name": "stderr",
     "output_type": "stream",
     "text": [
      "/Users/ioanaciuca/anaconda3/envs/moreDL/lib/python3.6/site-packages/astropy/table/column.py:965: RuntimeWarning: invalid value encountered in greater_equal\n",
      "  return getattr(self.data, op)(other)\n"
     ]
    },
    {
     "name": "stdout",
     "output_type": "stream",
     "text": [
      "Found 1461 stars with good bp fluxes\n",
      "Found 1460 stars with good rp fluxes\n",
      "Found 1459 stars with good J err values\n"
     ]
    }
   ],
   "source": [
    "nstars   = len(dataAll)  \n",
    "\n",
    "print(\"The number of stars in the APOGEE-TGAS DR14 sample is:\")\n",
    "print(nstars) \n",
    "\n",
    "index  = dataAll['age']>=0\n",
    "print(\"Found \"+str(np.sum(index))+\" stars with positive ages\")\n",
    "dataAge = dataAll[:][index]\n",
    "\n",
    "index_g = dataAge['phot_g_mean_flux']>=0\n",
    "print(\"Found \"+str(np.sum(index_g))+\" stars with good g fluxes\")\n",
    "dataAge = dataAge[:][index_g]\n",
    "\n",
    "index_bp = dataAge['phot_bp_mean_flux']>=0\n",
    "print(\"Found \"+str(np.sum(index_bp))+\" stars with good bp fluxes\")\n",
    "dataAge = dataAge[:][index_bp]\n",
    "\n",
    "index_rp = dataAge['phot_rp_mean_flux']>=0\n",
    "print(\"Found \"+str(np.sum(index_rp))+\" stars with good rp fluxes\")\n",
    "dataAge = dataAge[:][index_rp]\n",
    "\n",
    "index_jerr = dataAge['J_ERR']>=0\n",
    "print(\"Found \"+str(np.sum(index_jerr))+\" stars with good J err values\")\n",
    "dataAge = dataAge[:][index_jerr]"
   ]
  },
  {
   "cell_type": "code",
   "execution_count": 6,
   "metadata": {},
   "outputs": [],
   "source": [
    "# Get the final features: logg, teff, alpham, mh, cfe, nfe, gmag, bpmag, rpmag, j, h, k & their errors\n",
    "# Get the final targets: age and distance and their errors\n",
    "\n",
    "g_mag = dataAge['phot_g_mean_mag']\n",
    "g_flux = dataAge['phot_g_mean_flux']\n",
    "g_flux_error = dataAge['phot_g_mean_flux_error']\n",
    "gmagErr = 0.01 + 0.5 * 2.5 * (np.log10((g_flux + g_flux_error )/g_flux) - np.log10((g_flux - g_flux_error )/g_flux))\n",
    "\n",
    "bp_mag = dataAge['phot_bp_mean_mag']\n",
    "bp_flux = dataAge['phot_bp_mean_flux']\n",
    "bp_flux_error = dataAge['phot_bp_mean_flux_error']\n",
    "bpmagErr = 0.01 + 0.5 * 2.5 * (np.log10((bp_flux + bp_flux_error )/bp_flux) - np.log10((bp_flux - bp_flux_error )/bp_flux))\n",
    "\n",
    "rp_mag = dataAge['phot_rp_mean_mag']\n",
    "rp_flux = dataAge['phot_rp_mean_flux']\n",
    "rp_flux_error = dataAge['phot_rp_mean_flux_error']\n",
    "rpmagErr = 0.01 +  0.5 * 2.5 * (np.log10((rp_flux + rp_flux_error )/rp_flux) - np.log10((rp_flux - rp_flux_error )/rp_flux))\n",
    "\n",
    "dataAge['G'] = g_mag\n",
    "dataAge['G_ERR'] = gmagErr\n",
    "\n",
    "dataAge['BP'] = bp_mag\n",
    "dataAge['BP_ERR'] = bpmagErr\n",
    "\n",
    "dataAge['RP'] = rp_mag\n",
    "dataAge['RP_ERR'] = rpmagErr"
   ]
  },
  {
   "cell_type": "code",
   "execution_count": 7,
   "metadata": {},
   "outputs": [],
   "source": [
    "# Target 1: age and age uncertainty\n",
    "age = dataAge['age']\n",
    "age_68u = dataAge['age_68u']\n",
    "age_68l = dataAge['age_68l']\n",
    "logAge = np.log10(age)\n",
    "logAgeErr = (np.log10(age_68u) - np.log10(age_68l))/2.0\n",
    "\n",
    "dataAge['logAge'] = logAge\n",
    "dataAge['logAgeErr'] = logAgeErr"
   ]
  },
  {
   "cell_type": "code",
   "execution_count": 8,
   "metadata": {},
   "outputs": [],
   "source": [
    "dist = dataAge['dist_2']\n",
    "dist_68u = dataAge['dist_68u']\n",
    "dist_68l = dataAge['dist_68l']\n",
    "dist_err = (dist_68u - dist_68l)/2.0\n",
    "\n",
    "# This is distance in kpc\n",
    "# Make sure you change this in the distance modulus\n",
    "\n",
    "dist_kpc = dist/1000\n",
    "logDistKpc = np.log10(dist_kpc)\n",
    "\n",
    "dist_68u_kpc = dist_68u/1000\n",
    "dist_68l_kpc = dist_68l/1000\n",
    "dist_kpc_err = dist_err/1000\n",
    "\n",
    "logDistKpcErr = (np.log10(dist_68u_kpc) - np.log10(dist_68l_kpc))/2.0\n",
    "\n",
    "dataAge['distKpc'] = dist_kpc\n",
    "dataAge['distKpc_68u'] = dist_68u_kpc\n",
    "dataAge['distKpc_68l'] = dist_68l_kpc\n",
    "dataAge['distErrKpc'] = dist_kpc_err\n",
    "\n",
    "# Get the log(distance) error\n",
    "# Also make sure you save an APOGEE id etc. Done\n",
    "\n",
    "dataAge['logDistKpc'] = logDistKpc\n",
    "dataAge['logDistKpcErr'] = logDistKpcErr"
   ]
  },
  {
   "cell_type": "code",
   "execution_count": 9,
   "metadata": {},
   "outputs": [],
   "source": [
    "# Do the feature normalization here\n",
    "# Features of interest: 12\n",
    "\n",
    "feats = ['LOGG', 'TEFF', 'ALPHA_M', 'M_H', 'C_FE', 'N_FE', \\\n",
    "           'G', 'BP', 'RP', 'J', 'H', 'K']\n",
    "\n",
    "featsErr = ['LOGG_ERR', 'TEFF_ERR', 'ALPHA_M_ERR', 'M_H_ERR', 'C_FE_ERR', 'N_FE_ERR', \\\n",
    "           'G_ERR', 'BP_ERR', 'RP_ERR', 'J_ERR', 'H_ERR', 'K_ERR']\n",
    "\n",
    "def norm(feat, eFeat):\n",
    "    \n",
    "    mu  = np.mean(feat)\n",
    "    std = np.std(feat)\n",
    "    \n",
    "    scaledFeat  = (feat-mu)/std\n",
    "    scaledEFeat = eFeat/std\n",
    "\n",
    "    return(scaledFeat,scaledEFeat)"
   ]
  },
  {
   "cell_type": "code",
   "execution_count": 10,
   "metadata": {},
   "outputs": [
    {
     "data": {
      "text/plain": [
       "Text(0, 0.5, 'dist, kpc')"
      ]
     },
     "execution_count": 10,
     "metadata": {},
     "output_type": "execute_result"
    },
    {
     "data": {
      "image/png": "[encoded data removed]",
      "text/plain": [
       "<Figure size 432x288 with 1 Axes>"
      ]
     },
     "metadata": {
      "needs_background": "light"
     },
     "output_type": "display_data"
    }
   ],
   "source": [
    "import matplotlib.pyplot as plt\n",
    "plt.scatter(logDistKpcErr, logDistKpc)\n",
    "plt.xlabel('err in log(dist), kpc')\n",
    "plt.ylabel('dist, kpc')"
   ]
  },
  {
   "cell_type": "code",
   "execution_count": 11,
   "metadata": {},
   "outputs": [],
   "source": [
    "for i in range(len(feats)):\n",
    "    scaledFeat, scaledEFeat = norm(dataAge[feats[i]], dataAge[featsErr[i]])\n",
    "    dataAge[feats[i]+'_NORM'] = scaledFeat\n",
    "    dataAge[featsErr[i]+'_NORM'] = scaledEFeat"
   ]
  },
  {
   "cell_type": "code",
   "execution_count": 12,
   "metadata": {},
   "outputs": [
    {
     "data": {
      "text/plain": [
       "1459"
      ]
     },
     "execution_count": 12,
     "metadata": {},
     "output_type": "execute_result"
    }
   ],
   "source": [
    "len(dataAge)"
   ]
  },
  {
   "cell_type": "code",
   "execution_count": 12,
   "metadata": {},
   "outputs": [
    {
     "name": "stderr",
     "output_type": "stream",
     "text": [
      "WARNING: UnitsWarning: ''electron'.s**-1' did not parse as fits unit: At col 0, Unit ''electron'' not supported by the FITS standard.  [astropy.units.core]\n",
      "WARNING: UnitsWarning: 'log(cm.s**-2)' did not parse as fits unit: 'log' is not a recognized function [astropy.units.core]\n",
      "WARNING: UnitsWarning: 'dex' did not parse as fits unit: At col 0, Unit 'dex' not supported by the FITS standard.  [astropy.units.core]\n"
     ]
    }
   ],
   "source": [
    "dataAge.write('../training_data/AllTrainingFinal.fits', overwrite=True)"
   ]
  },
  {
   "cell_type": "code",
   "execution_count": 13,
   "metadata": {},
   "outputs": [
    {
     "name": "stderr",
     "output_type": "stream",
     "text": [
      "WARNING: table contains column(s) with defined 'unit', 'format', 'description', or 'meta' info attributes. These will be dropped since serialize_meta=False. [astropy.io.misc.hdf5]\n",
      "WARNING: Attribute `__serialized_columns__` of type <class 'dict'> cannot be written to HDF5 files - skipping. (Consider specifying serialize_meta=True to write all meta data) [astropy.io.misc.hdf5]\n"
     ]
    }
   ],
   "source": [
    "write_table_hdf5(dataAge, '../training_data/AllTrainingFinal.hdf5',  path='updated_data', overwrite=True)"
   ]
  },
  {
   "cell_type": "code",
   "execution_count": 14,
   "metadata": {},
   "outputs": [],
   "source": [
    "N = len(feats)\n",
    "mu_feats = np.ones(N)\n",
    "std_feats = np.ones(N)\n",
    "\n",
    "for i in range(len(feats)):\n",
    "    mu_feats[i] = np.mean(dataAge[feats[i]])\n",
    "    std_feats[i] = np.std(dataAge[feats[i]])"
   ]
  },
  {
   "cell_type": "code",
   "execution_count": 15,
   "metadata": {},
   "outputs": [],
   "source": [
    "np.save('../training_data/AllGlobal_Mu_Final.npy', mu_feats)\n",
    "np.save('../training_data/AllGlobal_Std_Final.npy', std_feats)"
   ]
  }
 ],
 "metadata": {
  "kernelspec": {
   "display_name": "Python 3",
   "language": "python",
   "name": "python3"
  },
  "language_info": {
   "codemirror_mode": {
    "name": "ipython",
    "version": 3
   },
   "file_extension": ".py",
   "mimetype": "text/x-python",
   "name": "python",
   "nbconvert_exporter": "python",
   "pygments_lexer": "ipython3",
   "version": "3.6.6"
  }
 },
 "nbformat": 4,
 "nbformat_minor": 2
}
