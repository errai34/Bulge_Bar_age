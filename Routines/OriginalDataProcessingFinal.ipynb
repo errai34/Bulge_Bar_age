{
 "cells": [
  {
   "cell_type": "markdown",
   "metadata": {},
   "source": [
    "# This is to get the final training and testing sets. \n",
    "The core here is data consistency: have all the estimates and their uncertainities; make sure the data has been standardized properly etc."
   ]
  },
  {
   "cell_type": "code",
   "execution_count": 1,
   "metadata": {},
   "outputs": [],
   "source": [
    "%matplotlib inline\n",
    "\n",
    "import numpy as np\n",
    "import pandas as pd\n",
    "from astropy.table import Table\n",
    "from astropy.io.misc.hdf5 import write_table_hdf5\n",
    "import matplotlib.pyplot as plt"
   ]
  },
  {
   "cell_type": "code",
   "execution_count": 2,
   "metadata": {},
   "outputs": [],
   "source": [
    "dataAll = Table.read('../data/7dot39_cut_APOGEE_DR16_EDR3.fits')"
   ]
  },
  {
   "cell_type": "markdown",
   "metadata": {},
   "source": [
    "Step 1 is the training set. We are selecting only stars with SNR > 100 as our training set. We also make sure that the RC stars with mass greater than 1.8 solar masses are chosen. RGB stars with R < 11 R sun and RC stars with M > 1.2 M_sun."
   ]
  },
  {
   "cell_type": "code",
   "execution_count": 3,
   "metadata": {},
   "outputs": [],
   "source": [
    "mask = ((dataAll['age']>=0) & (dataAll['age']<=20) & (dataAll['SNR']>=100))\n",
    "dataAll = dataAll[mask]"
   ]
  },
  {
   "cell_type": "code",
   "execution_count": 4,
   "metadata": {},
   "outputs": [
    {
     "data": {
      "text/plain": [
       "3026"
      ]
     },
     "execution_count": 4,
     "metadata": {},
     "output_type": "execute_result"
    }
   ],
   "source": [
    "len(dataAll) #3026 stars in this case "
   ]
  },
  {
   "cell_type": "code",
   "execution_count": 5,
   "metadata": {},
   "outputs": [
    {
     "name": "stdout",
     "output_type": "stream",
     "text": [
      "The number of stars in the full sample sample is:\n",
      "3026\n",
      "Found 3026 stars with positive ages\n",
      "Found 3026 stars with good g fluxes\n",
      "Found 3026 stars with good bp fluxes\n",
      "Found 3026 stars with good rp fluxes\n",
      "Found 3022 stars with good J err values\n",
      "Found 3019 stars with good H err values\n",
      "Found 3016 stars with good K err values\n"
     ]
    }
   ],
   "source": [
    "nstars   = len(dataAll)  \n",
    "\n",
    "print(\"The number of stars in the full sample sample is:\")\n",
    "print(nstars) \n",
    "\n",
    "index  = dataAll['age']>=0\n",
    "print(\"Found \"+str(np.sum(index))+\" stars with positive ages\")\n",
    "dataAge = dataAll[:][index]\n",
    "\n",
    "index_g = dataAge['phot_g_mean_flux']>=0\n",
    "print(\"Found \"+str(np.sum(index_g))+\" stars with good g fluxes\")\n",
    "dataAge = dataAge[:][index_g]\n",
    "\n",
    "index_bp = dataAge['phot_bp_mean_flux']>=0\n",
    "print(\"Found \"+str(np.sum(index_bp))+\" stars with good bp fluxes\")\n",
    "dataAge = dataAge[:][index_bp]\n",
    "\n",
    "index_rp = dataAge['phot_rp_mean_flux']>=0\n",
    "print(\"Found \"+str(np.sum(index_rp))+\" stars with good rp fluxes\")\n",
    "dataAge = dataAge[:][index_rp]\n",
    "\n",
    "index_jerr = dataAge['J_ERR']>=0\n",
    "print(\"Found \"+str(np.sum(index_jerr))+\" stars with good J err values\")\n",
    "dataAge = dataAge[:][index_jerr]\n",
    "\n",
    "index_jerr = dataAge['H_ERR']>=0\n",
    "print(\"Found \"+str(np.sum(index_jerr))+\" stars with good H err values\")\n",
    "dataAge = dataAge[:][index_jerr]\n",
    "\n",
    "index_jerr = dataAge['K_ERR']>=0\n",
    "print(\"Found \"+str(np.sum(index_jerr))+\" stars with good K err values\")\n",
    "data = dataAge[:][index_jerr]"
   ]
  },
  {
   "cell_type": "code",
   "execution_count": 6,
   "metadata": {},
   "outputs": [],
   "source": [
    "# Get the final features: logg, teff, alpham, mh, cfe, nfe, gmag, bpmag, rpmag, j, h, k & their errors\n",
    "# Get the final targets: age and distance and their errors\n",
    "\n",
    "g_mag = data['phot_g_mean_mag']\n",
    "g_flux = data['phot_g_mean_flux']\n",
    "g_flux_error = data['phot_g_mean_flux_error']\n",
    "gmagErr = 0.5 * 2.5 * (np.log10(g_flux + g_flux_error) - np.log10(g_flux - g_flux_error ))\n",
    "\n",
    "bp_mag = data['phot_bp_mean_mag']\n",
    "bp_flux = data['phot_bp_mean_flux']\n",
    "bp_flux_error = data['phot_bp_mean_flux_error']\n",
    "bpmagErr = 0.5 * 2.5 * (np.log10(bp_flux + bp_flux_error) - np.log10(bp_flux - bp_flux_error ))\n",
    "\n",
    "rp_mag = data['phot_rp_mean_mag']\n",
    "rp_flux = data['phot_rp_mean_flux']\n",
    "rp_flux_error = data['phot_rp_mean_flux_error']\n",
    "rpmagErr = 0.5 * 2.5 * (np.log10(rp_flux + rp_flux_error) - np.log10(rp_flux - rp_flux_error ))\n",
    "\n",
    "data['G'] = g_mag\n",
    "data['G_ERR'] = gmagErr\n",
    "\n",
    "data['BP'] = bp_mag\n",
    "data['BP_ERR'] = bpmagErr\n",
    "\n",
    "data['RP'] = rp_mag\n",
    "data['RP_ERR'] = rpmagErr"
   ]
  },
  {
   "cell_type": "code",
   "execution_count": 7,
   "metadata": {},
   "outputs": [],
   "source": [
    "# Target 1: age and age uncertainty\n",
    "age = data['age']\n",
    "age_68u = data['age_68U']\n",
    "age_68l = data['age_68L']\n",
    "ageErr = (age_68u - age_68l)/2.0\n",
    "data['ageErr'] = ageErr\n",
    "\n",
    "logAge = np.log10(age)\n",
    "logAgeErr = (np.log10(age_68u) - np.log10(age_68l))/2.0\n",
    "\n",
    "data['logAge'] = logAge\n",
    "data['logAgeErr'] = logAgeErr"
   ]
  },
  {
   "cell_type": "code",
   "execution_count": 8,
   "metadata": {},
   "outputs": [
    {
     "data": {
      "text/plain": [
       "3016"
      ]
     },
     "execution_count": 8,
     "metadata": {},
     "output_type": "execute_result"
    },
    {
     "data": {
      "image/png": "[encoded data removed]",
      "text/plain": [
       "<Figure size 432x288 with 1 Axes>"
      ]
     },
     "metadata": {
      "needs_background": "light"
     },
     "output_type": "display_data"
    }
   ],
   "source": [
    "plt.hist(logAge)\n",
    "len(logAge)"
   ]
  },
  {
   "cell_type": "code",
   "execution_count": 9,
   "metadata": {},
   "outputs": [
    {
     "name": "stderr",
     "output_type": "stream",
     "text": [
      "/Users/ioanaciuca/anaconda3/envs/moreDL/lib/python3.6/site-packages/ipykernel_launcher.py:10: RuntimeWarning: invalid value encountered in log10\n",
      "  # Remove the CWD from sys.path while we load stuff.\n",
      "/Users/ioanaciuca/anaconda3/envs/moreDL/lib/python3.6/site-packages/ipykernel_launcher.py:16: RuntimeWarning: invalid value encountered in log10\n",
      "  app.launch_new_instance()\n"
     ]
    }
   ],
   "source": [
    "dist = data['dist']\n",
    "dist_68u = data['dist_68U']\n",
    "dist_68l = data['dist_68L']\n",
    "dist_err = (dist_68u - dist_68l)/2.0\n",
    "\n",
    "# This is distance in kpc\n",
    "# Make sure you change this in the distance modulus\n",
    "\n",
    "dist_kpc = dist/1000\n",
    "logDistKpc = np.log10(dist_kpc)\n",
    "\n",
    "dist_68u_kpc = dist_68u/1000\n",
    "dist_68l_kpc = dist_68l/1000\n",
    "dist_kpc_err = dist_err/1000\n",
    "\n",
    "logDistKpcErr = (np.log10(dist_68u_kpc) - np.log10(dist_68l_kpc))/2.0\n",
    "\n",
    "data['distKpc'] = dist_kpc\n",
    "data['distKpc_68U'] = dist_68u_kpc\n",
    "data['distKpc_68L'] = dist_68l_kpc\n",
    "data['distErrKpc'] = dist_kpc_err\n",
    "\n",
    "# Get the log(distance) error\n",
    "# Also make sure you save an APOGEE id etc. Done\n",
    "\n",
    "data['logDistKpc'] = logDistKpc\n",
    "data['logDistKpcErr'] = logDistKpcErr"
   ]
  },
  {
   "cell_type": "code",
   "execution_count": 10,
   "metadata": {},
   "outputs": [],
   "source": [
    "feats = ['APOGEE_ID', 'source_id', 'LOGG', 'TEFF', 'ALPHA_M', 'M_H', 'C_FE', 'N_FE', \\\n",
    "           'G', 'BP', 'RP', 'J', 'H', 'K', 'LOGG_ERR', 'TEFF_ERR', 'ALPHA_M_ERR', 'M_H_ERR', 'C_FE_ERR', 'N_FE_ERR', \\\n",
    "           'G_ERR', 'BP_ERR', 'RP_ERR', 'J_ERR', 'H_ERR', 'K_ERR', \\\n",
    "           'age', 'age_68U', 'age_68L', 'ageErr', 'logAge', 'logAgeErr', \\\n",
    "           'distKpc', 'distKpc_68U','distKpc_68L', 'distErrKpc', 'logDistKpc', 'logDistKpcErr']\n",
    "\n",
    "dataOfInterest = data[feats]"
   ]
  },
  {
   "cell_type": "code",
   "execution_count": 11,
   "metadata": {},
   "outputs": [
    {
     "data": {
      "text/html": [
       "<i>Table length=3016</i>\n",
       "<table id=\"table4932986360\" class=\"table-striped table-bordered table-condensed\">\n",
       "<thead><tr><th>APOGEE_ID</th><th>source_id</th><th>LOGG</th><th>TEFF</th><th>ALPHA_M</th><th>M_H</th><th>C_FE</th><th>N_FE</th><th>G</th><th>BP</th><th>RP</th><th>J</th><th>H</th><th>K</th><th>LOGG_ERR</th><th>TEFF_ERR</th><th>ALPHA_M_ERR</th><th>M_H_ERR</th><th>C_FE_ERR</th><th>N_FE_ERR</th><th>G_ERR</th><th>BP_ERR</th><th>RP_ERR</th><th>J_ERR</th><th>H_ERR</th><th>K_ERR</th><th>age</th><th>age_68U</th><th>age_68L</th><th>ageErr</th><th>logAge</th><th>logAgeErr</th><th>distKpc</th><th>distKpc_68U</th><th>distKpc_68L</th><th>distErrKpc</th><th>logDistKpc</th><th>logDistKpcErr</th></tr></thead>\n",
       "<thead><tr><th>bytes18</th><th>int64</th><th>float32</th><th>float32</th><th>float32</th><th>float32</th><th>float32</th><th>float32</th><th>float32</th><th>float32</th><th>float32</th><th>float32</th><th>float32</th><th>float32</th><th>float32</th><th>float32</th><th>float32</th><th>float32</th><th>float32</th><th>float32</th><th>float64</th><th>float64</th><th>float64</th><th>float32</th><th>float32</th><th>float32</th><th>float64</th><th>float64</th><th>float64</th><th>float64</th><th>float64</th><th>float64</th><th>float64</th><th>float64</th><th>float64</th><th>float64</th><th>float64</th><th>float64</th></tr></thead>\n",
       "<tr><td>2M18401969+4348380</td><td>2117126509915136384</td><td>2.8711064</td><td>4723.436</td><td>0.01086</td><td>0.06699445</td><td>-0.016018</td><td>0.197207</td><td>11.753538</td><td>12.318904</td><td>11.045187</td><td>10.137</td><td>9.571</td><td>9.467</td><td>0.058637943</td><td>81.75099</td><td>0.006152249</td><td>0.006008434</td><td>0.008847789</td><td>0.014188407</td><td>0.00015301766796649297</td><td>0.0006162408071208603</td><td>0.00034655273960959576</td><td>0.027</td><td>0.032</td><td>0.02</td><td>8.452</td><td>10.8035</td><td>6.8391</td><td>1.9821999999999997</td><td>0.9269594883802758</td><td>0.09928276115938284</td><td>0.9995381</td><td>1.0150514</td><td>0.9849178000000001</td><td>0.015066799999999944</td><td>-0.0002006469641756818</td><td>0.006544024098467232</td></tr>\n",
       "<tr><td>2M18405556+4353012</td><td>2117149874537225344</td><td>3.000676</td><td>4952.733</td><td>0.017616</td><td>-0.16899155</td><td>-0.012749001</td><td>0.20245</td><td>12.680544</td><td>13.187252</td><td>12.014052</td><td>11.207</td><td>10.655</td><td>10.578</td><td>0.06626931</td><td>90.44813</td><td>0.0076395846</td><td>0.0072800093</td><td>0.013481049</td><td>0.020665647</td><td>0.0002076943814155463</td><td>0.0009715401669507795</td><td>0.00030428009016869595</td><td>0.026</td><td>0.032</td><td>0.02</td><td>3.5835</td><td>4.5109</td><td>2.8510000000000004</td><td>0.82995</td><td>0.5543074088055591</td><td>0.09963299111341473</td><td>1.7527549</td><td>1.7802525</td><td>1.7268314</td><td>0.026710550000000013</td><td>0.24372118989888159</td><td>0.006615833614809635</td></tr>\n",
       "<tr><td>2M18410298+4315506</td><td>2116830779945635200</td><td>2.9010854</td><td>5117.8726</td><td>-0.0428217</td><td>-0.00211645</td><td>-0.1041679</td><td>0.3720321</td><td>11.452943</td><td>11.927316</td><td>10.815545</td><td>10.036</td><td>9.564</td><td>9.484</td><td>0.05514146</td><td>104.51944</td><td>0.008673798</td><td>0.008951051</td><td>0.016361201</td><td>0.024654208</td><td>0.0001972115077164549</td><td>0.0005618522932848702</td><td>0.00037555199628114266</td><td>0.024</td><td>0.031</td><td>0.021</td><td>0.5005</td><td>0.5726</td><td>0.4732</td><td>0.049699999999999994</td><td>-0.3005959181846626</td><td>0.04140330386484353</td><td>1.645128</td><td>1.6576175</td><td>1.6315483</td><td>0.013034600000000068</td><td>0.21619969409817283</td><td>0.00344219400113438</td></tr>\n",
       "<tr><td>2M18413176+4358551</td><td>2116969387130311040</td><td>3.1805131</td><td>4796.577</td><td>-0.010190001</td><td>0.19212845</td><td>0.041309997</td><td>0.29672</td><td>12.788189</td><td>13.337189</td><td>12.094188</td><td>11.198</td><td>10.71</td><td>10.572</td><td>0.057402786</td><td>84.56154</td><td>0.0060115494</td><td>0.0059961583</td><td>0.008783365</td><td>0.014018694</td><td>0.000196806732689625</td><td>0.0007612166681070232</td><td>0.00029357923337691716</td><td>0.022</td><td>0.031</td><td>0.02</td><td>6.9911</td><td>8.8075</td><td>5.6442</td><td>1.5816499999999998</td><td>0.8445455142785693</td><td>0.0966251287223509</td><td>1.1736595</td><td>1.1901355</td><td>1.154782</td><td>0.017676750000000085</td><td>0.06954211844485043</td><td>0.006548201998855405</td></tr>\n",
       "<tr><td>2M18420846+4315092</td><td>2116909291947572736</td><td>3.0398765</td><td>4725.525</td><td>0.05975</td><td>0.15459844</td><td>0.13375999</td><td>0.21505</td><td>11.997146</td><td>12.540438</td><td>11.308423</td><td>10.411</td><td>9.868</td><td>9.793</td><td>0.054576788</td><td>94.63482</td><td>0.0073105795</td><td>0.007685421</td><td>0.01106545</td><td>0.01701269</td><td>0.00015616878414337343</td><td>0.0006605377856638839</td><td>0.0003453686888155172</td><td>0.025</td><td>0.018</td><td>0.011</td><td>9.613999999999999</td><td>12.1627</td><td>7.7625</td><td>2.2000999999999995</td><td>0.982904117792628</td><td>0.09751419078307944</td><td>0.8492534</td><td>0.8606592000000001</td><td>0.8365657</td><td>0.012046750000000031</td><td>-0.07096270574932956</td><td>0.0061655806895158025</td></tr>\n",
       "<tr><td>2M18421097+4331424</td><td>2116931552759508992</td><td>2.7449327</td><td>4650.347</td><td>0.073969</td><td>-0.00354575</td><td>0.0838808</td><td>0.15268481</td><td>12.409217</td><td>12.985454</td><td>11.690904</td><td>10.72</td><td>10.17</td><td>10.077</td><td>0.058624983</td><td>80.34939</td><td>0.006312234</td><td>0.0061451127</td><td>0.008839405</td><td>0.014256706</td><td>0.00014679030723163677</td><td>0.0006019032513826517</td><td>0.0002754958040274147</td><td>0.021</td><td>0.021</td><td>0.011</td><td>10.3321</td><td>12.7516</td><td>8.0353</td><td>2.35815</td><td>1.0141886008731362</td><td>0.10028129257584928</td><td>1.3185384</td><td>1.3381462</td><td>1.2997207000000002</td><td>0.019212749999999914</td><td>0.12009278233973802</td><td>0.006326764678110074</td></tr>\n",
       "<tr><td>2M18421171+4401098</td><td>2116968356338186880</td><td>2.9857416</td><td>4844.4946</td><td>0.032383002</td><td>-0.06448255</td><td>0.024093002</td><td>0.14346501</td><td>12.9262295</td><td>13.468918</td><td>12.235011</td><td>11.283</td><td>10.808</td><td>10.704</td><td>0.061752915</td><td>90.38035</td><td>0.0073827514</td><td>0.0072294995</td><td>0.012188949</td><td>0.018733373</td><td>0.0001711704055562535</td><td>0.0006965400378622366</td><td>0.000564075486865212</td><td>0.02</td><td>0.017</td><td>0.011</td><td>5.4905</td><td>7.0317</td><td>4.4157</td><td>1.3079999999999998</td><td>0.7396118958805553</td><td>0.10103038686559201</td><td>1.7490899999999998</td><td>1.776172</td><td>1.7231768</td><td>0.026497600000000034</td><td>0.24281215681872773</td><td>0.006577590294996966</td></tr>\n",
       "<tr><td>2M18421481+4740382</td><td>2119807187982756096</td><td>3.0432184</td><td>4899.9116</td><td>-0.017643</td><td>0.02452145</td><td>-0.041044798</td><td>0.2394982</td><td>12.015582</td><td>12.540139</td><td>11.338369</td><td>10.476</td><td>9.981</td><td>9.86</td><td>0.060993046</td><td>92.13719</td><td>0.007233282</td><td>0.0071928822</td><td>0.012009633</td><td>0.01848097</td><td>0.00012945077556225648</td><td>0.0006684105914800398</td><td>0.00031138731389823704</td><td>0.02</td><td>0.022</td><td>0.011</td><td>2.8647</td><td>3.508</td><td>2.2491</td><td>0.6294500000000001</td><td>0.45707914806032796</td><td>0.09652540956411404</td><td>1.1695236</td><td>1.1870948000000001</td><td>1.152869</td><td>0.01711290000000008</td><td>0.0680089899300035</td><td>0.006352720590878963</td></tr>\n",
       "<tr><td>2M18425254+4409578</td><td>2117333806515665536</td><td>2.7103891</td><td>4719.904</td><td>0.0036379993</td><td>-0.15433155</td><td>0.035920992</td><td>0.101638995</td><td>12.748468</td><td>13.3066435</td><td>12.044738</td><td>11.046</td><td>10.551</td><td>10.46</td><td>0.059037793</td><td>98.15884</td><td>0.008893848</td><td>0.009067612</td><td>0.01485415</td><td>0.022145297</td><td>0.00018782308353726407</td><td>0.0008706316201168018</td><td>0.0004942606307312136</td><td>0.022</td><td>0.018</td><td>0.011</td><td>6.1759</td><td>7.8498</td><td>4.8888</td><td>1.4805000000000001</td><td>0.7907002553005112</td><td>0.10282816053248123</td><td>1.7664043999999999</td><td>1.7934630999999999</td><td>1.7398022000000002</td><td>0.02683044999999993</td><td>0.24709013785013542</td><td>0.006596284969280261</td></tr>\n",
       "<tr><td>2M18431265+4412181</td><td>2117339235354351488</td><td>2.819553</td><td>4719.658</td><td>-0.019451</td><td>0.12227845</td><td>0.038850002</td><td>0.19466001</td><td>12.669271</td><td>13.244476</td><td>11.952834</td><td>11.011</td><td>10.481</td><td>10.361</td><td>0.05724713</td><td>83.344505</td><td>0.0061748377</td><td>0.00613445</td><td>0.00881937</td><td>0.014105104</td><td>0.00018086880254175597</td><td>0.0007781919534000092</td><td>0.00029292978016015603</td><td>0.023</td><td>0.023</td><td>0.011</td><td>5.4517</td><td>6.9862</td><td>4.4157</td><td>1.28525</td><td>0.7365319491565272</td><td>0.0996207271931347</td><td>1.6516021</td><td>1.6768307</td><td>1.6266715999999999</td><td>0.02507955000000004</td><td>0.21790542640527547</td><td>0.006594666093635723</td></tr>\n",
       "<tr><td>...</td><td>...</td><td>...</td><td>...</td><td>...</td><td>...</td><td>...</td><td>...</td><td>...</td><td>...</td><td>...</td><td>...</td><td>...</td><td>...</td><td>...</td><td>...</td><td>...</td><td>...</td><td>...</td><td>...</td><td>...</td><td>...</td><td>...</td><td>...</td><td>...</td><td>...</td><td>...</td><td>...</td><td>...</td><td>...</td><td>...</td><td>...</td><td>...</td><td>...</td><td>...</td><td>...</td><td>...</td><td>...</td></tr>\n",
       "<tr><td>2M20033949+4449045</td><td>2082100677964334464</td><td>2.9525292</td><td>4772.8857</td><td>0.164109</td><td>-0.30404153</td><td>0.1451</td><td>0.022597998</td><td>10.72193</td><td>11.261379</td><td>10.028958</td><td>9.16</td><td>8.618</td><td>8.487</td><td>0.06555798</td><td>86.33847</td><td>0.007808031</td><td>0.007308764</td><td>0.01304415</td><td>0.020046106</td><td>0.00010846657584884234</td><td>0.000503140709958716</td><td>0.0002220358219118257</td><td>0.02</td><td>0.023</td><td>0.016</td><td>10.4686</td><td>13.2928</td><td>8.2224</td><td>2.5351999999999997</td><td>1.0198886059454533</td><td>0.10430893508894423</td><td>0.5025072</td><td>0.510522</td><td>0.49488010000000004</td><td>0.007820949999999983</td><td>-0.2988577112251489</td><td>0.00675723576292761</td></tr>\n",
       "<tr><td>2M20034275+4432408</td><td>2082078064950390272</td><td>2.5935142</td><td>4603.9595</td><td>0.014993001</td><td>0.18212846</td><td>0.063793</td><td>0.30757</td><td>11.625847</td><td>12.301039</td><td>10.837558</td><td>9.756</td><td>9.152</td><td>9.011</td><td>0.055131193</td><td>77.618195</td><td>0.005584295</td><td>0.005568564</td><td>0.007133675</td><td>0.01181505</td><td>0.0001614990198350874</td><td>0.0007008503204219974</td><td>0.00021029663368032914</td><td>0.02</td><td>0.018</td><td>0.016</td><td>7.8391</td><td>9.4369</td><td>6.8659</td><td>1.2854999999999999</td><td>0.8942662045887388</td><td>0.06906593961593194</td><td>1.0105154</td><td>1.0219058</td><td>1.0011518</td><td>0.01037700000000001</td><td>0.00454293644019794</td><td>0.004455465771317171</td></tr>\n",
       "<tr><td>2M20040583+4524553</td><td>2082281650707461248</td><td>3.0622013</td><td>4896.208</td><td>0.044168003</td><td>-0.27962154</td><td>0.030074984</td><td>0.08785999</td><td>11.977896</td><td>12.542881</td><td>11.264118</td><td>10.32</td><td>9.814</td><td>9.72</td><td>0.06725385</td><td>89.7606</td><td>0.007997558</td><td>0.007507585</td><td>0.0142220175</td><td>0.021631988</td><td>0.00011443706657177088</td><td>0.0007274165788195841</td><td>0.00025927681861936946</td><td>0.018</td><td>0.017</td><td>0.019</td><td>7.6209</td><td>9.6248</td><td>6.0954</td><td>1.7647000000000004</td><td>0.8820062629344757</td><td>0.0991947515389699</td><td>0.8389288</td><td>0.8515514</td><td>0.8269894000000001</td><td>0.012280999999999948</td><td>-0.07627489623833386</td><td>0.006355462150815158</td></tr>\n",
       "<tr><td>2M20040614+4412543</td><td>2081882802865049088</td><td>2.502229</td><td>4849.349</td><td>-0.018779</td><td>0.01632345</td><td>-0.0380348</td><td>0.1872992</td><td>11.809373</td><td>12.416298</td><td>11.064936</td><td>10.077</td><td>9.523</td><td>9.377</td><td>0.039999187</td><td>85.72203</td><td>0.006583435</td><td>0.006381855</td><td>0.010373191</td><td>0.016305242</td><td>0.00011755001023128209</td><td>0.000663914232789109</td><td>0.00019169453379985768</td><td>0.021</td><td>0.019</td><td>0.018</td><td>3.2798</td><td>3.4268</td><td>2.9235</td><td>0.25164999999999993</td><td>0.5158473615334396</td><td>0.034492830027753135</td><td>1.5832221</td><td>1.5943227999999998</td><td>1.5721718</td><td>0.01107549999999992</td><td>0.1995418435032045</td><td>0.003038127396734397</td></tr>\n",
       "<tr><td>2M20041135+4505154</td><td>2082133182277361152</td><td>2.7019463</td><td>4641.1494</td><td>-0.022889</td><td>0.22607845</td><td>-0.006377995</td><td>0.34348005</td><td>10.091425</td><td>10.404737</td><td>9.11654</td><td>8.159</td><td>7.638</td><td>7.475</td><td>0.05501933</td><td>78.23965</td><td>0.0054777213</td><td>0.0054702354</td><td>0.007086677</td><td>0.0116987955</td><td>0.0022784501172845584</td><td>0.0009803929429685887</td><td>0.0004932652210754007</td><td>0.02</td><td>0.02</td><td>0.023</td><td>3.3721</td><td>3.7573</td><td>2.8151</td><td>0.47109999999999985</td><td>0.5279004451947662</td><td>0.0626910228611878</td><td>0.6340714000000001</td><td>0.6414833</td><td>0.6273355</td><td>0.00707389999999998</td><td>-0.19786183536736876</td><td>0.004842745183463726</td></tr>\n",
       "<tr><td>2M20044423+4419543</td><td>2081884486492411392</td><td>2.755383</td><td>5042.1494</td><td>-0.015405001</td><td>-0.00275305</td><td>-0.057388503</td><td>0.3463205</td><td>11.531913</td><td>12.131553</td><td>10.792142</td><td>9.848</td><td>9.328</td><td>9.193</td><td>0.04942515</td><td>91.6287</td><td>0.0071753873</td><td>0.00701991</td><td>0.01247232</td><td>0.0194139</td><td>0.00018175471210302163</td><td>0.0005336538441758076</td><td>0.00021765687036046089</td><td>0.022</td><td>0.019</td><td>0.014</td><td>0.9064</td><td>1.0542</td><td>0.8414</td><td>0.1064</td><td>-0.04268010314465918</td><td>0.04896025209898052</td><td>1.2470112999999998</td><td>1.2603289</td><td>1.2332185</td><td>0.013555200000000014</td><td>0.09587038892794933</td><td>0.004721931921993015</td></tr>\n",
       "<tr><td>2M20045602+4439587</td><td>2082106038083789184</td><td>2.8206632</td><td>4608.7954</td><td>0.041529</td><td>0.38949844</td><td>0.12274197</td><td>0.34864</td><td>11.006951</td><td>11.657452</td><td>10.239505</td><td>9.246</td><td>8.644</td><td>8.516</td><td>0.052237727</td><td>76.110176</td><td>0.004925614</td><td>0.005019775</td><td>0.0059139505</td><td>0.009975863</td><td>0.0002290668956828057</td><td>0.0005429108863086451</td><td>0.0003341821727675942</td><td>0.018</td><td>0.018</td><td>0.016</td><td>4.9149</td><td>6.1610000000000005</td><td>3.9355</td><td>1.1127500000000001</td><td>0.6915146859748683</td><td>0.09732564603058186</td><td>0.7357966</td><td>0.7455651</td><td>0.7254874</td><td>0.010038850000000024</td><td>-0.13324222330653632</td><td>0.005927848134352792</td></tr>\n",
       "<tr><td>2M20045740+4432482</td><td>2081894240350116352</td><td>2.4821844</td><td>4862.0195</td><td>0.0026169978</td><td>-0.067101546</td><td>-0.007233992</td><td>0.181238</td><td>11.277164</td><td>11.916818</td><td>10.509912</td><td>9.506</td><td>8.924</td><td>8.777</td><td>0.04100928</td><td>86.82606</td><td>0.006952883</td><td>0.0066787982</td><td>0.0113331</td><td>0.017649483</td><td>0.0002291464155235179</td><td>0.0007667336683858661</td><td>0.0003292500829565892</td><td>0.02</td><td>0.024</td><td>0.016</td><td>2.9632</td><td>3.2209</td><td>2.7227</td><td>0.24909999999999988</td><td>0.47176096500184034</td><td>0.036488725020638296</td><td>1.1937497000000001</td><td>1.2012022999999998</td><td>1.1844045</td><td>0.008398899999999912</td><td>0.07691327544972035</td><td>0.0030580531615943263</td></tr>\n",
       "<tr><td>2M20045775+4438155</td><td>2082105793259249024</td><td>2.7914956</td><td>4893.6396</td><td>0.011767</td><td>-0.20921154</td><td>-0.112969995</td><td>0.36088002</td><td>12.294001</td><td>12.944347</td><td>11.515988</td><td>10.465</td><td>9.887</td><td>9.752</td><td>0.06322491</td><td>101.77525</td><td>0.009303973</td><td>0.009304887</td><td>0.017273622</td><td>0.025338301</td><td>0.00015808113917548106</td><td>0.00067158373513454</td><td>0.0003197413551525585</td><td>0.018</td><td>0.017</td><td>0.016</td><td>1.5573</td><td>1.8831</td><td>1.2394</td><td>0.32184999999999997</td><td>0.19237228359851166</td><td>0.09083094577835657</td><td>1.6409997</td><td>1.6652660000000001</td><td>1.6181547</td><td>0.023555650000000015</td><td>0.21510850165738543</td><td>0.00623178804270387</td></tr>\n",
       "<tr><td>2M20062364+4427383</td><td>2081902181758188032</td><td>2.7606072</td><td>4983.545</td><td>-0.0264627</td><td>0.17095844</td><td>-0.06000101</td><td>0.44873</td><td>11.405286</td><td>12.01489</td><td>10.6606865</td><td>9.673</td><td>9.168</td><td>9.038</td><td>0.045313023</td><td>88.260216</td><td>0.0063050985</td><td>0.0062592425</td><td>0.010097349</td><td>0.01600215</td><td>0.00018267923904469185</td><td>0.0005987116997596686</td><td>0.000277317363743812</td><td>0.02</td><td>0.017</td><td>0.019</td><td>0.9912</td><td>1.1913</td><td>0.8414</td><td>0.17495</td><td>-0.003838706631992969</td><td>0.07550931705128391</td><td>1.2700917999999999</td><td>1.2909479</td><td>1.2488205000000001</td><td>0.021063699999999925</td><td>0.10383511213123331</td><td>0.007204348059644233</td></tr>\n",
       "</table>"
      ],
      "text/plain": [
       "<Table length=3016>\n",
       "    APOGEE_ID           source_id      ...     logDistKpcErr    \n",
       "     bytes18              int64        ...        float64       \n",
       "------------------ ------------------- ... ---------------------\n",
       "2M18401969+4348380 2117126509915136384 ...  0.006544024098467232\n",
       "2M18405556+4353012 2117149874537225344 ...  0.006615833614809635\n",
       "2M18410298+4315506 2116830779945635200 ...   0.00344219400113438\n",
       "2M18413176+4358551 2116969387130311040 ...  0.006548201998855405\n",
       "2M18420846+4315092 2116909291947572736 ... 0.0061655806895158025\n",
       "2M18421097+4331424 2116931552759508992 ...  0.006326764678110074\n",
       "2M18421171+4401098 2116968356338186880 ...  0.006577590294996966\n",
       "2M18421481+4740382 2119807187982756096 ...  0.006352720590878963\n",
       "2M18425254+4409578 2117333806515665536 ...  0.006596284969280261\n",
       "2M18431265+4412181 2117339235354351488 ...  0.006594666093635723\n",
       "               ...                 ... ...                   ...\n",
       "2M20033949+4449045 2082100677964334464 ...   0.00675723576292761\n",
       "2M20034275+4432408 2082078064950390272 ...  0.004455465771317171\n",
       "2M20040583+4524553 2082281650707461248 ...  0.006355462150815158\n",
       "2M20040614+4412543 2081882802865049088 ...  0.003038127396734397\n",
       "2M20041135+4505154 2082133182277361152 ...  0.004842745183463726\n",
       "2M20044423+4419543 2081884486492411392 ...  0.004721931921993015\n",
       "2M20045602+4439587 2082106038083789184 ...  0.005927848134352792\n",
       "2M20045740+4432482 2081894240350116352 ... 0.0030580531615943263\n",
       "2M20045775+4438155 2082105793259249024 ...   0.00623178804270387\n",
       "2M20062364+4427383 2081902181758188032 ...  0.007204348059644233"
      ]
     },
     "execution_count": 11,
     "metadata": {},
     "output_type": "execute_result"
    }
   ],
   "source": [
    "dataOfInterest"
   ]
  },
  {
   "cell_type": "code",
   "execution_count": 12,
   "metadata": {},
   "outputs": [],
   "source": [
    "dataOfInterest.write('AllOriginal.csv', overwrite=True)"
   ]
  },
  {
   "cell_type": "code",
   "execution_count": null,
   "metadata": {},
   "outputs": [],
   "source": []
  }
 ],
 "metadata": {
  "kernelspec": {
   "display_name": "Python 3",
   "language": "python",
   "name": "python3"
  },
  "language_info": {
   "codemirror_mode": {
    "name": "ipython",
    "version": 3
   },
   "file_extension": ".py",
   "mimetype": "text/x-python",
   "name": "python",
   "nbconvert_exporter": "python",
   "pygments_lexer": "ipython3",
   "version": "3.6.12"
  }
 },
 "nbformat": 4,
 "nbformat_minor": 2
}
