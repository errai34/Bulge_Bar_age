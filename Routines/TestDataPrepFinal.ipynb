{
 "cells": [
  {
   "cell_type": "code",
   "execution_count": 1,
   "metadata": {},
   "outputs": [],
   "source": [
    "%matplotlib inline\n",
    "\n",
    "import numpy as np\n",
    "import pandas as pd\n",
    "\n",
    "from warnings import filterwarnings\n",
    "filterwarnings('ignore') \n",
    "\n",
    "np.random.seed(1234)"
   ]
  },
  {
   "cell_type": "code",
   "execution_count": 2,
   "metadata": {},
   "outputs": [],
   "source": [
    "mu_feats = np.load('../train_data/AllGlobal_Mu_Final.npy')\n",
    "std_feats = np.load('../train_data/AllGlobal_Std_Final.npy')"
   ]
  },
  {
   "cell_type": "code",
   "execution_count": 4,
   "metadata": {},
   "outputs": [],
   "source": [
    "data = pd.read_csv('../test_data/TestOriginal.csv')"
   ]
  },
  {
   "cell_type": "code",
   "execution_count": 5,
   "metadata": {},
   "outputs": [
    {
     "data": {
      "text/html": [
       "<div>\n",
       "<style scoped>\n",
       "    .dataframe tbody tr th:only-of-type {\n",
       "        vertical-align: middle;\n",
       "    }\n",
       "\n",
       "    .dataframe tbody tr th {\n",
       "        vertical-align: top;\n",
       "    }\n",
       "\n",
       "    .dataframe thead th {\n",
       "        text-align: right;\n",
       "    }\n",
       "</style>\n",
       "<table border=\"1\" class=\"dataframe\">\n",
       "  <thead>\n",
       "    <tr style=\"text-align: right;\">\n",
       "      <th></th>\n",
       "      <th>Unnamed: 0</th>\n",
       "      <th>APOGEE_ID</th>\n",
       "      <th>source_id</th>\n",
       "      <th>LOGG</th>\n",
       "      <th>TEFF</th>\n",
       "      <th>ALPHA_M</th>\n",
       "      <th>M_H</th>\n",
       "      <th>C_FE</th>\n",
       "      <th>N_FE</th>\n",
       "      <th>G</th>\n",
       "      <th>...</th>\n",
       "      <th>age_68L</th>\n",
       "      <th>ageErr</th>\n",
       "      <th>logAge</th>\n",
       "      <th>logAgeErr</th>\n",
       "      <th>distKpc</th>\n",
       "      <th>distKpc_68U</th>\n",
       "      <th>distKpc_68L</th>\n",
       "      <th>distErrKpc</th>\n",
       "      <th>logDistKpc</th>\n",
       "      <th>logDistKpcErr</th>\n",
       "    </tr>\n",
       "  </thead>\n",
       "  <tbody>\n",
       "    <tr>\n",
       "      <th>0</th>\n",
       "      <td>63</td>\n",
       "      <td>2M18485678+4236290</td>\n",
       "      <td>2104787210611014400</td>\n",
       "      <td>2.416010</td>\n",
       "      <td>4626.186523</td>\n",
       "      <td>0.056648</td>\n",
       "      <td>-0.238552</td>\n",
       "      <td>0.021405</td>\n",
       "      <td>0.117770</td>\n",
       "      <td>10.806890</td>\n",
       "      <td>...</td>\n",
       "      <td>6.5735</td>\n",
       "      <td>2.00975</td>\n",
       "      <td>0.926939</td>\n",
       "      <td>0.103611</td>\n",
       "      <td>0.979596</td>\n",
       "      <td>0.994229</td>\n",
       "      <td>0.964184</td>\n",
       "      <td>0.015022</td>\n",
       "      <td>-0.008953</td>\n",
       "      <td>0.006663</td>\n",
       "    </tr>\n",
       "    <tr>\n",
       "      <th>1</th>\n",
       "      <td>2684</td>\n",
       "      <td>2M19510870+4632109</td>\n",
       "      <td>2080288167403250432</td>\n",
       "      <td>2.456936</td>\n",
       "      <td>4614.778320</td>\n",
       "      <td>0.057361</td>\n",
       "      <td>0.038648</td>\n",
       "      <td>0.064882</td>\n",
       "      <td>0.182413</td>\n",
       "      <td>13.261917</td>\n",
       "      <td>...</td>\n",
       "      <td>5.0699</td>\n",
       "      <td>1.81300</td>\n",
       "      <td>0.826412</td>\n",
       "      <td>0.117158</td>\n",
       "      <td>2.596544</td>\n",
       "      <td>2.641262</td>\n",
       "      <td>2.549764</td>\n",
       "      <td>0.045749</td>\n",
       "      <td>0.414396</td>\n",
       "      <td>0.007656</td>\n",
       "    </tr>\n",
       "    <tr>\n",
       "      <th>2</th>\n",
       "      <td>102</td>\n",
       "      <td>2M18512189+4704269</td>\n",
       "      <td>2107536745594840832</td>\n",
       "      <td>2.576948</td>\n",
       "      <td>4915.012695</td>\n",
       "      <td>0.002488</td>\n",
       "      <td>0.014503</td>\n",
       "      <td>-0.063482</td>\n",
       "      <td>0.305817</td>\n",
       "      <td>9.822883</td>\n",
       "      <td>...</td>\n",
       "      <td>1.7163</td>\n",
       "      <td>0.17465</td>\n",
       "      <td>0.299071</td>\n",
       "      <td>0.040227</td>\n",
       "      <td>0.740020</td>\n",
       "      <td>0.747317</td>\n",
       "      <td>0.733483</td>\n",
       "      <td>0.006917</td>\n",
       "      <td>-0.130756</td>\n",
       "      <td>0.004057</td>\n",
       "    </tr>\n",
       "    <tr>\n",
       "      <th>3</th>\n",
       "      <td>2692</td>\n",
       "      <td>2M19512284+4732289</td>\n",
       "      <td>2086359017777701888</td>\n",
       "      <td>2.460654</td>\n",
       "      <td>4758.196289</td>\n",
       "      <td>0.003549</td>\n",
       "      <td>0.066459</td>\n",
       "      <td>0.072979</td>\n",
       "      <td>0.203991</td>\n",
       "      <td>13.053179</td>\n",
       "      <td>...</td>\n",
       "      <td>4.7315</td>\n",
       "      <td>0.70335</td>\n",
       "      <td>0.720573</td>\n",
       "      <td>0.056521</td>\n",
       "      <td>2.824735</td>\n",
       "      <td>2.854179</td>\n",
       "      <td>2.795632</td>\n",
       "      <td>0.029273</td>\n",
       "      <td>0.450978</td>\n",
       "      <td>0.004501</td>\n",
       "    </tr>\n",
       "    <tr>\n",
       "      <th>4</th>\n",
       "      <td>416</td>\n",
       "      <td>2M19041265+3743311</td>\n",
       "      <td>2099096550745632384</td>\n",
       "      <td>2.961279</td>\n",
       "      <td>4716.458496</td>\n",
       "      <td>-0.010533</td>\n",
       "      <td>0.286038</td>\n",
       "      <td>0.077310</td>\n",
       "      <td>0.342110</td>\n",
       "      <td>12.971998</td>\n",
       "      <td>...</td>\n",
       "      <td>3.9355</td>\n",
       "      <td>1.12280</td>\n",
       "      <td>0.687520</td>\n",
       "      <td>0.098033</td>\n",
       "      <td>1.575454</td>\n",
       "      <td>1.597723</td>\n",
       "      <td>1.553138</td>\n",
       "      <td>0.022293</td>\n",
       "      <td>0.197406</td>\n",
       "      <td>0.006146</td>\n",
       "    </tr>\n",
       "  </tbody>\n",
       "</table>\n",
       "<p>5 rows × 39 columns</p>\n",
       "</div>"
      ],
      "text/plain": [
       "   Unnamed: 0           APOGEE_ID            source_id      LOGG         TEFF  \\\n",
       "0          63  2M18485678+4236290  2104787210611014400  2.416010  4626.186523   \n",
       "1        2684  2M19510870+4632109  2080288167403250432  2.456936  4614.778320   \n",
       "2         102  2M18512189+4704269  2107536745594840832  2.576948  4915.012695   \n",
       "3        2692  2M19512284+4732289  2086359017777701888  2.460654  4758.196289   \n",
       "4         416  2M19041265+3743311  2099096550745632384  2.961279  4716.458496   \n",
       "\n",
       "    ALPHA_M       M_H      C_FE      N_FE          G  ...  age_68L   ageErr  \\\n",
       "0  0.056648 -0.238552  0.021405  0.117770  10.806890  ...   6.5735  2.00975   \n",
       "1  0.057361  0.038648  0.064882  0.182413  13.261917  ...   5.0699  1.81300   \n",
       "2  0.002488  0.014503 -0.063482  0.305817   9.822883  ...   1.7163  0.17465   \n",
       "3  0.003549  0.066459  0.072979  0.203991  13.053179  ...   4.7315  0.70335   \n",
       "4 -0.010533  0.286038  0.077310  0.342110  12.971998  ...   3.9355  1.12280   \n",
       "\n",
       "     logAge  logAgeErr   distKpc  distKpc_68U  distKpc_68L  distErrKpc  \\\n",
       "0  0.926939   0.103611  0.979596     0.994229     0.964184    0.015022   \n",
       "1  0.826412   0.117158  2.596544     2.641262     2.549764    0.045749   \n",
       "2  0.299071   0.040227  0.740020     0.747317     0.733483    0.006917   \n",
       "3  0.720573   0.056521  2.824735     2.854179     2.795632    0.029273   \n",
       "4  0.687520   0.098033  1.575454     1.597723     1.553138    0.022293   \n",
       "\n",
       "   logDistKpc  logDistKpcErr  \n",
       "0   -0.008953       0.006663  \n",
       "1    0.414396       0.007656  \n",
       "2   -0.130756       0.004057  \n",
       "3    0.450978       0.004501  \n",
       "4    0.197406       0.006146  \n",
       "\n",
       "[5 rows x 39 columns]"
      ]
     },
     "execution_count": 5,
     "metadata": {},
     "output_type": "execute_result"
    }
   ],
   "source": [
    "data.head()"
   ]
  },
  {
   "cell_type": "code",
   "execution_count": 6,
   "metadata": {},
   "outputs": [
    {
     "data": {
      "text/plain": [
       "603"
      ]
     },
     "execution_count": 6,
     "metadata": {},
     "output_type": "execute_result"
    }
   ],
   "source": [
    "len(data)"
   ]
  },
  {
   "cell_type": "code",
   "execution_count": 7,
   "metadata": {},
   "outputs": [],
   "source": [
    "feats = ['LOGG', 'TEFF', 'ALPHA_M', 'M_H', 'C_FE', 'N_FE', \\\n",
    "           'G', 'BP', 'RP', 'J', 'H', 'K']\n",
    "\n",
    "featsErr = ['LOGG_ERR', 'TEFF_ERR', 'ALPHA_M_ERR', 'M_H_ERR', 'C_FE_ERR', 'N_FE_ERR', \\\n",
    "           'G_ERR', 'BP_ERR', 'RP_ERR', 'J_ERR', 'H_ERR', 'K_ERR']\n"
   ]
  },
  {
   "cell_type": "code",
   "execution_count": 8,
   "metadata": {},
   "outputs": [],
   "source": [
    "for i in range(len(feats)):\n",
    "    scaledFeat = (data[feats[i]] - mu_feats[i])/std_feats[i]\n",
    "    scaledEFeat = data[featsErr[i]]/std_feats[i]\n",
    "\n",
    "    data[feats[i]+'_NORM'] = scaledFeat\n",
    "    data[featsErr[i]+'_NORM'] = scaledEFeat"
   ]
  },
  {
   "cell_type": "code",
   "execution_count": 9,
   "metadata": {},
   "outputs": [
    {
     "data": {
      "text/html": [
       "<div>\n",
       "<style scoped>\n",
       "    .dataframe tbody tr th:only-of-type {\n",
       "        vertical-align: middle;\n",
       "    }\n",
       "\n",
       "    .dataframe tbody tr th {\n",
       "        vertical-align: top;\n",
       "    }\n",
       "\n",
       "    .dataframe thead th {\n",
       "        text-align: right;\n",
       "    }\n",
       "</style>\n",
       "<table border=\"1\" class=\"dataframe\">\n",
       "  <thead>\n",
       "    <tr style=\"text-align: right;\">\n",
       "      <th></th>\n",
       "      <th>Unnamed: 0</th>\n",
       "      <th>APOGEE_ID</th>\n",
       "      <th>source_id</th>\n",
       "      <th>LOGG</th>\n",
       "      <th>TEFF</th>\n",
       "      <th>ALPHA_M</th>\n",
       "      <th>M_H</th>\n",
       "      <th>C_FE</th>\n",
       "      <th>N_FE</th>\n",
       "      <th>G</th>\n",
       "      <th>...</th>\n",
       "      <th>BP_NORM</th>\n",
       "      <th>BP_ERR_NORM</th>\n",
       "      <th>RP_NORM</th>\n",
       "      <th>RP_ERR_NORM</th>\n",
       "      <th>J_NORM</th>\n",
       "      <th>J_ERR_NORM</th>\n",
       "      <th>H_NORM</th>\n",
       "      <th>H_ERR_NORM</th>\n",
       "      <th>K_NORM</th>\n",
       "      <th>K_ERR_NORM</th>\n",
       "    </tr>\n",
       "  </thead>\n",
       "  <tbody>\n",
       "    <tr>\n",
       "      <th>0</th>\n",
       "      <td>63</td>\n",
       "      <td>2M18485678+4236290</td>\n",
       "      <td>2104787210611014400</td>\n",
       "      <td>2.416010</td>\n",
       "      <td>4626.186523</td>\n",
       "      <td>0.056648</td>\n",
       "      <td>-0.238552</td>\n",
       "      <td>0.021405</td>\n",
       "      <td>0.117770</td>\n",
       "      <td>10.806890</td>\n",
       "      <td>...</td>\n",
       "      <td>-1.166847</td>\n",
       "      <td>0.000544</td>\n",
       "      <td>-1.287147</td>\n",
       "      <td>0.000267</td>\n",
       "      <td>-1.346504</td>\n",
       "      <td>0.029713</td>\n",
       "      <td>-1.443342</td>\n",
       "      <td>0.027833</td>\n",
       "      <td>-1.472694</td>\n",
       "      <td>0.012764</td>\n",
       "    </tr>\n",
       "    <tr>\n",
       "      <th>1</th>\n",
       "      <td>2684</td>\n",
       "      <td>2M19510870+4632109</td>\n",
       "      <td>2080288167403250432</td>\n",
       "      <td>2.456936</td>\n",
       "      <td>4614.778320</td>\n",
       "      <td>0.057361</td>\n",
       "      <td>0.038648</td>\n",
       "      <td>0.064882</td>\n",
       "      <td>0.182413</td>\n",
       "      <td>13.261917</td>\n",
       "      <td>...</td>\n",
       "      <td>1.500272</td>\n",
       "      <td>0.000658</td>\n",
       "      <td>1.407164</td>\n",
       "      <td>0.000609</td>\n",
       "      <td>1.343629</td>\n",
       "      <td>0.023999</td>\n",
       "      <td>1.281945</td>\n",
       "      <td>0.020875</td>\n",
       "      <td>1.263374</td>\n",
       "      <td>0.018565</td>\n",
       "    </tr>\n",
       "    <tr>\n",
       "      <th>2</th>\n",
       "      <td>102</td>\n",
       "      <td>2M18512189+4704269</td>\n",
       "      <td>2107536745594840832</td>\n",
       "      <td>2.576948</td>\n",
       "      <td>4915.012695</td>\n",
       "      <td>0.002488</td>\n",
       "      <td>0.014503</td>\n",
       "      <td>-0.063482</td>\n",
       "      <td>0.305817</td>\n",
       "      <td>9.822883</td>\n",
       "      <td>...</td>\n",
       "      <td>-2.317431</td>\n",
       "      <td>0.000379</td>\n",
       "      <td>-2.297978</td>\n",
       "      <td>0.000186</td>\n",
       "      <td>-2.253880</td>\n",
       "      <td>0.026284</td>\n",
       "      <td>-2.262088</td>\n",
       "      <td>0.020875</td>\n",
       "      <td>-2.233873</td>\n",
       "      <td>0.015084</td>\n",
       "    </tr>\n",
       "    <tr>\n",
       "      <th>3</th>\n",
       "      <td>2692</td>\n",
       "      <td>2M19512284+4732289</td>\n",
       "      <td>2086359017777701888</td>\n",
       "      <td>2.460654</td>\n",
       "      <td>4758.196289</td>\n",
       "      <td>0.003549</td>\n",
       "      <td>0.066459</td>\n",
       "      <td>0.072979</td>\n",
       "      <td>0.203991</td>\n",
       "      <td>13.053179</td>\n",
       "      <td>...</td>\n",
       "      <td>1.223182</td>\n",
       "      <td>0.000783</td>\n",
       "      <td>1.220112</td>\n",
       "      <td>0.000476</td>\n",
       "      <td>1.209923</td>\n",
       "      <td>0.022856</td>\n",
       "      <td>1.185691</td>\n",
       "      <td>0.018555</td>\n",
       "      <td>1.206517</td>\n",
       "      <td>0.019726</td>\n",
       "    </tr>\n",
       "    <tr>\n",
       "      <th>4</th>\n",
       "      <td>416</td>\n",
       "      <td>2M19041265+3743311</td>\n",
       "      <td>2099096550745632384</td>\n",
       "      <td>2.961279</td>\n",
       "      <td>4716.458496</td>\n",
       "      <td>-0.010533</td>\n",
       "      <td>0.286038</td>\n",
       "      <td>0.077310</td>\n",
       "      <td>0.342110</td>\n",
       "      <td>12.971998</td>\n",
       "      <td>...</td>\n",
       "      <td>1.147705</td>\n",
       "      <td>0.000863</td>\n",
       "      <td>1.121968</td>\n",
       "      <td>0.000538</td>\n",
       "      <td>1.144783</td>\n",
       "      <td>0.025141</td>\n",
       "      <td>1.155539</td>\n",
       "      <td>0.024354</td>\n",
       "      <td>1.128775</td>\n",
       "      <td>0.020886</td>\n",
       "    </tr>\n",
       "  </tbody>\n",
       "</table>\n",
       "<p>5 rows × 63 columns</p>\n",
       "</div>"
      ],
      "text/plain": [
       "   Unnamed: 0           APOGEE_ID            source_id      LOGG         TEFF  \\\n",
       "0          63  2M18485678+4236290  2104787210611014400  2.416010  4626.186523   \n",
       "1        2684  2M19510870+4632109  2080288167403250432  2.456936  4614.778320   \n",
       "2         102  2M18512189+4704269  2107536745594840832  2.576948  4915.012695   \n",
       "3        2692  2M19512284+4732289  2086359017777701888  2.460654  4758.196289   \n",
       "4         416  2M19041265+3743311  2099096550745632384  2.961279  4716.458496   \n",
       "\n",
       "    ALPHA_M       M_H      C_FE      N_FE          G  ...   BP_NORM  \\\n",
       "0  0.056648 -0.238552  0.021405  0.117770  10.806890  ... -1.166847   \n",
       "1  0.057361  0.038648  0.064882  0.182413  13.261917  ...  1.500272   \n",
       "2  0.002488  0.014503 -0.063482  0.305817   9.822883  ... -2.317431   \n",
       "3  0.003549  0.066459  0.072979  0.203991  13.053179  ...  1.223182   \n",
       "4 -0.010533  0.286038  0.077310  0.342110  12.971998  ...  1.147705   \n",
       "\n",
       "   BP_ERR_NORM   RP_NORM  RP_ERR_NORM    J_NORM  J_ERR_NORM    H_NORM  \\\n",
       "0     0.000544 -1.287147     0.000267 -1.346504    0.029713 -1.443342   \n",
       "1     0.000658  1.407164     0.000609  1.343629    0.023999  1.281945   \n",
       "2     0.000379 -2.297978     0.000186 -2.253880    0.026284 -2.262088   \n",
       "3     0.000783  1.220112     0.000476  1.209923    0.022856  1.185691   \n",
       "4     0.000863  1.121968     0.000538  1.144783    0.025141  1.155539   \n",
       "\n",
       "   H_ERR_NORM    K_NORM  K_ERR_NORM  \n",
       "0    0.027833 -1.472694    0.012764  \n",
       "1    0.020875  1.263374    0.018565  \n",
       "2    0.020875 -2.233873    0.015084  \n",
       "3    0.018555  1.206517    0.019726  \n",
       "4    0.024354  1.128775    0.020886  \n",
       "\n",
       "[5 rows x 63 columns]"
      ]
     },
     "execution_count": 9,
     "metadata": {},
     "output_type": "execute_result"
    }
   ],
   "source": [
    "data.head()"
   ]
  },
  {
   "cell_type": "code",
   "execution_count": 10,
   "metadata": {},
   "outputs": [
    {
     "data": {
      "text/plain": [
       "(array([  5.,  19., 128., 121.,  86.,  74.,  58.,  50.,  46.,  16.]),\n",
       " array([2.21243024, 2.31988556, 2.42734089, 2.53479621, 2.64225154,\n",
       "        2.74970686, 2.85716219, 2.96461751, 3.07207284, 3.17952816,\n",
       "        3.28698349]),\n",
       " <a list of 10 Patch objects>)"
      ]
     },
     "execution_count": 10,
     "metadata": {},
     "output_type": "execute_result"
    },
    {
     "data": {
      "image/png": "[encoded data removed]",
      "text/plain": [
       "<Figure size 432x288 with 1 Axes>"
      ]
     },
     "metadata": {
      "needs_background": "light"
     },
     "output_type": "display_data"
    }
   ],
   "source": [
    "import matplotlib.pyplot as plt\n",
    "\n",
    "plt.hist(data['LOGG'])"
   ]
  },
  {
   "cell_type": "code",
   "execution_count": 11,
   "metadata": {},
   "outputs": [
    {
     "data": {
      "text/plain": [
       "(array([  5.,  19., 128., 121.,  86.,  74.,  58.,  50.,  46.,  16.]),\n",
       " array([-2.32198863, -1.84275175, -1.36351488, -0.884278  , -0.40504113,\n",
       "         0.07419575,  0.55343262,  1.03266949,  1.51190637,  1.99114324,\n",
       "         2.47038012]),\n",
       " <a list of 10 Patch objects>)"
      ]
     },
     "execution_count": 11,
     "metadata": {},
     "output_type": "execute_result"
    },
    {
     "data": {
      "image/png": "[encoded data removed]",
      "text/plain": [
       "<Figure size 432x288 with 1 Axes>"
      ]
     },
     "metadata": {
      "needs_background": "light"
     },
     "output_type": "display_data"
    }
   ],
   "source": [
    "plt.hist(data['LOGG_NORM'])"
   ]
  },
  {
   "cell_type": "code",
   "execution_count": 12,
   "metadata": {},
   "outputs": [
    {
     "data": {
      "text/plain": [
       "(array([  5.,  19., 128., 121.,  86.,  74.,  58.,  50.,  46.,  16.]),\n",
       " array([-2.32198863, -1.84275175, -1.36351488, -0.884278  , -0.40504113,\n",
       "         0.07419575,  0.55343262,  1.03266949,  1.51190637,  1.99114324,\n",
       "         2.47038012]),\n",
       " <a list of 10 Patch objects>)"
      ]
     },
     "execution_count": 12,
     "metadata": {},
     "output_type": "execute_result"
    },
    {
     "data": {
      "image/png": "[encoded data removed]",
      "text/plain": [
       "<Figure size 432x288 with 1 Axes>"
      ]
     },
     "metadata": {
      "needs_background": "light"
     },
     "output_type": "display_data"
    }
   ],
   "source": [
    "plt.hist((data['LOGG'] - mu_feats[0])/std_feats[0])"
   ]
  },
  {
   "cell_type": "code",
   "execution_count": 13,
   "metadata": {},
   "outputs": [
    {
     "data": {
      "text/plain": [
       "(array([  4.,  19.,  73.,  84., 112., 106.,  92.,  55.,  44.,  14.]),\n",
       " array([-2.58612394, -2.07583912, -1.5655543 , -1.05526949, -0.54498467,\n",
       "        -0.03469985,  0.47558497,  0.98586978,  1.4961546 ,  2.00643942,\n",
       "         2.51672423]),\n",
       " <a list of 10 Patch objects>)"
      ]
     },
     "execution_count": 13,
     "metadata": {},
     "output_type": "execute_result"
    },
    {
     "data": {
      "image/png": "[encoded data removed]",
      "text/plain": [
       "<Figure size 432x288 with 1 Axes>"
      ]
     },
     "metadata": {
      "needs_background": "light"
     },
     "output_type": "display_data"
    }
   ],
   "source": [
    "plt.hist((data['TEFF'] - mu_feats[1])/std_feats[1])"
   ]
  },
  {
   "cell_type": "code",
   "execution_count": 14,
   "metadata": {},
   "outputs": [
    {
     "data": {
      "text/plain": [
       "(array([  4.,  19.,  73.,  84., 112., 106.,  92.,  55.,  44.,  14.]),\n",
       " array([-2.58612394, -2.07583912, -1.5655543 , -1.05526949, -0.54498467,\n",
       "        -0.03469985,  0.47558497,  0.98586978,  1.4961546 ,  2.00643942,\n",
       "         2.51672423]),\n",
       " <a list of 10 Patch objects>)"
      ]
     },
     "execution_count": 14,
     "metadata": {},
     "output_type": "execute_result"
    },
    {
     "data": {
      "image/png": "[encoded data removed]",
      "text/plain": [
       "<Figure size 432x288 with 1 Axes>"
      ]
     },
     "metadata": {
      "needs_background": "light"
     },
     "output_type": "display_data"
    }
   ],
   "source": [
    "plt.hist(data['TEFF_NORM'])"
   ]
  },
  {
   "cell_type": "code",
   "execution_count": 15,
   "metadata": {},
   "outputs": [],
   "source": [
    "data.to_csv('../test_data/TestOriginalNorm.csv')"
   ]
  },
  {
   "cell_type": "code",
   "execution_count": null,
   "metadata": {},
   "outputs": [],
   "source": []
  }
 ],
 "metadata": {
  "kernelspec": {
   "display_name": "Python 3",
   "language": "python",
   "name": "python3"
  },
  "language_info": {
   "codemirror_mode": {
    "name": "ipython",
    "version": 3
   },
   "file_extension": ".py",
   "mimetype": "text/x-python",
   "name": "python",
   "nbconvert_exporter": "python",
   "pygments_lexer": "ipython3",
   "version": "3.6.12"
  }
 },
 "nbformat": 4,
 "nbformat_minor": 2
}
