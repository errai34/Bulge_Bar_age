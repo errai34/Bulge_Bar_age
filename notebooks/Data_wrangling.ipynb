{
 "cells": [
  {
   "cell_type": "markdown",
   "metadata": {},
   "source": [
    "# Code to obtain the training set for the RGB/RC classification\n",
    "* reads in original APOKASC 2 data\n",
    "* simple cuts in photometry to be able to calculate\n",
    "* assign 1 to (evstate == 1) or (evstate == 2 and mass > 1.8)\n",
    "* writes into hdf5 file (working to use hdf5 files from now on)\n",
    "\n",
    "Code written up by Ioana Ciuca"
   ]
  },
  {
   "cell_type": "code",
   "execution_count": 1,
   "metadata": {},
   "outputs": [],
   "source": [
    "%matplotlib inline\n",
    "%config InlineBackend.figure_format = 'retina'\n",
    "\n",
    "import numpy as np\n",
    "import pandas as pd\n",
    "from astropy.table import Table\n",
    "import matplotlib.pyplot as plt"
   ]
  },
  {
   "cell_type": "code",
   "execution_count": 2,
   "metadata": {},
   "outputs": [
    {
     "name": "stdout",
     "output_type": "stream",
     "text": [
      "Classify_RGBs.ipynb  Workflow.txt         data.h5\r\n",
      "Data_wrangling.ipynb classify_rgb.py      rgb_rc_training.png\r\n"
     ]
    }
   ],
   "source": [
    "!ls"
   ]
  },
  {
   "cell_type": "code",
   "execution_count": 3,
   "metadata": {},
   "outputs": [],
   "source": [
    "data = Table.read('/Users/ioanaciuca/Desktop/BINGO/BINGO_final/data/AK7dotS35_GDR2pos_APODR14.fits')"
   ]
  },
  {
   "cell_type": "code",
   "execution_count": 4,
   "metadata": {},
   "outputs": [
    {
     "data": {
      "text/plain": [
       "(array([1.172e+03, 2.325e+03, 1.017e+03, 4.850e+02, 1.880e+02, 1.050e+02,\n",
       "        5.400e+01, 2.200e+01, 9.000e+00, 2.000e+00]),\n",
       " array([  25.3776 ,  138.70184,  252.02608,  365.3503 ,  478.67456,\n",
       "         591.9988 ,  705.32306,  818.6473 ,  931.9715 , 1045.2958 ,\n",
       "        1158.62   ], dtype=float32),\n",
       " <a list of 10 Patch objects>)"
      ]
     },
     "execution_count": 4,
     "metadata": {},
     "output_type": "execute_result"
    },
    {
     "data": {
      "image/png": "[encoded data removed]",
      "text/plain": [
       "<Figure size 432x288 with 1 Axes>"
      ]
     },
     "metadata": {
      "image/png": {
       "height": 250,
       "width": 390
      },
      "needs_background": "light"
     },
     "output_type": "display_data"
    }
   ],
   "source": [
    "plt.hist(data['SNR'])"
   ]
  },
  {
   "cell_type": "markdown",
   "metadata": {},
   "source": [
    "It's important to do some quality cuts!"
   ]
  },
  {
   "cell_type": "code",
   "execution_count": 5,
   "metadata": {},
   "outputs": [
    {
     "name": "stderr",
     "output_type": "stream",
     "text": [
      "/Users/ioanaciuca/anaconda3/envs/moreDL/lib/python3.6/site-packages/astropy/table/column.py:965: RuntimeWarning: invalid value encountered in greater\n",
      "  return getattr(self.data, op)(other)\n"
     ]
    }
   ],
   "source": [
    "mask = ((data['phot_g_mean_flux'] >= 0) & (data['phot_bp_mean_flux'] > 0) & (data['phot_rp_mean_flux'] > 0) \\\n",
    "& (data['J_ERR'] >=0) & (data['SNR'] >= 100))\n",
    "data = data[mask]"
   ]
  },
  {
   "cell_type": "code",
   "execution_count": 6,
   "metadata": {},
   "outputs": [
    {
     "data": {
      "text/plain": [
       "(array([2.331e+03, 1.355e+03, 5.940e+02, 3.010e+02, 1.410e+02, 7.800e+01,\n",
       "        4.300e+01, 1.300e+01, 8.000e+00, 2.000e+00]),\n",
       " array([ 100.06   ,  205.916  ,  311.772  ,  417.628  ,  523.484  ,\n",
       "         629.33997,  735.196  ,  841.052  ,  946.908  , 1052.764  ,\n",
       "        1158.62   ], dtype=float32),\n",
       " <a list of 10 Patch objects>)"
      ]
     },
     "execution_count": 6,
     "metadata": {},
     "output_type": "execute_result"
    },
    {
     "data": {
      "image/png": "[encoded data removed]",
      "text/plain": [
       "<Figure size 432x288 with 1 Axes>"
      ]
     },
     "metadata": {
      "image/png": {
       "height": 250,
       "width": 391
      },
      "needs_background": "light"
     },
     "output_type": "display_data"
    }
   ],
   "source": [
    "plt.hist(data['SNR'])"
   ]
  },
  {
   "cell_type": "code",
   "execution_count": 7,
   "metadata": {},
   "outputs": [
    {
     "name": "stdout",
     "output_type": "stream",
     "text": [
      "The length of the data after the quality cuts is 4866\n"
     ]
    }
   ],
   "source": [
    "print(\"The length of the data after the quality cuts is\", len(data))"
   ]
  },
  {
   "cell_type": "code",
   "execution_count": 8,
   "metadata": {},
   "outputs": [],
   "source": [
    "g_mag = data['phot_g_mean_mag']\n",
    "g_flux = data['phot_g_mean_flux']\n",
    "g_flux_error = data['phot_g_mean_flux_error']\n",
    "gmagErr = 0.5 * 2.5 * (np.log10((g_flux + g_flux_error )/g_flux) - np.log10((g_flux - g_flux_error )/g_flux))\n",
    "\n",
    "bp_mag = data['phot_bp_mean_mag']\n",
    "bp_flux = data['phot_bp_mean_flux']\n",
    "bp_flux_error = data['phot_bp_mean_flux_error']\n",
    "bpmagErr = 0.5 * 2.5 * (np.log10((bp_flux + bp_flux_error )/bp_flux) - np.log10((bp_flux - bp_flux_error )/bp_flux))\n",
    "\n",
    "rp_mag = data['phot_rp_mean_mag']\n",
    "rp_flux = data['phot_rp_mean_flux']\n",
    "rp_flux_error = data['phot_rp_mean_flux_error']\n",
    "rpmagErr = 0.5 * 2.5 * (np.log10((rp_flux + rp_flux_error )/rp_flux) - np.log10((rp_flux - rp_flux_error )/rp_flux))\n",
    "\n",
    "data['G'] = g_mag\n",
    "data['G_ERR'] = gmagErr\n",
    "\n",
    "data['BP'] = bp_mag\n",
    "data['BP_ERR'] = bpmagErr\n",
    "\n",
    "data['RP'] = rp_mag\n",
    "data['RP_ERR'] = rpmagErr"
   ]
  },
  {
   "cell_type": "code",
   "execution_count": 10,
   "metadata": {},
   "outputs": [],
   "source": [
    "N = len(data)\n",
    "\n",
    "data['class'] = np.zeros(N)\n",
    "\n",
    "for i in range(N):\n",
    "    if (data['evstate'][i]==1) or ((data['evstate'][i]==2) and (data['mass'][i]>1.8)):\n",
    "        data['class'][i]=1\n",
    "    else:\n",
    "        data['class'][i]=0"
   ]
  },
  {
   "cell_type": "code",
   "execution_count": 11,
   "metadata": {},
   "outputs": [],
   "source": [
    "data['class']=[int(x) for x in data['class']]"
   ]
  },
  {
   "cell_type": "code",
   "execution_count": 12,
   "metadata": {},
   "outputs": [],
   "source": [
    "feats = ['LOGG', 'TEFF', 'ALPHA_M', 'M_H', 'C_FE', 'N_FE', 'O_FE', 'NA_FE',\\\n",
    "           'G', 'BP', 'RP', 'J', 'H', 'K']\n",
    "\n",
    "featsErr = ['LOGG_ERR', 'TEFF_ERR', 'ALPHA_M_ERR', 'M_H_ERR', 'C_FE_ERR', 'N_FE_ERR', 'O_FE_ERR', 'NA_FE_ERR', \\\n",
    "           'G_ERR', 'BP_ERR', 'RP_ERR', 'J_ERR', 'H_ERR', 'K_ERR']"
   ]
  },
  {
   "cell_type": "code",
   "execution_count": 13,
   "metadata": {},
   "outputs": [],
   "source": [
    "df = pd.DataFrame()"
   ]
  },
  {
   "cell_type": "code",
   "execution_count": 14,
   "metadata": {},
   "outputs": [],
   "source": [
    "for feat in feats:\n",
    "    df[feat]=data[feat]\n",
    "    \n",
    "for eFeat in featsErr:\n",
    "    df[eFeat]=data[eFeat]"
   ]
  },
  {
   "cell_type": "code",
   "execution_count": 15,
   "metadata": {},
   "outputs": [],
   "source": [
    "df['APOGEE_ID']=data['APOGEE_ID']\n",
    "df['source_id']=data['source_id']\n",
    "df['class']=data['class']"
   ]
  },
  {
   "cell_type": "code",
   "execution_count": 16,
   "metadata": {},
   "outputs": [],
   "source": [
    "df.to_hdf('data.h5', key='df', mode='w', overwrite=True)"
   ]
  }
 ],
 "metadata": {
  "kernelspec": {
   "display_name": "Python 3",
   "language": "python",
   "name": "python3"
  },
  "language_info": {
   "codemirror_mode": {
    "name": "ipython",
    "version": 3
   },
   "file_extension": ".py",
   "mimetype": "text/x-python",
   "name": "python",
   "nbconvert_exporter": "python",
   "pygments_lexer": "ipython3",
   "version": "3.6.12"
  }
 },
 "nbformat": 4,
 "nbformat_minor": 2
}
