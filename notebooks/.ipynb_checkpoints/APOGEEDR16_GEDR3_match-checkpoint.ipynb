{
 "cells": [
  {
   "cell_type": "code",
   "execution_count": 1,
   "metadata": {},
   "outputs": [
    {
     "name": "stdout",
     "output_type": "stream",
     "text": [
      "Created TAP+ (v1.2.1) - Connection:\n",
      "\tHost: gea.esac.esa.int\n",
      "\tUse HTTPS: False\n",
      "\tPort: 80\n",
      "\tSSL Port: 443\n",
      "Created TAP+ (v1.2.1) - Connection:\n",
      "\tHost: geadata.esac.esa.int\n",
      "\tUse HTTPS: False\n",
      "\tPort: 80\n",
      "\tSSL Port: 443\n",
      "OK\n"
     ]
    }
   ],
   "source": [
    "import os\n",
    "import pathlib\n",
    "import warnings\n",
    "import numpy as np\n",
    "\n",
    "import astropy.coordinates as coord\n",
    "import astropy.table as at\n",
    "import astropy.units as u\n",
    "%matplotlib inline\n",
    "\n",
    "from astroquery.gaia import Gaia\n",
    "Gaia.login(user=\"iciuca01\", password=\"TwoProjects2019!\")"
   ]
  },
  {
   "cell_type": "code",
   "execution_count": 2,
   "metadata": {},
   "outputs": [],
   "source": [
    "with warnings.catch_warnings():\n",
    "    warnings.simplefilter('ignore')\n",
    "    col_job = Gaia.launch_job('SELECT TOP 1 * FROM gaiaedr3.gaia_source')\n",
    "colnames = col_job.get_results().colnames"
   ]
  },
  {
   "cell_type": "code",
   "execution_count": 3,
   "metadata": {},
   "outputs": [
    {
     "ename": "FileNotFoundError",
     "evalue": "[Errno 2] No such file or directory: '/Users/ioanaciuca/data/APOGEE_DR16/allStar-r12-l33.fits'",
     "output_type": "error",
     "traceback": [
      "\u001b[0;31m---------------------------------------------------------------------------\u001b[0m",
      "\u001b[0;31mFileNotFoundError\u001b[0m                         Traceback (most recent call last)",
      "\u001b[0;32m<ipython-input-3-b72051bb63f5>\u001b[0m in \u001b[0;36m<module>\u001b[0;34m\u001b[0m\n\u001b[0;32m----> 1\u001b[0;31m \u001b[0mallstar_dr16\u001b[0m \u001b[0;34m=\u001b[0m \u001b[0mat\u001b[0m\u001b[0;34m.\u001b[0m\u001b[0mTable\u001b[0m\u001b[0;34m.\u001b[0m\u001b[0mread\u001b[0m\u001b[0;34m(\u001b[0m\u001b[0;34m'/Users/ioanaciuca/data/APOGEE_DR16/allStar-r12-l33.fits'\u001b[0m\u001b[0;34m)\u001b[0m\u001b[0;34m\u001b[0m\u001b[0;34m\u001b[0m\u001b[0m\n\u001b[0m",
      "\u001b[0;32m~/anaconda3/envs/moreDL/lib/python3.6/site-packages/astropy/table/connect.py\u001b[0m in \u001b[0;36m__call__\u001b[0;34m(self, *args, **kwargs)\u001b[0m\n\u001b[1;32m     58\u001b[0m         \u001b[0mdescriptions\u001b[0m \u001b[0;34m=\u001b[0m \u001b[0mkwargs\u001b[0m\u001b[0;34m.\u001b[0m\u001b[0mpop\u001b[0m\u001b[0;34m(\u001b[0m\u001b[0;34m'descriptions'\u001b[0m\u001b[0;34m,\u001b[0m \u001b[0;32mNone\u001b[0m\u001b[0;34m)\u001b[0m\u001b[0;34m\u001b[0m\u001b[0;34m\u001b[0m\u001b[0m\n\u001b[1;32m     59\u001b[0m \u001b[0;34m\u001b[0m\u001b[0m\n\u001b[0;32m---> 60\u001b[0;31m         \u001b[0mout\u001b[0m \u001b[0;34m=\u001b[0m \u001b[0mregistry\u001b[0m\u001b[0;34m.\u001b[0m\u001b[0mread\u001b[0m\u001b[0;34m(\u001b[0m\u001b[0mcls\u001b[0m\u001b[0;34m,\u001b[0m \u001b[0;34m*\u001b[0m\u001b[0margs\u001b[0m\u001b[0;34m,\u001b[0m \u001b[0;34m**\u001b[0m\u001b[0mkwargs\u001b[0m\u001b[0;34m)\u001b[0m\u001b[0;34m\u001b[0m\u001b[0;34m\u001b[0m\u001b[0m\n\u001b[0m\u001b[1;32m     61\u001b[0m \u001b[0;34m\u001b[0m\u001b[0m\n\u001b[1;32m     62\u001b[0m         \u001b[0;31m# For some readers (e.g., ascii.ecsv), the returned `out` class is not\u001b[0m\u001b[0;34m\u001b[0m\u001b[0;34m\u001b[0m\u001b[0;34m\u001b[0m\u001b[0m\n",
      "\u001b[0;32m~/anaconda3/envs/moreDL/lib/python3.6/site-packages/astropy/io/registry.py\u001b[0m in \u001b[0;36mread\u001b[0;34m(cls, format, cache, *args, **kwargs)\u001b[0m\n\u001b[1;32m    503\u001b[0m                     \u001b[0;32mtry\u001b[0m\u001b[0;34m:\u001b[0m\u001b[0;34m\u001b[0m\u001b[0;34m\u001b[0m\u001b[0m\n\u001b[1;32m    504\u001b[0m                         \u001b[0mctx\u001b[0m \u001b[0;34m=\u001b[0m \u001b[0mget_readable_fileobj\u001b[0m\u001b[0;34m(\u001b[0m\u001b[0margs\u001b[0m\u001b[0;34m[\u001b[0m\u001b[0;36m0\u001b[0m\u001b[0;34m]\u001b[0m\u001b[0;34m,\u001b[0m \u001b[0mencoding\u001b[0m\u001b[0;34m=\u001b[0m\u001b[0;34m'binary'\u001b[0m\u001b[0;34m,\u001b[0m \u001b[0mcache\u001b[0m\u001b[0;34m=\u001b[0m\u001b[0mcache\u001b[0m\u001b[0;34m)\u001b[0m\u001b[0;34m\u001b[0m\u001b[0;34m\u001b[0m\u001b[0m\n\u001b[0;32m--> 505\u001b[0;31m                         \u001b[0mfileobj\u001b[0m \u001b[0;34m=\u001b[0m \u001b[0mctx\u001b[0m\u001b[0;34m.\u001b[0m\u001b[0m__enter__\u001b[0m\u001b[0;34m(\u001b[0m\u001b[0;34m)\u001b[0m\u001b[0;34m\u001b[0m\u001b[0;34m\u001b[0m\u001b[0m\n\u001b[0m\u001b[1;32m    506\u001b[0m                     \u001b[0;32mexcept\u001b[0m \u001b[0mOSError\u001b[0m\u001b[0;34m:\u001b[0m\u001b[0;34m\u001b[0m\u001b[0;34m\u001b[0m\u001b[0m\n\u001b[1;32m    507\u001b[0m                         \u001b[0;32mraise\u001b[0m\u001b[0;34m\u001b[0m\u001b[0;34m\u001b[0m\u001b[0m\n",
      "\u001b[0;32m~/anaconda3/envs/moreDL/lib/python3.6/contextlib.py\u001b[0m in \u001b[0;36m__enter__\u001b[0;34m(self)\u001b[0m\n\u001b[1;32m     79\u001b[0m     \u001b[0;32mdef\u001b[0m \u001b[0m__enter__\u001b[0m\u001b[0;34m(\u001b[0m\u001b[0mself\u001b[0m\u001b[0;34m)\u001b[0m\u001b[0;34m:\u001b[0m\u001b[0;34m\u001b[0m\u001b[0;34m\u001b[0m\u001b[0m\n\u001b[1;32m     80\u001b[0m         \u001b[0;32mtry\u001b[0m\u001b[0;34m:\u001b[0m\u001b[0;34m\u001b[0m\u001b[0;34m\u001b[0m\u001b[0m\n\u001b[0;32m---> 81\u001b[0;31m             \u001b[0;32mreturn\u001b[0m \u001b[0mnext\u001b[0m\u001b[0;34m(\u001b[0m\u001b[0mself\u001b[0m\u001b[0;34m.\u001b[0m\u001b[0mgen\u001b[0m\u001b[0;34m)\u001b[0m\u001b[0;34m\u001b[0m\u001b[0;34m\u001b[0m\u001b[0m\n\u001b[0m\u001b[1;32m     82\u001b[0m         \u001b[0;32mexcept\u001b[0m \u001b[0mStopIteration\u001b[0m\u001b[0;34m:\u001b[0m\u001b[0;34m\u001b[0m\u001b[0;34m\u001b[0m\u001b[0m\n\u001b[1;32m     83\u001b[0m             \u001b[0;32mraise\u001b[0m \u001b[0mRuntimeError\u001b[0m\u001b[0;34m(\u001b[0m\u001b[0;34m\"generator didn't yield\"\u001b[0m\u001b[0;34m)\u001b[0m \u001b[0;32mfrom\u001b[0m \u001b[0;32mNone\u001b[0m\u001b[0;34m\u001b[0m\u001b[0;34m\u001b[0m\u001b[0m\n",
      "\u001b[0;32m~/anaconda3/envs/moreDL/lib/python3.6/site-packages/astropy/utils/data.py\u001b[0m in \u001b[0;36mget_readable_fileobj\u001b[0;34m(name_or_obj, encoding, cache, show_progress, remote_timeout, sources, http_headers)\u001b[0m\n\u001b[1;32m    236\u001b[0m                 \u001b[0mtimeout\u001b[0m\u001b[0;34m=\u001b[0m\u001b[0mremote_timeout\u001b[0m\u001b[0;34m,\u001b[0m \u001b[0msources\u001b[0m\u001b[0;34m=\u001b[0m\u001b[0msources\u001b[0m\u001b[0;34m,\u001b[0m\u001b[0;34m\u001b[0m\u001b[0;34m\u001b[0m\u001b[0m\n\u001b[1;32m    237\u001b[0m                 http_headers=http_headers)\n\u001b[0;32m--> 238\u001b[0;31m         \u001b[0mfileobj\u001b[0m \u001b[0;34m=\u001b[0m \u001b[0mio\u001b[0m\u001b[0;34m.\u001b[0m\u001b[0mFileIO\u001b[0m\u001b[0;34m(\u001b[0m\u001b[0mname_or_obj\u001b[0m\u001b[0;34m,\u001b[0m \u001b[0;34m'r'\u001b[0m\u001b[0;34m)\u001b[0m\u001b[0;34m\u001b[0m\u001b[0;34m\u001b[0m\u001b[0m\n\u001b[0m\u001b[1;32m    239\u001b[0m         \u001b[0;32mif\u001b[0m \u001b[0mis_url\u001b[0m \u001b[0;32mand\u001b[0m \u001b[0;32mnot\u001b[0m \u001b[0mcache\u001b[0m\u001b[0;34m:\u001b[0m\u001b[0;34m\u001b[0m\u001b[0;34m\u001b[0m\u001b[0m\n\u001b[1;32m    240\u001b[0m             \u001b[0mdelete_fds\u001b[0m\u001b[0;34m.\u001b[0m\u001b[0mappend\u001b[0m\u001b[0;34m(\u001b[0m\u001b[0mfileobj\u001b[0m\u001b[0;34m)\u001b[0m\u001b[0;34m\u001b[0m\u001b[0;34m\u001b[0m\u001b[0m\n",
      "\u001b[0;31mFileNotFoundError\u001b[0m: [Errno 2] No such file or directory: '/Users/ioanaciuca/data/APOGEE_DR16/allStar-r12-l33.fits'"
     ]
    }
   ],
   "source": [
    "allstar_dr16 = at.Table.read('/Users/ioanaciuca/data/APOGEE_DR16/allStar-r12-l33.fits')"
   ]
  },
  {
   "cell_type": "code",
   "execution_count": 15,
   "metadata": {},
   "outputs": [],
   "source": [
    "xm_tablename = 'apogee_dr16'"
   ]
  },
  {
   "cell_type": "code",
   "execution_count": 16,
   "metadata": {},
   "outputs": [
    {
     "name": "stdout",
     "output_type": "stream",
     "text": [
      "500 Error 500:\n",
      "Can not execute the following SQL: \n",
      "DROP TABLE user_iciuca01.apogee_dr16\n",
      ". Because: ERROR: table \"apogee_dr16\" does not exist\n",
      "ERROR Error 500:\n",
      "Can not execute the following SQL: \n",
      "DROP TABLE user_iciuca01.apogee_dr16\n",
      ". Because: ERROR: table \"apogee_dr16\" does not exist\n"
     ]
    }
   ],
   "source": [
    "try:\n",
    "    Gaia.delete_user_table(xm_tablename)\n",
    "except Exception as e:\n",
    "    print('ERROR ' + str(e))"
   ]
  },
  {
   "cell_type": "code",
   "execution_count": 17,
   "metadata": {},
   "outputs": [
    {
     "name": "stdout",
     "output_type": "stream",
     "text": [
      "437445\n"
     ]
    }
   ],
   "source": [
    "tmp = allstar_dr16['APOGEE_ID', 'RA', 'DEC', 'GAIA_SOURCE_ID']\n",
    "tmp.rename_column('GAIA_SOURCE_ID', 'source_id')\n",
    "tmp = at.unique(tmp, keys='APOGEE_ID')\n",
    "print(len(tmp))"
   ]
  },
  {
   "cell_type": "code",
   "execution_count": 18,
   "metadata": {},
   "outputs": [
    {
     "name": "stdout",
     "output_type": "stream",
     "text": [
      "Sending pytable.\n",
      "Uploaded table 'apogee_dr16'.\n"
     ]
    },
    {
     "data": {
      "text/plain": [
       "\"Table 'apogee_dr16' updated (ra/dec).\""
      ]
     },
     "execution_count": 18,
     "metadata": {},
     "output_type": "execute_result"
    }
   ],
   "source": [
    "Gaia.upload_table(tmp, table_name=xm_tablename)\n",
    "Gaia.set_ra_dec_columns(xm_tablename, 'ra', 'dec')"
   ]
  },
  {
   "cell_type": "code",
   "execution_count": 22,
   "metadata": {},
   "outputs": [
    {
     "name": "stdout",
     "output_type": "stream",
     "text": [
      "SELECT subq.apogee_id, subq.solution_id, subq.designation, subq.source_id, subq.random_index, subq.ref_epoch, subq.ra, subq.ra_error, subq.dec, subq.dec_error, subq.parallax, subq.parallax_error, subq.parallax_over_error, subq.pm, subq.pmra, subq.pmra_error, subq.pmdec, subq.pmdec_error, subq.ra_dec_corr, subq.ra_parallax_corr, subq.ra_pmra_corr, subq.ra_pmdec_corr, subq.dec_parallax_corr, subq.dec_pmra_corr, subq.dec_pmdec_corr, subq.parallax_pmra_corr, subq.parallax_pmdec_corr, subq.pmra_pmdec_corr, subq.astrometric_n_obs_al, subq.astrometric_n_obs_ac, subq.astrometric_n_good_obs_al, subq.astrometric_n_bad_obs_al, subq.astrometric_gof_al, subq.astrometric_chi2_al, subq.astrometric_excess_noise, subq.astrometric_excess_noise_sig, subq.astrometric_params_solved, subq.astrometric_primary_flag, subq.nu_eff_used_in_astrometry, subq.pseudocolour, subq.pseudocolour_error, subq.ra_pseudocolour_corr, subq.dec_pseudocolour_corr, subq.parallax_pseudocolour_corr, subq.pmra_pseudocolour_corr, subq.pmdec_pseudocolour_corr, subq.astrometric_matched_transits, subq.visibility_periods_used, subq.astrometric_sigma5d_max, subq.matched_transits, subq.new_matched_transits, subq.matched_transits_removed, subq.ipd_gof_harmonic_amplitude, subq.ipd_gof_harmonic_phase, subq.ipd_frac_multi_peak, subq.ipd_frac_odd_win, subq.ruwe, subq.scan_direction_strength_k1, subq.scan_direction_strength_k2, subq.scan_direction_strength_k3, subq.scan_direction_strength_k4, subq.scan_direction_mean_k1, subq.scan_direction_mean_k2, subq.scan_direction_mean_k3, subq.scan_direction_mean_k4, subq.duplicated_source, subq.phot_g_n_obs, subq.phot_g_mean_flux, subq.phot_g_mean_flux_error, subq.phot_g_mean_flux_over_error, subq.phot_g_mean_mag, subq.phot_bp_n_obs, subq.phot_bp_mean_flux, subq.phot_bp_mean_flux_error, subq.phot_bp_mean_flux_over_error, subq.phot_bp_mean_mag, subq.phot_rp_n_obs, subq.phot_rp_mean_flux, subq.phot_rp_mean_flux_error, subq.phot_rp_mean_flux_over_error, subq.phot_rp_mean_mag, subq.phot_bp_n_contaminated_transits, subq.phot_bp_n_blended_transits, subq.phot_rp_n_contaminated_transits, subq.phot_rp_n_blended_transits, subq.phot_proc_mode, subq.phot_bp_rp_excess_factor, subq.bp_rp, subq.bp_g, subq.g_rp, subq.dr2_radial_velocity, subq.dr2_radial_velocity_error, subq.dr2_rv_nb_transits, subq.dr2_rv_template_teff, subq.dr2_rv_template_logg, subq.dr2_rv_template_fe_h, subq.l, subq.b, subq.ecl_lon, subq.ecl_lat\n",
      "FROM (\n",
      "    SELECT apogee.apogee_id, apogee.ra as apogee_ra, apogee.dec as apogee_dec, gaia.*\n",
      "    FROM user_iciuca01.apogee_dr16 AS apogee, gaiaedr3.gaia_source as gaia\n",
      "    WHERE \n",
      "        contains(POINT('ICRS', apogee.ra, apogee.dec),\n",
      "                 CIRCLE('ICRS', gaia.ra, gaia.dec, 0.00556))=1\n",
      "    OFFSET 0\n",
      ") AS subq\n",
      "WHERE \n",
      "    contains(POINT('ICRS', subq.ra + subq.pmra / 3600e3  * (1999.0 - subq.ref_epoch) / COS(RADIANS(subq.dec)), \n",
      "                           subq.dec + subq.pmdec / 3600e3 * (1999.0 - subq.ref_epoch)),\n",
      "             CIRCLE('ICRS', subq.apogee_ra, subq.apogee_dec, 0.00111))=1\n",
      "\n",
      "\n"
     ]
    }
   ],
   "source": [
    "tmass_epoch = 1999. # the mean 2MASS epoch, apparently\n",
    "init_radius = 20 * u.arcsec\n",
    "after_radius = 4 * u.arcsec\n",
    "colnames_str = \", \".join(['subq.' + x for x in colnames])\n",
    "\n",
    "q = f'''SELECT subq.apogee_id, {colnames_str}\n",
    "FROM (\n",
    "    SELECT apogee.apogee_id, apogee.ra as apogee_ra, apogee.dec as apogee_dec, gaia.*\n",
    "    FROM user_iciuca01.{xm_tablename} AS apogee, gaiaedr3.gaia_source as gaia\n",
    "    WHERE \n",
    "        contains(POINT('ICRS', apogee.ra, apogee.dec),\n",
    "                 CIRCLE('ICRS', gaia.ra, gaia.dec, {init_radius.to_value(u.deg):.5f}))=1\n",
    "    OFFSET 0\n",
    ") AS subq\n",
    "WHERE \n",
    "    contains(POINT('ICRS', subq.ra + subq.pmra / 3600e3  * ({tmass_epoch:.1f} - subq.ref_epoch) / COS(RADIANS(subq.dec)), \n",
    "                           subq.dec + subq.pmdec / 3600e3 * ({tmass_epoch:.1f} - subq.ref_epoch)),\n",
    "             CIRCLE('ICRS', subq.apogee_ra, subq.apogee_dec, {after_radius.to_value(u.deg):.5f}))=1\n",
    "\n",
    "'''\n",
    "print(q)"
   ]
  },
  {
   "cell_type": "code",
   "execution_count": 23,
   "metadata": {},
   "outputs": [
    {
     "name": "stdout",
     "output_type": "stream",
     "text": [
      "INFO: Query finished. [astroquery.utils.tap.core]\n"
     ]
    }
   ],
   "source": [
    "with warnings.catch_warnings():\n",
    "    warnings.simplefilter('ignore')\n",
    "    job = Gaia.launch_job_async(q, name='APOGEE_DR16_EDR3')"
   ]
  },
  {
   "cell_type": "code",
   "execution_count": 24,
   "metadata": {},
   "outputs": [
    {
     "name": "stdout",
     "output_type": "stream",
     "text": [
      "apogee_id\n",
      "designation\n"
     ]
    }
   ],
   "source": [
    "res = job.get_results()\n",
    "\n",
    "for col in res.colnames:\n",
    "    if res[col].dtype == object:\n",
    "        print(col)\n",
    "        res[col] = res[col].astype(str)\n",
    "        \n",
    "res.rename_column('apogee_id', 'APOGEE_ID')\n",
    "res = at.unique(res, keys=['APOGEE_ID', 'source_id'])"
   ]
  },
  {
   "cell_type": "code",
   "execution_count": 25,
   "metadata": {},
   "outputs": [
    {
     "data": {
      "text/plain": [
       "(437445, 547946)"
      ]
     },
     "execution_count": 25,
     "metadata": {},
     "output_type": "execute_result"
    }
   ],
   "source": [
    "len(tmp), len(res)"
   ]
  },
  {
   "cell_type": "code",
   "execution_count": 26,
   "metadata": {},
   "outputs": [],
   "source": [
    "df = res['APOGEE_ID', 'phot_rp_mean_mag'].to_pandas()\n",
    "df['phot_rp_mean_mag'] = df['phot_rp_mean_mag'].fillna(9999.)\n",
    "idx = df.groupby('APOGEE_ID')['phot_rp_mean_mag'].idxmin().values.astype('i8')"
   ]
  },
  {
   "cell_type": "code",
   "execution_count": 27,
   "metadata": {},
   "outputs": [],
   "source": [
    "unq_res = res[idx]\n",
    "joined = at.join(unq_res, allstar_dr16, keys='APOGEE_ID')\n",
    "joined = at.unique(joined, keys=('APOGEE_ID', 'source_id'))"
   ]
  },
  {
   "cell_type": "code",
   "execution_count": 28,
   "metadata": {},
   "outputs": [
    {
     "data": {
      "text/plain": [
       "(437445, 547946, 430244, 430244)"
      ]
     },
     "execution_count": 28,
     "metadata": {},
     "output_type": "execute_result"
    }
   ],
   "source": [
    "len(tmp), len(df), len(idx), len(joined)"
   ]
  },
  {
   "cell_type": "code",
   "execution_count": 29,
   "metadata": {},
   "outputs": [
    {
     "name": "stderr",
     "output_type": "stream",
     "text": [
      "WARNING: Format {!r:>} cannot be mapped to the accepted TDISPn keyword values.  Format will not be moved into TDISPn keyword. [astropy.io.fits.column]\n"
     ]
    }
   ],
   "source": [
    "unq_res.write('/Users/ioanaciuca/data/APOGEE_DR16/allStar-r12-gaiaedr3-xmatch.fits',\n",
    "              overwrite=True)"
   ]
  },
  {
   "cell_type": "code",
   "execution_count": 30,
   "metadata": {},
   "outputs": [],
   "source": [
    "joined.write('/Users/ioanaciuca/data/APOGEE_DR16/allStar-r12-gaiaedr3.fits',\n",
    "             overwrite=True)"
   ]
  },
  {
   "cell_type": "code",
   "execution_count": null,
   "metadata": {},
   "outputs": [],
   "source": []
  }
 ],
 "metadata": {
  "kernelspec": {
   "display_name": "Python 3",
   "language": "python",
   "name": "python3"
  },
  "language_info": {
   "codemirror_mode": {
    "name": "ipython",
    "version": 3
   },
   "file_extension": ".py",
   "mimetype": "text/x-python",
   "name": "python",
   "nbconvert_exporter": "python",
   "pygments_lexer": "ipython3",
   "version": "3.6.12"
  }
 },
 "nbformat": 4,
 "nbformat_minor": 2
}
